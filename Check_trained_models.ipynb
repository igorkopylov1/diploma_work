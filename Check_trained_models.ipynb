{
  "nbformat": 4,
  "nbformat_minor": 0,
  "metadata": {
    "colab": {
      "provenance": [],
      "machine_shape": "hm",
      "gpuType": "A100"
    },
    "kernelspec": {
      "name": "python3",
      "display_name": "Python 3"
    },
    "language_info": {
      "name": "python"
    },
    "widgets": {
      "application/vnd.jupyter.widget-state+json": {
        "1e646ac33e914d9792825966d6ed320d": {
          "model_module": "@jupyter-widgets/controls",
          "model_name": "HBoxModel",
          "model_module_version": "1.5.0",
          "state": {
            "_dom_classes": [],
            "_model_module": "@jupyter-widgets/controls",
            "_model_module_version": "1.5.0",
            "_model_name": "HBoxModel",
            "_view_count": null,
            "_view_module": "@jupyter-widgets/controls",
            "_view_module_version": "1.5.0",
            "_view_name": "HBoxView",
            "box_style": "",
            "children": [
              "IPY_MODEL_639313cce77b4fdcb7191dcd6173c541",
              "IPY_MODEL_fbf5e28fa7c3481eab1092bd61cebdee",
              "IPY_MODEL_a4837c9d6c9b49058529e1b825b8199a"
            ],
            "layout": "IPY_MODEL_22c94d6669074c9bb91a214e8d8dc883"
          }
        },
        "639313cce77b4fdcb7191dcd6173c541": {
          "model_module": "@jupyter-widgets/controls",
          "model_name": "HTMLModel",
          "model_module_version": "1.5.0",
          "state": {
            "_dom_classes": [],
            "_model_module": "@jupyter-widgets/controls",
            "_model_module_version": "1.5.0",
            "_model_name": "HTMLModel",
            "_view_count": null,
            "_view_module": "@jupyter-widgets/controls",
            "_view_module_version": "1.5.0",
            "_view_name": "HTMLView",
            "description": "",
            "description_tooltip": null,
            "layout": "IPY_MODEL_6feb4ac1af414974959945f0e5911e18",
            "placeholder": "​",
            "style": "IPY_MODEL_d249a8ec629d436abe7909740ad6dabe",
            "value": "Generating train split: "
          }
        },
        "fbf5e28fa7c3481eab1092bd61cebdee": {
          "model_module": "@jupyter-widgets/controls",
          "model_name": "FloatProgressModel",
          "model_module_version": "1.5.0",
          "state": {
            "_dom_classes": [],
            "_model_module": "@jupyter-widgets/controls",
            "_model_module_version": "1.5.0",
            "_model_name": "FloatProgressModel",
            "_view_count": null,
            "_view_module": "@jupyter-widgets/controls",
            "_view_module_version": "1.5.0",
            "_view_name": "ProgressView",
            "bar_style": "success",
            "description": "",
            "description_tooltip": null,
            "layout": "IPY_MODEL_53927e33bb3441b4a1302941359c8b5e",
            "max": 1,
            "min": 0,
            "orientation": "horizontal",
            "style": "IPY_MODEL_6829f60ae9844df592ed95776bd65f7b",
            "value": 1
          }
        },
        "a4837c9d6c9b49058529e1b825b8199a": {
          "model_module": "@jupyter-widgets/controls",
          "model_name": "HTMLModel",
          "model_module_version": "1.5.0",
          "state": {
            "_dom_classes": [],
            "_model_module": "@jupyter-widgets/controls",
            "_model_module_version": "1.5.0",
            "_model_name": "HTMLModel",
            "_view_count": null,
            "_view_module": "@jupyter-widgets/controls",
            "_view_module_version": "1.5.0",
            "_view_name": "HTMLView",
            "description": "",
            "description_tooltip": null,
            "layout": "IPY_MODEL_faa906bf0a504a2b9bb0d864e615ad8a",
            "placeholder": "​",
            "style": "IPY_MODEL_497cfb88a76048d1b733c549260c8c86",
            "value": " 1001/0 [00:00&lt;00:00, 22527.76 examples/s]"
          }
        },
        "22c94d6669074c9bb91a214e8d8dc883": {
          "model_module": "@jupyter-widgets/base",
          "model_name": "LayoutModel",
          "model_module_version": "1.2.0",
          "state": {
            "_model_module": "@jupyter-widgets/base",
            "_model_module_version": "1.2.0",
            "_model_name": "LayoutModel",
            "_view_count": null,
            "_view_module": "@jupyter-widgets/base",
            "_view_module_version": "1.2.0",
            "_view_name": "LayoutView",
            "align_content": null,
            "align_items": null,
            "align_self": null,
            "border": null,
            "bottom": null,
            "display": null,
            "flex": null,
            "flex_flow": null,
            "grid_area": null,
            "grid_auto_columns": null,
            "grid_auto_flow": null,
            "grid_auto_rows": null,
            "grid_column": null,
            "grid_gap": null,
            "grid_row": null,
            "grid_template_areas": null,
            "grid_template_columns": null,
            "grid_template_rows": null,
            "height": null,
            "justify_content": null,
            "justify_items": null,
            "left": null,
            "margin": null,
            "max_height": null,
            "max_width": null,
            "min_height": null,
            "min_width": null,
            "object_fit": null,
            "object_position": null,
            "order": null,
            "overflow": null,
            "overflow_x": null,
            "overflow_y": null,
            "padding": null,
            "right": null,
            "top": null,
            "visibility": null,
            "width": null
          }
        },
        "6feb4ac1af414974959945f0e5911e18": {
          "model_module": "@jupyter-widgets/base",
          "model_name": "LayoutModel",
          "model_module_version": "1.2.0",
          "state": {
            "_model_module": "@jupyter-widgets/base",
            "_model_module_version": "1.2.0",
            "_model_name": "LayoutModel",
            "_view_count": null,
            "_view_module": "@jupyter-widgets/base",
            "_view_module_version": "1.2.0",
            "_view_name": "LayoutView",
            "align_content": null,
            "align_items": null,
            "align_self": null,
            "border": null,
            "bottom": null,
            "display": null,
            "flex": null,
            "flex_flow": null,
            "grid_area": null,
            "grid_auto_columns": null,
            "grid_auto_flow": null,
            "grid_auto_rows": null,
            "grid_column": null,
            "grid_gap": null,
            "grid_row": null,
            "grid_template_areas": null,
            "grid_template_columns": null,
            "grid_template_rows": null,
            "height": null,
            "justify_content": null,
            "justify_items": null,
            "left": null,
            "margin": null,
            "max_height": null,
            "max_width": null,
            "min_height": null,
            "min_width": null,
            "object_fit": null,
            "object_position": null,
            "order": null,
            "overflow": null,
            "overflow_x": null,
            "overflow_y": null,
            "padding": null,
            "right": null,
            "top": null,
            "visibility": null,
            "width": null
          }
        },
        "d249a8ec629d436abe7909740ad6dabe": {
          "model_module": "@jupyter-widgets/controls",
          "model_name": "DescriptionStyleModel",
          "model_module_version": "1.5.0",
          "state": {
            "_model_module": "@jupyter-widgets/controls",
            "_model_module_version": "1.5.0",
            "_model_name": "DescriptionStyleModel",
            "_view_count": null,
            "_view_module": "@jupyter-widgets/base",
            "_view_module_version": "1.2.0",
            "_view_name": "StyleView",
            "description_width": ""
          }
        },
        "53927e33bb3441b4a1302941359c8b5e": {
          "model_module": "@jupyter-widgets/base",
          "model_name": "LayoutModel",
          "model_module_version": "1.2.0",
          "state": {
            "_model_module": "@jupyter-widgets/base",
            "_model_module_version": "1.2.0",
            "_model_name": "LayoutModel",
            "_view_count": null,
            "_view_module": "@jupyter-widgets/base",
            "_view_module_version": "1.2.0",
            "_view_name": "LayoutView",
            "align_content": null,
            "align_items": null,
            "align_self": null,
            "border": null,
            "bottom": null,
            "display": null,
            "flex": null,
            "flex_flow": null,
            "grid_area": null,
            "grid_auto_columns": null,
            "grid_auto_flow": null,
            "grid_auto_rows": null,
            "grid_column": null,
            "grid_gap": null,
            "grid_row": null,
            "grid_template_areas": null,
            "grid_template_columns": null,
            "grid_template_rows": null,
            "height": null,
            "justify_content": null,
            "justify_items": null,
            "left": null,
            "margin": null,
            "max_height": null,
            "max_width": null,
            "min_height": null,
            "min_width": null,
            "object_fit": null,
            "object_position": null,
            "order": null,
            "overflow": null,
            "overflow_x": null,
            "overflow_y": null,
            "padding": null,
            "right": null,
            "top": null,
            "visibility": null,
            "width": "20px"
          }
        },
        "6829f60ae9844df592ed95776bd65f7b": {
          "model_module": "@jupyter-widgets/controls",
          "model_name": "ProgressStyleModel",
          "model_module_version": "1.5.0",
          "state": {
            "_model_module": "@jupyter-widgets/controls",
            "_model_module_version": "1.5.0",
            "_model_name": "ProgressStyleModel",
            "_view_count": null,
            "_view_module": "@jupyter-widgets/base",
            "_view_module_version": "1.2.0",
            "_view_name": "StyleView",
            "bar_color": null,
            "description_width": ""
          }
        },
        "faa906bf0a504a2b9bb0d864e615ad8a": {
          "model_module": "@jupyter-widgets/base",
          "model_name": "LayoutModel",
          "model_module_version": "1.2.0",
          "state": {
            "_model_module": "@jupyter-widgets/base",
            "_model_module_version": "1.2.0",
            "_model_name": "LayoutModel",
            "_view_count": null,
            "_view_module": "@jupyter-widgets/base",
            "_view_module_version": "1.2.0",
            "_view_name": "LayoutView",
            "align_content": null,
            "align_items": null,
            "align_self": null,
            "border": null,
            "bottom": null,
            "display": null,
            "flex": null,
            "flex_flow": null,
            "grid_area": null,
            "grid_auto_columns": null,
            "grid_auto_flow": null,
            "grid_auto_rows": null,
            "grid_column": null,
            "grid_gap": null,
            "grid_row": null,
            "grid_template_areas": null,
            "grid_template_columns": null,
            "grid_template_rows": null,
            "height": null,
            "justify_content": null,
            "justify_items": null,
            "left": null,
            "margin": null,
            "max_height": null,
            "max_width": null,
            "min_height": null,
            "min_width": null,
            "object_fit": null,
            "object_position": null,
            "order": null,
            "overflow": null,
            "overflow_x": null,
            "overflow_y": null,
            "padding": null,
            "right": null,
            "top": null,
            "visibility": null,
            "width": null
          }
        },
        "497cfb88a76048d1b733c549260c8c86": {
          "model_module": "@jupyter-widgets/controls",
          "model_name": "DescriptionStyleModel",
          "model_module_version": "1.5.0",
          "state": {
            "_model_module": "@jupyter-widgets/controls",
            "_model_module_version": "1.5.0",
            "_model_name": "DescriptionStyleModel",
            "_view_count": null,
            "_view_module": "@jupyter-widgets/base",
            "_view_module_version": "1.2.0",
            "_view_name": "StyleView",
            "description_width": ""
          }
        },
        "c676ceb1c05b4d1da69defd9d76dd1da": {
          "model_module": "@jupyter-widgets/controls",
          "model_name": "HBoxModel",
          "model_module_version": "1.5.0",
          "state": {
            "_dom_classes": [],
            "_model_module": "@jupyter-widgets/controls",
            "_model_module_version": "1.5.0",
            "_model_name": "HBoxModel",
            "_view_count": null,
            "_view_module": "@jupyter-widgets/controls",
            "_view_module_version": "1.5.0",
            "_view_name": "HBoxView",
            "box_style": "",
            "children": [
              "IPY_MODEL_3270ae2b30ee4deea2f266381696d3ed",
              "IPY_MODEL_5250a88c87dc4ae38f88c0dca11068c8",
              "IPY_MODEL_3c7498773f494d8c9d140b74919ec474"
            ],
            "layout": "IPY_MODEL_0735c6271825496f88ce8c69653cf358"
          }
        },
        "3270ae2b30ee4deea2f266381696d3ed": {
          "model_module": "@jupyter-widgets/controls",
          "model_name": "HTMLModel",
          "model_module_version": "1.5.0",
          "state": {
            "_dom_classes": [],
            "_model_module": "@jupyter-widgets/controls",
            "_model_module_version": "1.5.0",
            "_model_name": "HTMLModel",
            "_view_count": null,
            "_view_module": "@jupyter-widgets/controls",
            "_view_module_version": "1.5.0",
            "_view_name": "HTMLView",
            "description": "",
            "description_tooltip": null,
            "layout": "IPY_MODEL_cf94e8cbc71c45c1a7b159af3d0f25c5",
            "placeholder": "​",
            "style": "IPY_MODEL_7c65fe2abcb04e0f9d19631ee82be9cb",
            "value": "Map: 100%"
          }
        },
        "5250a88c87dc4ae38f88c0dca11068c8": {
          "model_module": "@jupyter-widgets/controls",
          "model_name": "FloatProgressModel",
          "model_module_version": "1.5.0",
          "state": {
            "_dom_classes": [],
            "_model_module": "@jupyter-widgets/controls",
            "_model_module_version": "1.5.0",
            "_model_name": "FloatProgressModel",
            "_view_count": null,
            "_view_module": "@jupyter-widgets/controls",
            "_view_module_version": "1.5.0",
            "_view_name": "ProgressView",
            "bar_style": "success",
            "description": "",
            "description_tooltip": null,
            "layout": "IPY_MODEL_5a6f10f9c6984595a5c7886db0a4fecd",
            "max": 1001,
            "min": 0,
            "orientation": "horizontal",
            "style": "IPY_MODEL_a9bbc3d4e69a41aba1259cd5309f08a2",
            "value": 1001
          }
        },
        "3c7498773f494d8c9d140b74919ec474": {
          "model_module": "@jupyter-widgets/controls",
          "model_name": "HTMLModel",
          "model_module_version": "1.5.0",
          "state": {
            "_dom_classes": [],
            "_model_module": "@jupyter-widgets/controls",
            "_model_module_version": "1.5.0",
            "_model_name": "HTMLModel",
            "_view_count": null,
            "_view_module": "@jupyter-widgets/controls",
            "_view_module_version": "1.5.0",
            "_view_name": "HTMLView",
            "description": "",
            "description_tooltip": null,
            "layout": "IPY_MODEL_77d91d19a58d41cfb027ee6e9b9009c1",
            "placeholder": "​",
            "style": "IPY_MODEL_64a50ef17a1a43f9bf783338b2689407",
            "value": " 1001/1001 [00:00&lt;00:00, 43720.69 examples/s]"
          }
        },
        "0735c6271825496f88ce8c69653cf358": {
          "model_module": "@jupyter-widgets/base",
          "model_name": "LayoutModel",
          "model_module_version": "1.2.0",
          "state": {
            "_model_module": "@jupyter-widgets/base",
            "_model_module_version": "1.2.0",
            "_model_name": "LayoutModel",
            "_view_count": null,
            "_view_module": "@jupyter-widgets/base",
            "_view_module_version": "1.2.0",
            "_view_name": "LayoutView",
            "align_content": null,
            "align_items": null,
            "align_self": null,
            "border": null,
            "bottom": null,
            "display": null,
            "flex": null,
            "flex_flow": null,
            "grid_area": null,
            "grid_auto_columns": null,
            "grid_auto_flow": null,
            "grid_auto_rows": null,
            "grid_column": null,
            "grid_gap": null,
            "grid_row": null,
            "grid_template_areas": null,
            "grid_template_columns": null,
            "grid_template_rows": null,
            "height": null,
            "justify_content": null,
            "justify_items": null,
            "left": null,
            "margin": null,
            "max_height": null,
            "max_width": null,
            "min_height": null,
            "min_width": null,
            "object_fit": null,
            "object_position": null,
            "order": null,
            "overflow": null,
            "overflow_x": null,
            "overflow_y": null,
            "padding": null,
            "right": null,
            "top": null,
            "visibility": null,
            "width": null
          }
        },
        "cf94e8cbc71c45c1a7b159af3d0f25c5": {
          "model_module": "@jupyter-widgets/base",
          "model_name": "LayoutModel",
          "model_module_version": "1.2.0",
          "state": {
            "_model_module": "@jupyter-widgets/base",
            "_model_module_version": "1.2.0",
            "_model_name": "LayoutModel",
            "_view_count": null,
            "_view_module": "@jupyter-widgets/base",
            "_view_module_version": "1.2.0",
            "_view_name": "LayoutView",
            "align_content": null,
            "align_items": null,
            "align_self": null,
            "border": null,
            "bottom": null,
            "display": null,
            "flex": null,
            "flex_flow": null,
            "grid_area": null,
            "grid_auto_columns": null,
            "grid_auto_flow": null,
            "grid_auto_rows": null,
            "grid_column": null,
            "grid_gap": null,
            "grid_row": null,
            "grid_template_areas": null,
            "grid_template_columns": null,
            "grid_template_rows": null,
            "height": null,
            "justify_content": null,
            "justify_items": null,
            "left": null,
            "margin": null,
            "max_height": null,
            "max_width": null,
            "min_height": null,
            "min_width": null,
            "object_fit": null,
            "object_position": null,
            "order": null,
            "overflow": null,
            "overflow_x": null,
            "overflow_y": null,
            "padding": null,
            "right": null,
            "top": null,
            "visibility": null,
            "width": null
          }
        },
        "7c65fe2abcb04e0f9d19631ee82be9cb": {
          "model_module": "@jupyter-widgets/controls",
          "model_name": "DescriptionStyleModel",
          "model_module_version": "1.5.0",
          "state": {
            "_model_module": "@jupyter-widgets/controls",
            "_model_module_version": "1.5.0",
            "_model_name": "DescriptionStyleModel",
            "_view_count": null,
            "_view_module": "@jupyter-widgets/base",
            "_view_module_version": "1.2.0",
            "_view_name": "StyleView",
            "description_width": ""
          }
        },
        "5a6f10f9c6984595a5c7886db0a4fecd": {
          "model_module": "@jupyter-widgets/base",
          "model_name": "LayoutModel",
          "model_module_version": "1.2.0",
          "state": {
            "_model_module": "@jupyter-widgets/base",
            "_model_module_version": "1.2.0",
            "_model_name": "LayoutModel",
            "_view_count": null,
            "_view_module": "@jupyter-widgets/base",
            "_view_module_version": "1.2.0",
            "_view_name": "LayoutView",
            "align_content": null,
            "align_items": null,
            "align_self": null,
            "border": null,
            "bottom": null,
            "display": null,
            "flex": null,
            "flex_flow": null,
            "grid_area": null,
            "grid_auto_columns": null,
            "grid_auto_flow": null,
            "grid_auto_rows": null,
            "grid_column": null,
            "grid_gap": null,
            "grid_row": null,
            "grid_template_areas": null,
            "grid_template_columns": null,
            "grid_template_rows": null,
            "height": null,
            "justify_content": null,
            "justify_items": null,
            "left": null,
            "margin": null,
            "max_height": null,
            "max_width": null,
            "min_height": null,
            "min_width": null,
            "object_fit": null,
            "object_position": null,
            "order": null,
            "overflow": null,
            "overflow_x": null,
            "overflow_y": null,
            "padding": null,
            "right": null,
            "top": null,
            "visibility": null,
            "width": null
          }
        },
        "a9bbc3d4e69a41aba1259cd5309f08a2": {
          "model_module": "@jupyter-widgets/controls",
          "model_name": "ProgressStyleModel",
          "model_module_version": "1.5.0",
          "state": {
            "_model_module": "@jupyter-widgets/controls",
            "_model_module_version": "1.5.0",
            "_model_name": "ProgressStyleModel",
            "_view_count": null,
            "_view_module": "@jupyter-widgets/base",
            "_view_module_version": "1.2.0",
            "_view_name": "StyleView",
            "bar_color": null,
            "description_width": ""
          }
        },
        "77d91d19a58d41cfb027ee6e9b9009c1": {
          "model_module": "@jupyter-widgets/base",
          "model_name": "LayoutModel",
          "model_module_version": "1.2.0",
          "state": {
            "_model_module": "@jupyter-widgets/base",
            "_model_module_version": "1.2.0",
            "_model_name": "LayoutModel",
            "_view_count": null,
            "_view_module": "@jupyter-widgets/base",
            "_view_module_version": "1.2.0",
            "_view_name": "LayoutView",
            "align_content": null,
            "align_items": null,
            "align_self": null,
            "border": null,
            "bottom": null,
            "display": null,
            "flex": null,
            "flex_flow": null,
            "grid_area": null,
            "grid_auto_columns": null,
            "grid_auto_flow": null,
            "grid_auto_rows": null,
            "grid_column": null,
            "grid_gap": null,
            "grid_row": null,
            "grid_template_areas": null,
            "grid_template_columns": null,
            "grid_template_rows": null,
            "height": null,
            "justify_content": null,
            "justify_items": null,
            "left": null,
            "margin": null,
            "max_height": null,
            "max_width": null,
            "min_height": null,
            "min_width": null,
            "object_fit": null,
            "object_position": null,
            "order": null,
            "overflow": null,
            "overflow_x": null,
            "overflow_y": null,
            "padding": null,
            "right": null,
            "top": null,
            "visibility": null,
            "width": null
          }
        },
        "64a50ef17a1a43f9bf783338b2689407": {
          "model_module": "@jupyter-widgets/controls",
          "model_name": "DescriptionStyleModel",
          "model_module_version": "1.5.0",
          "state": {
            "_model_module": "@jupyter-widgets/controls",
            "_model_module_version": "1.5.0",
            "_model_name": "DescriptionStyleModel",
            "_view_count": null,
            "_view_module": "@jupyter-widgets/base",
            "_view_module_version": "1.2.0",
            "_view_name": "StyleView",
            "description_width": ""
          }
        },
        "640284dec14247adbc779e3405d9cb51": {
          "model_module": "@jupyter-widgets/controls",
          "model_name": "HBoxModel",
          "model_module_version": "1.5.0",
          "state": {
            "_dom_classes": [],
            "_model_module": "@jupyter-widgets/controls",
            "_model_module_version": "1.5.0",
            "_model_name": "HBoxModel",
            "_view_count": null,
            "_view_module": "@jupyter-widgets/controls",
            "_view_module_version": "1.5.0",
            "_view_name": "HBoxView",
            "box_style": "",
            "children": [
              "IPY_MODEL_0f0c5fdbec0f4707a0b55d8dcdbc1429",
              "IPY_MODEL_6c4e0e19a647449eb8374502fc7f2836",
              "IPY_MODEL_0ea4cf48daa44d1193e68cb9ecbfe8a7"
            ],
            "layout": "IPY_MODEL_adc9652a43704ff0945abfa9d5280bef"
          }
        },
        "0f0c5fdbec0f4707a0b55d8dcdbc1429": {
          "model_module": "@jupyter-widgets/controls",
          "model_name": "HTMLModel",
          "model_module_version": "1.5.0",
          "state": {
            "_dom_classes": [],
            "_model_module": "@jupyter-widgets/controls",
            "_model_module_version": "1.5.0",
            "_model_name": "HTMLModel",
            "_view_count": null,
            "_view_module": "@jupyter-widgets/controls",
            "_view_module_version": "1.5.0",
            "_view_name": "HTMLView",
            "description": "",
            "description_tooltip": null,
            "layout": "IPY_MODEL_26eaaa7e71c14aceb06abbef57fdeccf",
            "placeholder": "​",
            "style": "IPY_MODEL_8510df19bacb40889218a0a313185350",
            "value": "Map: 100%"
          }
        },
        "6c4e0e19a647449eb8374502fc7f2836": {
          "model_module": "@jupyter-widgets/controls",
          "model_name": "FloatProgressModel",
          "model_module_version": "1.5.0",
          "state": {
            "_dom_classes": [],
            "_model_module": "@jupyter-widgets/controls",
            "_model_module_version": "1.5.0",
            "_model_name": "FloatProgressModel",
            "_view_count": null,
            "_view_module": "@jupyter-widgets/controls",
            "_view_module_version": "1.5.0",
            "_view_name": "ProgressView",
            "bar_style": "success",
            "description": "",
            "description_tooltip": null,
            "layout": "IPY_MODEL_457449bd7d0542d9ba61c72d9d23e8dc",
            "max": 1001,
            "min": 0,
            "orientation": "horizontal",
            "style": "IPY_MODEL_8e27fe75da5b4effb4588f1ee562a1a5",
            "value": 1001
          }
        },
        "0ea4cf48daa44d1193e68cb9ecbfe8a7": {
          "model_module": "@jupyter-widgets/controls",
          "model_name": "HTMLModel",
          "model_module_version": "1.5.0",
          "state": {
            "_dom_classes": [],
            "_model_module": "@jupyter-widgets/controls",
            "_model_module_version": "1.5.0",
            "_model_name": "HTMLModel",
            "_view_count": null,
            "_view_module": "@jupyter-widgets/controls",
            "_view_module_version": "1.5.0",
            "_view_name": "HTMLView",
            "description": "",
            "description_tooltip": null,
            "layout": "IPY_MODEL_2fb06c405ae3476daf21c59478237545",
            "placeholder": "​",
            "style": "IPY_MODEL_2fc53de768344df68a357f1514afd5ff",
            "value": " 1001/1001 [00:00&lt;00:00, 45012.53 examples/s]"
          }
        },
        "adc9652a43704ff0945abfa9d5280bef": {
          "model_module": "@jupyter-widgets/base",
          "model_name": "LayoutModel",
          "model_module_version": "1.2.0",
          "state": {
            "_model_module": "@jupyter-widgets/base",
            "_model_module_version": "1.2.0",
            "_model_name": "LayoutModel",
            "_view_count": null,
            "_view_module": "@jupyter-widgets/base",
            "_view_module_version": "1.2.0",
            "_view_name": "LayoutView",
            "align_content": null,
            "align_items": null,
            "align_self": null,
            "border": null,
            "bottom": null,
            "display": null,
            "flex": null,
            "flex_flow": null,
            "grid_area": null,
            "grid_auto_columns": null,
            "grid_auto_flow": null,
            "grid_auto_rows": null,
            "grid_column": null,
            "grid_gap": null,
            "grid_row": null,
            "grid_template_areas": null,
            "grid_template_columns": null,
            "grid_template_rows": null,
            "height": null,
            "justify_content": null,
            "justify_items": null,
            "left": null,
            "margin": null,
            "max_height": null,
            "max_width": null,
            "min_height": null,
            "min_width": null,
            "object_fit": null,
            "object_position": null,
            "order": null,
            "overflow": null,
            "overflow_x": null,
            "overflow_y": null,
            "padding": null,
            "right": null,
            "top": null,
            "visibility": null,
            "width": null
          }
        },
        "26eaaa7e71c14aceb06abbef57fdeccf": {
          "model_module": "@jupyter-widgets/base",
          "model_name": "LayoutModel",
          "model_module_version": "1.2.0",
          "state": {
            "_model_module": "@jupyter-widgets/base",
            "_model_module_version": "1.2.0",
            "_model_name": "LayoutModel",
            "_view_count": null,
            "_view_module": "@jupyter-widgets/base",
            "_view_module_version": "1.2.0",
            "_view_name": "LayoutView",
            "align_content": null,
            "align_items": null,
            "align_self": null,
            "border": null,
            "bottom": null,
            "display": null,
            "flex": null,
            "flex_flow": null,
            "grid_area": null,
            "grid_auto_columns": null,
            "grid_auto_flow": null,
            "grid_auto_rows": null,
            "grid_column": null,
            "grid_gap": null,
            "grid_row": null,
            "grid_template_areas": null,
            "grid_template_columns": null,
            "grid_template_rows": null,
            "height": null,
            "justify_content": null,
            "justify_items": null,
            "left": null,
            "margin": null,
            "max_height": null,
            "max_width": null,
            "min_height": null,
            "min_width": null,
            "object_fit": null,
            "object_position": null,
            "order": null,
            "overflow": null,
            "overflow_x": null,
            "overflow_y": null,
            "padding": null,
            "right": null,
            "top": null,
            "visibility": null,
            "width": null
          }
        },
        "8510df19bacb40889218a0a313185350": {
          "model_module": "@jupyter-widgets/controls",
          "model_name": "DescriptionStyleModel",
          "model_module_version": "1.5.0",
          "state": {
            "_model_module": "@jupyter-widgets/controls",
            "_model_module_version": "1.5.0",
            "_model_name": "DescriptionStyleModel",
            "_view_count": null,
            "_view_module": "@jupyter-widgets/base",
            "_view_module_version": "1.2.0",
            "_view_name": "StyleView",
            "description_width": ""
          }
        },
        "457449bd7d0542d9ba61c72d9d23e8dc": {
          "model_module": "@jupyter-widgets/base",
          "model_name": "LayoutModel",
          "model_module_version": "1.2.0",
          "state": {
            "_model_module": "@jupyter-widgets/base",
            "_model_module_version": "1.2.0",
            "_model_name": "LayoutModel",
            "_view_count": null,
            "_view_module": "@jupyter-widgets/base",
            "_view_module_version": "1.2.0",
            "_view_name": "LayoutView",
            "align_content": null,
            "align_items": null,
            "align_self": null,
            "border": null,
            "bottom": null,
            "display": null,
            "flex": null,
            "flex_flow": null,
            "grid_area": null,
            "grid_auto_columns": null,
            "grid_auto_flow": null,
            "grid_auto_rows": null,
            "grid_column": null,
            "grid_gap": null,
            "grid_row": null,
            "grid_template_areas": null,
            "grid_template_columns": null,
            "grid_template_rows": null,
            "height": null,
            "justify_content": null,
            "justify_items": null,
            "left": null,
            "margin": null,
            "max_height": null,
            "max_width": null,
            "min_height": null,
            "min_width": null,
            "object_fit": null,
            "object_position": null,
            "order": null,
            "overflow": null,
            "overflow_x": null,
            "overflow_y": null,
            "padding": null,
            "right": null,
            "top": null,
            "visibility": null,
            "width": null
          }
        },
        "8e27fe75da5b4effb4588f1ee562a1a5": {
          "model_module": "@jupyter-widgets/controls",
          "model_name": "ProgressStyleModel",
          "model_module_version": "1.5.0",
          "state": {
            "_model_module": "@jupyter-widgets/controls",
            "_model_module_version": "1.5.0",
            "_model_name": "ProgressStyleModel",
            "_view_count": null,
            "_view_module": "@jupyter-widgets/base",
            "_view_module_version": "1.2.0",
            "_view_name": "StyleView",
            "bar_color": null,
            "description_width": ""
          }
        },
        "2fb06c405ae3476daf21c59478237545": {
          "model_module": "@jupyter-widgets/base",
          "model_name": "LayoutModel",
          "model_module_version": "1.2.0",
          "state": {
            "_model_module": "@jupyter-widgets/base",
            "_model_module_version": "1.2.0",
            "_model_name": "LayoutModel",
            "_view_count": null,
            "_view_module": "@jupyter-widgets/base",
            "_view_module_version": "1.2.0",
            "_view_name": "LayoutView",
            "align_content": null,
            "align_items": null,
            "align_self": null,
            "border": null,
            "bottom": null,
            "display": null,
            "flex": null,
            "flex_flow": null,
            "grid_area": null,
            "grid_auto_columns": null,
            "grid_auto_flow": null,
            "grid_auto_rows": null,
            "grid_column": null,
            "grid_gap": null,
            "grid_row": null,
            "grid_template_areas": null,
            "grid_template_columns": null,
            "grid_template_rows": null,
            "height": null,
            "justify_content": null,
            "justify_items": null,
            "left": null,
            "margin": null,
            "max_height": null,
            "max_width": null,
            "min_height": null,
            "min_width": null,
            "object_fit": null,
            "object_position": null,
            "order": null,
            "overflow": null,
            "overflow_x": null,
            "overflow_y": null,
            "padding": null,
            "right": null,
            "top": null,
            "visibility": null,
            "width": null
          }
        },
        "2fc53de768344df68a357f1514afd5ff": {
          "model_module": "@jupyter-widgets/controls",
          "model_name": "DescriptionStyleModel",
          "model_module_version": "1.5.0",
          "state": {
            "_model_module": "@jupyter-widgets/controls",
            "_model_module_version": "1.5.0",
            "_model_name": "DescriptionStyleModel",
            "_view_count": null,
            "_view_module": "@jupyter-widgets/base",
            "_view_module_version": "1.2.0",
            "_view_name": "StyleView",
            "description_width": ""
          }
        },
        "fda9321728b24e7e922d8b3e77b21b46": {
          "model_module": "@jupyter-widgets/controls",
          "model_name": "HBoxModel",
          "model_module_version": "1.5.0",
          "state": {
            "_dom_classes": [],
            "_model_module": "@jupyter-widgets/controls",
            "_model_module_version": "1.5.0",
            "_model_name": "HBoxModel",
            "_view_count": null,
            "_view_module": "@jupyter-widgets/controls",
            "_view_module_version": "1.5.0",
            "_view_name": "HBoxView",
            "box_style": "",
            "children": [
              "IPY_MODEL_874d2e9ee5fa4b76832566a09f73f83a",
              "IPY_MODEL_bba527f89d39413b8948ac6197e773a5",
              "IPY_MODEL_fe20634dfc48492f82adecb71def1071"
            ],
            "layout": "IPY_MODEL_9278fe846ee743fe984756ee64b1b28e"
          }
        },
        "874d2e9ee5fa4b76832566a09f73f83a": {
          "model_module": "@jupyter-widgets/controls",
          "model_name": "HTMLModel",
          "model_module_version": "1.5.0",
          "state": {
            "_dom_classes": [],
            "_model_module": "@jupyter-widgets/controls",
            "_model_module_version": "1.5.0",
            "_model_name": "HTMLModel",
            "_view_count": null,
            "_view_module": "@jupyter-widgets/controls",
            "_view_module_version": "1.5.0",
            "_view_name": "HTMLView",
            "description": "",
            "description_tooltip": null,
            "layout": "IPY_MODEL_d3a32b5858df4d5da994bbafacf9a588",
            "placeholder": "​",
            "style": "IPY_MODEL_c1ade2d96efa4b269f3f1863dc7b920d",
            "value": "Map: 100%"
          }
        },
        "bba527f89d39413b8948ac6197e773a5": {
          "model_module": "@jupyter-widgets/controls",
          "model_name": "FloatProgressModel",
          "model_module_version": "1.5.0",
          "state": {
            "_dom_classes": [],
            "_model_module": "@jupyter-widgets/controls",
            "_model_module_version": "1.5.0",
            "_model_name": "FloatProgressModel",
            "_view_count": null,
            "_view_module": "@jupyter-widgets/controls",
            "_view_module_version": "1.5.0",
            "_view_name": "ProgressView",
            "bar_style": "success",
            "description": "",
            "description_tooltip": null,
            "layout": "IPY_MODEL_5912f49d8ca64b92a949cb296ee718d4",
            "max": 1001,
            "min": 0,
            "orientation": "horizontal",
            "style": "IPY_MODEL_b12b50a3ba4844f697c7297613f2459c",
            "value": 1001
          }
        },
        "fe20634dfc48492f82adecb71def1071": {
          "model_module": "@jupyter-widgets/controls",
          "model_name": "HTMLModel",
          "model_module_version": "1.5.0",
          "state": {
            "_dom_classes": [],
            "_model_module": "@jupyter-widgets/controls",
            "_model_module_version": "1.5.0",
            "_model_name": "HTMLModel",
            "_view_count": null,
            "_view_module": "@jupyter-widgets/controls",
            "_view_module_version": "1.5.0",
            "_view_name": "HTMLView",
            "description": "",
            "description_tooltip": null,
            "layout": "IPY_MODEL_ab54a48692084a44a5952c834b0c0c44",
            "placeholder": "​",
            "style": "IPY_MODEL_5dc6f796b3374b46ad84b4ff58870a55",
            "value": " 1001/1001 [00:00&lt;00:00, 48642.71 examples/s]"
          }
        },
        "9278fe846ee743fe984756ee64b1b28e": {
          "model_module": "@jupyter-widgets/base",
          "model_name": "LayoutModel",
          "model_module_version": "1.2.0",
          "state": {
            "_model_module": "@jupyter-widgets/base",
            "_model_module_version": "1.2.0",
            "_model_name": "LayoutModel",
            "_view_count": null,
            "_view_module": "@jupyter-widgets/base",
            "_view_module_version": "1.2.0",
            "_view_name": "LayoutView",
            "align_content": null,
            "align_items": null,
            "align_self": null,
            "border": null,
            "bottom": null,
            "display": null,
            "flex": null,
            "flex_flow": null,
            "grid_area": null,
            "grid_auto_columns": null,
            "grid_auto_flow": null,
            "grid_auto_rows": null,
            "grid_column": null,
            "grid_gap": null,
            "grid_row": null,
            "grid_template_areas": null,
            "grid_template_columns": null,
            "grid_template_rows": null,
            "height": null,
            "justify_content": null,
            "justify_items": null,
            "left": null,
            "margin": null,
            "max_height": null,
            "max_width": null,
            "min_height": null,
            "min_width": null,
            "object_fit": null,
            "object_position": null,
            "order": null,
            "overflow": null,
            "overflow_x": null,
            "overflow_y": null,
            "padding": null,
            "right": null,
            "top": null,
            "visibility": null,
            "width": null
          }
        },
        "d3a32b5858df4d5da994bbafacf9a588": {
          "model_module": "@jupyter-widgets/base",
          "model_name": "LayoutModel",
          "model_module_version": "1.2.0",
          "state": {
            "_model_module": "@jupyter-widgets/base",
            "_model_module_version": "1.2.0",
            "_model_name": "LayoutModel",
            "_view_count": null,
            "_view_module": "@jupyter-widgets/base",
            "_view_module_version": "1.2.0",
            "_view_name": "LayoutView",
            "align_content": null,
            "align_items": null,
            "align_self": null,
            "border": null,
            "bottom": null,
            "display": null,
            "flex": null,
            "flex_flow": null,
            "grid_area": null,
            "grid_auto_columns": null,
            "grid_auto_flow": null,
            "grid_auto_rows": null,
            "grid_column": null,
            "grid_gap": null,
            "grid_row": null,
            "grid_template_areas": null,
            "grid_template_columns": null,
            "grid_template_rows": null,
            "height": null,
            "justify_content": null,
            "justify_items": null,
            "left": null,
            "margin": null,
            "max_height": null,
            "max_width": null,
            "min_height": null,
            "min_width": null,
            "object_fit": null,
            "object_position": null,
            "order": null,
            "overflow": null,
            "overflow_x": null,
            "overflow_y": null,
            "padding": null,
            "right": null,
            "top": null,
            "visibility": null,
            "width": null
          }
        },
        "c1ade2d96efa4b269f3f1863dc7b920d": {
          "model_module": "@jupyter-widgets/controls",
          "model_name": "DescriptionStyleModel",
          "model_module_version": "1.5.0",
          "state": {
            "_model_module": "@jupyter-widgets/controls",
            "_model_module_version": "1.5.0",
            "_model_name": "DescriptionStyleModel",
            "_view_count": null,
            "_view_module": "@jupyter-widgets/base",
            "_view_module_version": "1.2.0",
            "_view_name": "StyleView",
            "description_width": ""
          }
        },
        "5912f49d8ca64b92a949cb296ee718d4": {
          "model_module": "@jupyter-widgets/base",
          "model_name": "LayoutModel",
          "model_module_version": "1.2.0",
          "state": {
            "_model_module": "@jupyter-widgets/base",
            "_model_module_version": "1.2.0",
            "_model_name": "LayoutModel",
            "_view_count": null,
            "_view_module": "@jupyter-widgets/base",
            "_view_module_version": "1.2.0",
            "_view_name": "LayoutView",
            "align_content": null,
            "align_items": null,
            "align_self": null,
            "border": null,
            "bottom": null,
            "display": null,
            "flex": null,
            "flex_flow": null,
            "grid_area": null,
            "grid_auto_columns": null,
            "grid_auto_flow": null,
            "grid_auto_rows": null,
            "grid_column": null,
            "grid_gap": null,
            "grid_row": null,
            "grid_template_areas": null,
            "grid_template_columns": null,
            "grid_template_rows": null,
            "height": null,
            "justify_content": null,
            "justify_items": null,
            "left": null,
            "margin": null,
            "max_height": null,
            "max_width": null,
            "min_height": null,
            "min_width": null,
            "object_fit": null,
            "object_position": null,
            "order": null,
            "overflow": null,
            "overflow_x": null,
            "overflow_y": null,
            "padding": null,
            "right": null,
            "top": null,
            "visibility": null,
            "width": null
          }
        },
        "b12b50a3ba4844f697c7297613f2459c": {
          "model_module": "@jupyter-widgets/controls",
          "model_name": "ProgressStyleModel",
          "model_module_version": "1.5.0",
          "state": {
            "_model_module": "@jupyter-widgets/controls",
            "_model_module_version": "1.5.0",
            "_model_name": "ProgressStyleModel",
            "_view_count": null,
            "_view_module": "@jupyter-widgets/base",
            "_view_module_version": "1.2.0",
            "_view_name": "StyleView",
            "bar_color": null,
            "description_width": ""
          }
        },
        "ab54a48692084a44a5952c834b0c0c44": {
          "model_module": "@jupyter-widgets/base",
          "model_name": "LayoutModel",
          "model_module_version": "1.2.0",
          "state": {
            "_model_module": "@jupyter-widgets/base",
            "_model_module_version": "1.2.0",
            "_model_name": "LayoutModel",
            "_view_count": null,
            "_view_module": "@jupyter-widgets/base",
            "_view_module_version": "1.2.0",
            "_view_name": "LayoutView",
            "align_content": null,
            "align_items": null,
            "align_self": null,
            "border": null,
            "bottom": null,
            "display": null,
            "flex": null,
            "flex_flow": null,
            "grid_area": null,
            "grid_auto_columns": null,
            "grid_auto_flow": null,
            "grid_auto_rows": null,
            "grid_column": null,
            "grid_gap": null,
            "grid_row": null,
            "grid_template_areas": null,
            "grid_template_columns": null,
            "grid_template_rows": null,
            "height": null,
            "justify_content": null,
            "justify_items": null,
            "left": null,
            "margin": null,
            "max_height": null,
            "max_width": null,
            "min_height": null,
            "min_width": null,
            "object_fit": null,
            "object_position": null,
            "order": null,
            "overflow": null,
            "overflow_x": null,
            "overflow_y": null,
            "padding": null,
            "right": null,
            "top": null,
            "visibility": null,
            "width": null
          }
        },
        "5dc6f796b3374b46ad84b4ff58870a55": {
          "model_module": "@jupyter-widgets/controls",
          "model_name": "DescriptionStyleModel",
          "model_module_version": "1.5.0",
          "state": {
            "_model_module": "@jupyter-widgets/controls",
            "_model_module_version": "1.5.0",
            "_model_name": "DescriptionStyleModel",
            "_view_count": null,
            "_view_module": "@jupyter-widgets/base",
            "_view_module_version": "1.2.0",
            "_view_name": "StyleView",
            "description_width": ""
          }
        },
        "d0ee46d8e0534015bc01c57732875f42": {
          "model_module": "@jupyter-widgets/controls",
          "model_name": "HBoxModel",
          "model_module_version": "1.5.0",
          "state": {
            "_dom_classes": [],
            "_model_module": "@jupyter-widgets/controls",
            "_model_module_version": "1.5.0",
            "_model_name": "HBoxModel",
            "_view_count": null,
            "_view_module": "@jupyter-widgets/controls",
            "_view_module_version": "1.5.0",
            "_view_name": "HBoxView",
            "box_style": "",
            "children": [
              "IPY_MODEL_e5204b41033443bb8f68787b872f9b33",
              "IPY_MODEL_83d9c4f007c046f3b9458971253fdc01",
              "IPY_MODEL_f27d3b9e6f034ec6833afa10a1632426"
            ],
            "layout": "IPY_MODEL_175247163e1e46b2b6e0eb53d2560958"
          }
        },
        "e5204b41033443bb8f68787b872f9b33": {
          "model_module": "@jupyter-widgets/controls",
          "model_name": "HTMLModel",
          "model_module_version": "1.5.0",
          "state": {
            "_dom_classes": [],
            "_model_module": "@jupyter-widgets/controls",
            "_model_module_version": "1.5.0",
            "_model_name": "HTMLModel",
            "_view_count": null,
            "_view_module": "@jupyter-widgets/controls",
            "_view_module_version": "1.5.0",
            "_view_name": "HTMLView",
            "description": "",
            "description_tooltip": null,
            "layout": "IPY_MODEL_00c17d42429a4d53b82c7fab16973f2c",
            "placeholder": "​",
            "style": "IPY_MODEL_db5ff935c2b34d65bb6cb6685a075a89",
            "value": "Loading checkpoint shards: 100%"
          }
        },
        "83d9c4f007c046f3b9458971253fdc01": {
          "model_module": "@jupyter-widgets/controls",
          "model_name": "FloatProgressModel",
          "model_module_version": "1.5.0",
          "state": {
            "_dom_classes": [],
            "_model_module": "@jupyter-widgets/controls",
            "_model_module_version": "1.5.0",
            "_model_name": "FloatProgressModel",
            "_view_count": null,
            "_view_module": "@jupyter-widgets/controls",
            "_view_module_version": "1.5.0",
            "_view_name": "ProgressView",
            "bar_style": "success",
            "description": "",
            "description_tooltip": null,
            "layout": "IPY_MODEL_d4405f83c20f4834ad2cbab9d9262f25",
            "max": 2,
            "min": 0,
            "orientation": "horizontal",
            "style": "IPY_MODEL_3943dec8ca8c4eb2b3f01c14bb7dbabd",
            "value": 2
          }
        },
        "f27d3b9e6f034ec6833afa10a1632426": {
          "model_module": "@jupyter-widgets/controls",
          "model_name": "HTMLModel",
          "model_module_version": "1.5.0",
          "state": {
            "_dom_classes": [],
            "_model_module": "@jupyter-widgets/controls",
            "_model_module_version": "1.5.0",
            "_model_name": "HTMLModel",
            "_view_count": null,
            "_view_module": "@jupyter-widgets/controls",
            "_view_module_version": "1.5.0",
            "_view_name": "HTMLView",
            "description": "",
            "description_tooltip": null,
            "layout": "IPY_MODEL_7f83282d0d434b93a9134c2ccf4b7ef3",
            "placeholder": "​",
            "style": "IPY_MODEL_826c051d36d24b92ae3a2dfd41b0c6e7",
            "value": " 2/2 [00:01&lt;00:00,  1.17it/s]"
          }
        },
        "175247163e1e46b2b6e0eb53d2560958": {
          "model_module": "@jupyter-widgets/base",
          "model_name": "LayoutModel",
          "model_module_version": "1.2.0",
          "state": {
            "_model_module": "@jupyter-widgets/base",
            "_model_module_version": "1.2.0",
            "_model_name": "LayoutModel",
            "_view_count": null,
            "_view_module": "@jupyter-widgets/base",
            "_view_module_version": "1.2.0",
            "_view_name": "LayoutView",
            "align_content": null,
            "align_items": null,
            "align_self": null,
            "border": null,
            "bottom": null,
            "display": null,
            "flex": null,
            "flex_flow": null,
            "grid_area": null,
            "grid_auto_columns": null,
            "grid_auto_flow": null,
            "grid_auto_rows": null,
            "grid_column": null,
            "grid_gap": null,
            "grid_row": null,
            "grid_template_areas": null,
            "grid_template_columns": null,
            "grid_template_rows": null,
            "height": null,
            "justify_content": null,
            "justify_items": null,
            "left": null,
            "margin": null,
            "max_height": null,
            "max_width": null,
            "min_height": null,
            "min_width": null,
            "object_fit": null,
            "object_position": null,
            "order": null,
            "overflow": null,
            "overflow_x": null,
            "overflow_y": null,
            "padding": null,
            "right": null,
            "top": null,
            "visibility": null,
            "width": null
          }
        },
        "00c17d42429a4d53b82c7fab16973f2c": {
          "model_module": "@jupyter-widgets/base",
          "model_name": "LayoutModel",
          "model_module_version": "1.2.0",
          "state": {
            "_model_module": "@jupyter-widgets/base",
            "_model_module_version": "1.2.0",
            "_model_name": "LayoutModel",
            "_view_count": null,
            "_view_module": "@jupyter-widgets/base",
            "_view_module_version": "1.2.0",
            "_view_name": "LayoutView",
            "align_content": null,
            "align_items": null,
            "align_self": null,
            "border": null,
            "bottom": null,
            "display": null,
            "flex": null,
            "flex_flow": null,
            "grid_area": null,
            "grid_auto_columns": null,
            "grid_auto_flow": null,
            "grid_auto_rows": null,
            "grid_column": null,
            "grid_gap": null,
            "grid_row": null,
            "grid_template_areas": null,
            "grid_template_columns": null,
            "grid_template_rows": null,
            "height": null,
            "justify_content": null,
            "justify_items": null,
            "left": null,
            "margin": null,
            "max_height": null,
            "max_width": null,
            "min_height": null,
            "min_width": null,
            "object_fit": null,
            "object_position": null,
            "order": null,
            "overflow": null,
            "overflow_x": null,
            "overflow_y": null,
            "padding": null,
            "right": null,
            "top": null,
            "visibility": null,
            "width": null
          }
        },
        "db5ff935c2b34d65bb6cb6685a075a89": {
          "model_module": "@jupyter-widgets/controls",
          "model_name": "DescriptionStyleModel",
          "model_module_version": "1.5.0",
          "state": {
            "_model_module": "@jupyter-widgets/controls",
            "_model_module_version": "1.5.0",
            "_model_name": "DescriptionStyleModel",
            "_view_count": null,
            "_view_module": "@jupyter-widgets/base",
            "_view_module_version": "1.2.0",
            "_view_name": "StyleView",
            "description_width": ""
          }
        },
        "d4405f83c20f4834ad2cbab9d9262f25": {
          "model_module": "@jupyter-widgets/base",
          "model_name": "LayoutModel",
          "model_module_version": "1.2.0",
          "state": {
            "_model_module": "@jupyter-widgets/base",
            "_model_module_version": "1.2.0",
            "_model_name": "LayoutModel",
            "_view_count": null,
            "_view_module": "@jupyter-widgets/base",
            "_view_module_version": "1.2.0",
            "_view_name": "LayoutView",
            "align_content": null,
            "align_items": null,
            "align_self": null,
            "border": null,
            "bottom": null,
            "display": null,
            "flex": null,
            "flex_flow": null,
            "grid_area": null,
            "grid_auto_columns": null,
            "grid_auto_flow": null,
            "grid_auto_rows": null,
            "grid_column": null,
            "grid_gap": null,
            "grid_row": null,
            "grid_template_areas": null,
            "grid_template_columns": null,
            "grid_template_rows": null,
            "height": null,
            "justify_content": null,
            "justify_items": null,
            "left": null,
            "margin": null,
            "max_height": null,
            "max_width": null,
            "min_height": null,
            "min_width": null,
            "object_fit": null,
            "object_position": null,
            "order": null,
            "overflow": null,
            "overflow_x": null,
            "overflow_y": null,
            "padding": null,
            "right": null,
            "top": null,
            "visibility": null,
            "width": null
          }
        },
        "3943dec8ca8c4eb2b3f01c14bb7dbabd": {
          "model_module": "@jupyter-widgets/controls",
          "model_name": "ProgressStyleModel",
          "model_module_version": "1.5.0",
          "state": {
            "_model_module": "@jupyter-widgets/controls",
            "_model_module_version": "1.5.0",
            "_model_name": "ProgressStyleModel",
            "_view_count": null,
            "_view_module": "@jupyter-widgets/base",
            "_view_module_version": "1.2.0",
            "_view_name": "StyleView",
            "bar_color": null,
            "description_width": ""
          }
        },
        "7f83282d0d434b93a9134c2ccf4b7ef3": {
          "model_module": "@jupyter-widgets/base",
          "model_name": "LayoutModel",
          "model_module_version": "1.2.0",
          "state": {
            "_model_module": "@jupyter-widgets/base",
            "_model_module_version": "1.2.0",
            "_model_name": "LayoutModel",
            "_view_count": null,
            "_view_module": "@jupyter-widgets/base",
            "_view_module_version": "1.2.0",
            "_view_name": "LayoutView",
            "align_content": null,
            "align_items": null,
            "align_self": null,
            "border": null,
            "bottom": null,
            "display": null,
            "flex": null,
            "flex_flow": null,
            "grid_area": null,
            "grid_auto_columns": null,
            "grid_auto_flow": null,
            "grid_auto_rows": null,
            "grid_column": null,
            "grid_gap": null,
            "grid_row": null,
            "grid_template_areas": null,
            "grid_template_columns": null,
            "grid_template_rows": null,
            "height": null,
            "justify_content": null,
            "justify_items": null,
            "left": null,
            "margin": null,
            "max_height": null,
            "max_width": null,
            "min_height": null,
            "min_width": null,
            "object_fit": null,
            "object_position": null,
            "order": null,
            "overflow": null,
            "overflow_x": null,
            "overflow_y": null,
            "padding": null,
            "right": null,
            "top": null,
            "visibility": null,
            "width": null
          }
        },
        "826c051d36d24b92ae3a2dfd41b0c6e7": {
          "model_module": "@jupyter-widgets/controls",
          "model_name": "DescriptionStyleModel",
          "model_module_version": "1.5.0",
          "state": {
            "_model_module": "@jupyter-widgets/controls",
            "_model_module_version": "1.5.0",
            "_model_name": "DescriptionStyleModel",
            "_view_count": null,
            "_view_module": "@jupyter-widgets/base",
            "_view_module_version": "1.2.0",
            "_view_name": "StyleView",
            "description_width": ""
          }
        },
        "0263d9411180404eb2797b2261549a10": {
          "model_module": "@jupyter-widgets/controls",
          "model_name": "HBoxModel",
          "model_module_version": "1.5.0",
          "state": {
            "_dom_classes": [],
            "_model_module": "@jupyter-widgets/controls",
            "_model_module_version": "1.5.0",
            "_model_name": "HBoxModel",
            "_view_count": null,
            "_view_module": "@jupyter-widgets/controls",
            "_view_module_version": "1.5.0",
            "_view_name": "HBoxView",
            "box_style": "",
            "children": [
              "IPY_MODEL_e24fccc87b4440c1b976c444c4a1f709",
              "IPY_MODEL_aa7bd090636a473e8a871a2a85c5f716",
              "IPY_MODEL_7a1a8285dced498da9b685361761a660"
            ],
            "layout": "IPY_MODEL_2345fa39fd9341f4be28a74861ac7218"
          }
        },
        "e24fccc87b4440c1b976c444c4a1f709": {
          "model_module": "@jupyter-widgets/controls",
          "model_name": "HTMLModel",
          "model_module_version": "1.5.0",
          "state": {
            "_dom_classes": [],
            "_model_module": "@jupyter-widgets/controls",
            "_model_module_version": "1.5.0",
            "_model_name": "HTMLModel",
            "_view_count": null,
            "_view_module": "@jupyter-widgets/controls",
            "_view_module_version": "1.5.0",
            "_view_name": "HTMLView",
            "description": "",
            "description_tooltip": null,
            "layout": "IPY_MODEL_a448b2eae638407f9aef85cb4d5ebe11",
            "placeholder": "​",
            "style": "IPY_MODEL_af608f3b63df48ccaba9f6c960db9f02",
            "value": "Loading checkpoint shards: 100%"
          }
        },
        "aa7bd090636a473e8a871a2a85c5f716": {
          "model_module": "@jupyter-widgets/controls",
          "model_name": "FloatProgressModel",
          "model_module_version": "1.5.0",
          "state": {
            "_dom_classes": [],
            "_model_module": "@jupyter-widgets/controls",
            "_model_module_version": "1.5.0",
            "_model_name": "FloatProgressModel",
            "_view_count": null,
            "_view_module": "@jupyter-widgets/controls",
            "_view_module_version": "1.5.0",
            "_view_name": "ProgressView",
            "bar_style": "success",
            "description": "",
            "description_tooltip": null,
            "layout": "IPY_MODEL_25cff025045045969e1fea96b350e003",
            "max": 2,
            "min": 0,
            "orientation": "horizontal",
            "style": "IPY_MODEL_c045cbf3505142d998890460701e3828",
            "value": 2
          }
        },
        "7a1a8285dced498da9b685361761a660": {
          "model_module": "@jupyter-widgets/controls",
          "model_name": "HTMLModel",
          "model_module_version": "1.5.0",
          "state": {
            "_dom_classes": [],
            "_model_module": "@jupyter-widgets/controls",
            "_model_module_version": "1.5.0",
            "_model_name": "HTMLModel",
            "_view_count": null,
            "_view_module": "@jupyter-widgets/controls",
            "_view_module_version": "1.5.0",
            "_view_name": "HTMLView",
            "description": "",
            "description_tooltip": null,
            "layout": "IPY_MODEL_f0386fb3f30547b1ac3eb59328ce4581",
            "placeholder": "​",
            "style": "IPY_MODEL_1249d2768d8b4eab88089861d5357b66",
            "value": " 2/2 [00:01&lt;00:00,  1.16it/s]"
          }
        },
        "2345fa39fd9341f4be28a74861ac7218": {
          "model_module": "@jupyter-widgets/base",
          "model_name": "LayoutModel",
          "model_module_version": "1.2.0",
          "state": {
            "_model_module": "@jupyter-widgets/base",
            "_model_module_version": "1.2.0",
            "_model_name": "LayoutModel",
            "_view_count": null,
            "_view_module": "@jupyter-widgets/base",
            "_view_module_version": "1.2.0",
            "_view_name": "LayoutView",
            "align_content": null,
            "align_items": null,
            "align_self": null,
            "border": null,
            "bottom": null,
            "display": null,
            "flex": null,
            "flex_flow": null,
            "grid_area": null,
            "grid_auto_columns": null,
            "grid_auto_flow": null,
            "grid_auto_rows": null,
            "grid_column": null,
            "grid_gap": null,
            "grid_row": null,
            "grid_template_areas": null,
            "grid_template_columns": null,
            "grid_template_rows": null,
            "height": null,
            "justify_content": null,
            "justify_items": null,
            "left": null,
            "margin": null,
            "max_height": null,
            "max_width": null,
            "min_height": null,
            "min_width": null,
            "object_fit": null,
            "object_position": null,
            "order": null,
            "overflow": null,
            "overflow_x": null,
            "overflow_y": null,
            "padding": null,
            "right": null,
            "top": null,
            "visibility": null,
            "width": null
          }
        },
        "a448b2eae638407f9aef85cb4d5ebe11": {
          "model_module": "@jupyter-widgets/base",
          "model_name": "LayoutModel",
          "model_module_version": "1.2.0",
          "state": {
            "_model_module": "@jupyter-widgets/base",
            "_model_module_version": "1.2.0",
            "_model_name": "LayoutModel",
            "_view_count": null,
            "_view_module": "@jupyter-widgets/base",
            "_view_module_version": "1.2.0",
            "_view_name": "LayoutView",
            "align_content": null,
            "align_items": null,
            "align_self": null,
            "border": null,
            "bottom": null,
            "display": null,
            "flex": null,
            "flex_flow": null,
            "grid_area": null,
            "grid_auto_columns": null,
            "grid_auto_flow": null,
            "grid_auto_rows": null,
            "grid_column": null,
            "grid_gap": null,
            "grid_row": null,
            "grid_template_areas": null,
            "grid_template_columns": null,
            "grid_template_rows": null,
            "height": null,
            "justify_content": null,
            "justify_items": null,
            "left": null,
            "margin": null,
            "max_height": null,
            "max_width": null,
            "min_height": null,
            "min_width": null,
            "object_fit": null,
            "object_position": null,
            "order": null,
            "overflow": null,
            "overflow_x": null,
            "overflow_y": null,
            "padding": null,
            "right": null,
            "top": null,
            "visibility": null,
            "width": null
          }
        },
        "af608f3b63df48ccaba9f6c960db9f02": {
          "model_module": "@jupyter-widgets/controls",
          "model_name": "DescriptionStyleModel",
          "model_module_version": "1.5.0",
          "state": {
            "_model_module": "@jupyter-widgets/controls",
            "_model_module_version": "1.5.0",
            "_model_name": "DescriptionStyleModel",
            "_view_count": null,
            "_view_module": "@jupyter-widgets/base",
            "_view_module_version": "1.2.0",
            "_view_name": "StyleView",
            "description_width": ""
          }
        },
        "25cff025045045969e1fea96b350e003": {
          "model_module": "@jupyter-widgets/base",
          "model_name": "LayoutModel",
          "model_module_version": "1.2.0",
          "state": {
            "_model_module": "@jupyter-widgets/base",
            "_model_module_version": "1.2.0",
            "_model_name": "LayoutModel",
            "_view_count": null,
            "_view_module": "@jupyter-widgets/base",
            "_view_module_version": "1.2.0",
            "_view_name": "LayoutView",
            "align_content": null,
            "align_items": null,
            "align_self": null,
            "border": null,
            "bottom": null,
            "display": null,
            "flex": null,
            "flex_flow": null,
            "grid_area": null,
            "grid_auto_columns": null,
            "grid_auto_flow": null,
            "grid_auto_rows": null,
            "grid_column": null,
            "grid_gap": null,
            "grid_row": null,
            "grid_template_areas": null,
            "grid_template_columns": null,
            "grid_template_rows": null,
            "height": null,
            "justify_content": null,
            "justify_items": null,
            "left": null,
            "margin": null,
            "max_height": null,
            "max_width": null,
            "min_height": null,
            "min_width": null,
            "object_fit": null,
            "object_position": null,
            "order": null,
            "overflow": null,
            "overflow_x": null,
            "overflow_y": null,
            "padding": null,
            "right": null,
            "top": null,
            "visibility": null,
            "width": null
          }
        },
        "c045cbf3505142d998890460701e3828": {
          "model_module": "@jupyter-widgets/controls",
          "model_name": "ProgressStyleModel",
          "model_module_version": "1.5.0",
          "state": {
            "_model_module": "@jupyter-widgets/controls",
            "_model_module_version": "1.5.0",
            "_model_name": "ProgressStyleModel",
            "_view_count": null,
            "_view_module": "@jupyter-widgets/base",
            "_view_module_version": "1.2.0",
            "_view_name": "StyleView",
            "bar_color": null,
            "description_width": ""
          }
        },
        "f0386fb3f30547b1ac3eb59328ce4581": {
          "model_module": "@jupyter-widgets/base",
          "model_name": "LayoutModel",
          "model_module_version": "1.2.0",
          "state": {
            "_model_module": "@jupyter-widgets/base",
            "_model_module_version": "1.2.0",
            "_model_name": "LayoutModel",
            "_view_count": null,
            "_view_module": "@jupyter-widgets/base",
            "_view_module_version": "1.2.0",
            "_view_name": "LayoutView",
            "align_content": null,
            "align_items": null,
            "align_self": null,
            "border": null,
            "bottom": null,
            "display": null,
            "flex": null,
            "flex_flow": null,
            "grid_area": null,
            "grid_auto_columns": null,
            "grid_auto_flow": null,
            "grid_auto_rows": null,
            "grid_column": null,
            "grid_gap": null,
            "grid_row": null,
            "grid_template_areas": null,
            "grid_template_columns": null,
            "grid_template_rows": null,
            "height": null,
            "justify_content": null,
            "justify_items": null,
            "left": null,
            "margin": null,
            "max_height": null,
            "max_width": null,
            "min_height": null,
            "min_width": null,
            "object_fit": null,
            "object_position": null,
            "order": null,
            "overflow": null,
            "overflow_x": null,
            "overflow_y": null,
            "padding": null,
            "right": null,
            "top": null,
            "visibility": null,
            "width": null
          }
        },
        "1249d2768d8b4eab88089861d5357b66": {
          "model_module": "@jupyter-widgets/controls",
          "model_name": "DescriptionStyleModel",
          "model_module_version": "1.5.0",
          "state": {
            "_model_module": "@jupyter-widgets/controls",
            "_model_module_version": "1.5.0",
            "_model_name": "DescriptionStyleModel",
            "_view_count": null,
            "_view_module": "@jupyter-widgets/base",
            "_view_module_version": "1.2.0",
            "_view_name": "StyleView",
            "description_width": ""
          }
        },
        "d4b9d8e4f9e24b5f9f9cc6d6fce679da": {
          "model_module": "@jupyter-widgets/controls",
          "model_name": "HBoxModel",
          "model_module_version": "1.5.0",
          "state": {
            "_dom_classes": [],
            "_model_module": "@jupyter-widgets/controls",
            "_model_module_version": "1.5.0",
            "_model_name": "HBoxModel",
            "_view_count": null,
            "_view_module": "@jupyter-widgets/controls",
            "_view_module_version": "1.5.0",
            "_view_name": "HBoxView",
            "box_style": "",
            "children": [
              "IPY_MODEL_054e8e03409a47cdbef96d87938f511f",
              "IPY_MODEL_a9e9cf764d6d45a6b4e77b40a83a3ee1",
              "IPY_MODEL_8bd9f2d3272f4b8c9d34d8b872429b8b"
            ],
            "layout": "IPY_MODEL_7796ddfc5ff54bf69d37fb059bcc6d54"
          }
        },
        "054e8e03409a47cdbef96d87938f511f": {
          "model_module": "@jupyter-widgets/controls",
          "model_name": "HTMLModel",
          "model_module_version": "1.5.0",
          "state": {
            "_dom_classes": [],
            "_model_module": "@jupyter-widgets/controls",
            "_model_module_version": "1.5.0",
            "_model_name": "HTMLModel",
            "_view_count": null,
            "_view_module": "@jupyter-widgets/controls",
            "_view_module_version": "1.5.0",
            "_view_name": "HTMLView",
            "description": "",
            "description_tooltip": null,
            "layout": "IPY_MODEL_e22cd89c556d4334af59d9c30f3e11bb",
            "placeholder": "​",
            "style": "IPY_MODEL_e3ea034d92184c0c9c84bda1d974d37a",
            "value": "Loading checkpoint shards: 100%"
          }
        },
        "a9e9cf764d6d45a6b4e77b40a83a3ee1": {
          "model_module": "@jupyter-widgets/controls",
          "model_name": "FloatProgressModel",
          "model_module_version": "1.5.0",
          "state": {
            "_dom_classes": [],
            "_model_module": "@jupyter-widgets/controls",
            "_model_module_version": "1.5.0",
            "_model_name": "FloatProgressModel",
            "_view_count": null,
            "_view_module": "@jupyter-widgets/controls",
            "_view_module_version": "1.5.0",
            "_view_name": "ProgressView",
            "bar_style": "success",
            "description": "",
            "description_tooltip": null,
            "layout": "IPY_MODEL_54289d579f7f4dd584b44ca113c39bbe",
            "max": 2,
            "min": 0,
            "orientation": "horizontal",
            "style": "IPY_MODEL_91f846aaf8a74a18b02f50dbf28ac1eb",
            "value": 2
          }
        },
        "8bd9f2d3272f4b8c9d34d8b872429b8b": {
          "model_module": "@jupyter-widgets/controls",
          "model_name": "HTMLModel",
          "model_module_version": "1.5.0",
          "state": {
            "_dom_classes": [],
            "_model_module": "@jupyter-widgets/controls",
            "_model_module_version": "1.5.0",
            "_model_name": "HTMLModel",
            "_view_count": null,
            "_view_module": "@jupyter-widgets/controls",
            "_view_module_version": "1.5.0",
            "_view_name": "HTMLView",
            "description": "",
            "description_tooltip": null,
            "layout": "IPY_MODEL_01f35f66b8194402af33d2499c81dc24",
            "placeholder": "​",
            "style": "IPY_MODEL_cab4fe1a3e334d1b9661b0af65732419",
            "value": " 2/2 [00:02&lt;00:00,  1.07it/s]"
          }
        },
        "7796ddfc5ff54bf69d37fb059bcc6d54": {
          "model_module": "@jupyter-widgets/base",
          "model_name": "LayoutModel",
          "model_module_version": "1.2.0",
          "state": {
            "_model_module": "@jupyter-widgets/base",
            "_model_module_version": "1.2.0",
            "_model_name": "LayoutModel",
            "_view_count": null,
            "_view_module": "@jupyter-widgets/base",
            "_view_module_version": "1.2.0",
            "_view_name": "LayoutView",
            "align_content": null,
            "align_items": null,
            "align_self": null,
            "border": null,
            "bottom": null,
            "display": null,
            "flex": null,
            "flex_flow": null,
            "grid_area": null,
            "grid_auto_columns": null,
            "grid_auto_flow": null,
            "grid_auto_rows": null,
            "grid_column": null,
            "grid_gap": null,
            "grid_row": null,
            "grid_template_areas": null,
            "grid_template_columns": null,
            "grid_template_rows": null,
            "height": null,
            "justify_content": null,
            "justify_items": null,
            "left": null,
            "margin": null,
            "max_height": null,
            "max_width": null,
            "min_height": null,
            "min_width": null,
            "object_fit": null,
            "object_position": null,
            "order": null,
            "overflow": null,
            "overflow_x": null,
            "overflow_y": null,
            "padding": null,
            "right": null,
            "top": null,
            "visibility": null,
            "width": null
          }
        },
        "e22cd89c556d4334af59d9c30f3e11bb": {
          "model_module": "@jupyter-widgets/base",
          "model_name": "LayoutModel",
          "model_module_version": "1.2.0",
          "state": {
            "_model_module": "@jupyter-widgets/base",
            "_model_module_version": "1.2.0",
            "_model_name": "LayoutModel",
            "_view_count": null,
            "_view_module": "@jupyter-widgets/base",
            "_view_module_version": "1.2.0",
            "_view_name": "LayoutView",
            "align_content": null,
            "align_items": null,
            "align_self": null,
            "border": null,
            "bottom": null,
            "display": null,
            "flex": null,
            "flex_flow": null,
            "grid_area": null,
            "grid_auto_columns": null,
            "grid_auto_flow": null,
            "grid_auto_rows": null,
            "grid_column": null,
            "grid_gap": null,
            "grid_row": null,
            "grid_template_areas": null,
            "grid_template_columns": null,
            "grid_template_rows": null,
            "height": null,
            "justify_content": null,
            "justify_items": null,
            "left": null,
            "margin": null,
            "max_height": null,
            "max_width": null,
            "min_height": null,
            "min_width": null,
            "object_fit": null,
            "object_position": null,
            "order": null,
            "overflow": null,
            "overflow_x": null,
            "overflow_y": null,
            "padding": null,
            "right": null,
            "top": null,
            "visibility": null,
            "width": null
          }
        },
        "e3ea034d92184c0c9c84bda1d974d37a": {
          "model_module": "@jupyter-widgets/controls",
          "model_name": "DescriptionStyleModel",
          "model_module_version": "1.5.0",
          "state": {
            "_model_module": "@jupyter-widgets/controls",
            "_model_module_version": "1.5.0",
            "_model_name": "DescriptionStyleModel",
            "_view_count": null,
            "_view_module": "@jupyter-widgets/base",
            "_view_module_version": "1.2.0",
            "_view_name": "StyleView",
            "description_width": ""
          }
        },
        "54289d579f7f4dd584b44ca113c39bbe": {
          "model_module": "@jupyter-widgets/base",
          "model_name": "LayoutModel",
          "model_module_version": "1.2.0",
          "state": {
            "_model_module": "@jupyter-widgets/base",
            "_model_module_version": "1.2.0",
            "_model_name": "LayoutModel",
            "_view_count": null,
            "_view_module": "@jupyter-widgets/base",
            "_view_module_version": "1.2.0",
            "_view_name": "LayoutView",
            "align_content": null,
            "align_items": null,
            "align_self": null,
            "border": null,
            "bottom": null,
            "display": null,
            "flex": null,
            "flex_flow": null,
            "grid_area": null,
            "grid_auto_columns": null,
            "grid_auto_flow": null,
            "grid_auto_rows": null,
            "grid_column": null,
            "grid_gap": null,
            "grid_row": null,
            "grid_template_areas": null,
            "grid_template_columns": null,
            "grid_template_rows": null,
            "height": null,
            "justify_content": null,
            "justify_items": null,
            "left": null,
            "margin": null,
            "max_height": null,
            "max_width": null,
            "min_height": null,
            "min_width": null,
            "object_fit": null,
            "object_position": null,
            "order": null,
            "overflow": null,
            "overflow_x": null,
            "overflow_y": null,
            "padding": null,
            "right": null,
            "top": null,
            "visibility": null,
            "width": null
          }
        },
        "91f846aaf8a74a18b02f50dbf28ac1eb": {
          "model_module": "@jupyter-widgets/controls",
          "model_name": "ProgressStyleModel",
          "model_module_version": "1.5.0",
          "state": {
            "_model_module": "@jupyter-widgets/controls",
            "_model_module_version": "1.5.0",
            "_model_name": "ProgressStyleModel",
            "_view_count": null,
            "_view_module": "@jupyter-widgets/base",
            "_view_module_version": "1.2.0",
            "_view_name": "StyleView",
            "bar_color": null,
            "description_width": ""
          }
        },
        "01f35f66b8194402af33d2499c81dc24": {
          "model_module": "@jupyter-widgets/base",
          "model_name": "LayoutModel",
          "model_module_version": "1.2.0",
          "state": {
            "_model_module": "@jupyter-widgets/base",
            "_model_module_version": "1.2.0",
            "_model_name": "LayoutModel",
            "_view_count": null,
            "_view_module": "@jupyter-widgets/base",
            "_view_module_version": "1.2.0",
            "_view_name": "LayoutView",
            "align_content": null,
            "align_items": null,
            "align_self": null,
            "border": null,
            "bottom": null,
            "display": null,
            "flex": null,
            "flex_flow": null,
            "grid_area": null,
            "grid_auto_columns": null,
            "grid_auto_flow": null,
            "grid_auto_rows": null,
            "grid_column": null,
            "grid_gap": null,
            "grid_row": null,
            "grid_template_areas": null,
            "grid_template_columns": null,
            "grid_template_rows": null,
            "height": null,
            "justify_content": null,
            "justify_items": null,
            "left": null,
            "margin": null,
            "max_height": null,
            "max_width": null,
            "min_height": null,
            "min_width": null,
            "object_fit": null,
            "object_position": null,
            "order": null,
            "overflow": null,
            "overflow_x": null,
            "overflow_y": null,
            "padding": null,
            "right": null,
            "top": null,
            "visibility": null,
            "width": null
          }
        },
        "cab4fe1a3e334d1b9661b0af65732419": {
          "model_module": "@jupyter-widgets/controls",
          "model_name": "DescriptionStyleModel",
          "model_module_version": "1.5.0",
          "state": {
            "_model_module": "@jupyter-widgets/controls",
            "_model_module_version": "1.5.0",
            "_model_name": "DescriptionStyleModel",
            "_view_count": null,
            "_view_module": "@jupyter-widgets/base",
            "_view_module_version": "1.2.0",
            "_view_name": "StyleView",
            "description_width": ""
          }
        },
        "79abdb2847ae4efea4cd04cd282a7471": {
          "model_module": "@jupyter-widgets/controls",
          "model_name": "HBoxModel",
          "model_module_version": "1.5.0",
          "state": {
            "_dom_classes": [],
            "_model_module": "@jupyter-widgets/controls",
            "_model_module_version": "1.5.0",
            "_model_name": "HBoxModel",
            "_view_count": null,
            "_view_module": "@jupyter-widgets/controls",
            "_view_module_version": "1.5.0",
            "_view_name": "HBoxView",
            "box_style": "",
            "children": [
              "IPY_MODEL_976c17f4d4dd4d6388e6921849675c8f",
              "IPY_MODEL_1128609f16094c3da02f3c5381838196",
              "IPY_MODEL_9543358b1995475c9a84b55c7e0b54ee"
            ],
            "layout": "IPY_MODEL_33b842934f364a4a87d841e18e40b866"
          }
        },
        "976c17f4d4dd4d6388e6921849675c8f": {
          "model_module": "@jupyter-widgets/controls",
          "model_name": "HTMLModel",
          "model_module_version": "1.5.0",
          "state": {
            "_dom_classes": [],
            "_model_module": "@jupyter-widgets/controls",
            "_model_module_version": "1.5.0",
            "_model_name": "HTMLModel",
            "_view_count": null,
            "_view_module": "@jupyter-widgets/controls",
            "_view_module_version": "1.5.0",
            "_view_name": "HTMLView",
            "description": "",
            "description_tooltip": null,
            "layout": "IPY_MODEL_b553e5b0cf0643d1ad1894348f7ac6f3",
            "placeholder": "​",
            "style": "IPY_MODEL_11bd3e2bf59a4c6b80e7c0e9b23a0b56",
            "value": "Loading checkpoint shards: 100%"
          }
        },
        "1128609f16094c3da02f3c5381838196": {
          "model_module": "@jupyter-widgets/controls",
          "model_name": "FloatProgressModel",
          "model_module_version": "1.5.0",
          "state": {
            "_dom_classes": [],
            "_model_module": "@jupyter-widgets/controls",
            "_model_module_version": "1.5.0",
            "_model_name": "FloatProgressModel",
            "_view_count": null,
            "_view_module": "@jupyter-widgets/controls",
            "_view_module_version": "1.5.0",
            "_view_name": "ProgressView",
            "bar_style": "success",
            "description": "",
            "description_tooltip": null,
            "layout": "IPY_MODEL_6f6e0f12025840c8917ed138e6e23a57",
            "max": 2,
            "min": 0,
            "orientation": "horizontal",
            "style": "IPY_MODEL_df85b784993a4519bbebb3979762a4bc",
            "value": 2
          }
        },
        "9543358b1995475c9a84b55c7e0b54ee": {
          "model_module": "@jupyter-widgets/controls",
          "model_name": "HTMLModel",
          "model_module_version": "1.5.0",
          "state": {
            "_dom_classes": [],
            "_model_module": "@jupyter-widgets/controls",
            "_model_module_version": "1.5.0",
            "_model_name": "HTMLModel",
            "_view_count": null,
            "_view_module": "@jupyter-widgets/controls",
            "_view_module_version": "1.5.0",
            "_view_name": "HTMLView",
            "description": "",
            "description_tooltip": null,
            "layout": "IPY_MODEL_f25c5d2e63804ee5bf66db9ae2c99542",
            "placeholder": "​",
            "style": "IPY_MODEL_e4cb197a0d5441fc9fb589db1bb6a248",
            "value": " 2/2 [00:01&lt;00:00,  1.09it/s]"
          }
        },
        "33b842934f364a4a87d841e18e40b866": {
          "model_module": "@jupyter-widgets/base",
          "model_name": "LayoutModel",
          "model_module_version": "1.2.0",
          "state": {
            "_model_module": "@jupyter-widgets/base",
            "_model_module_version": "1.2.0",
            "_model_name": "LayoutModel",
            "_view_count": null,
            "_view_module": "@jupyter-widgets/base",
            "_view_module_version": "1.2.0",
            "_view_name": "LayoutView",
            "align_content": null,
            "align_items": null,
            "align_self": null,
            "border": null,
            "bottom": null,
            "display": null,
            "flex": null,
            "flex_flow": null,
            "grid_area": null,
            "grid_auto_columns": null,
            "grid_auto_flow": null,
            "grid_auto_rows": null,
            "grid_column": null,
            "grid_gap": null,
            "grid_row": null,
            "grid_template_areas": null,
            "grid_template_columns": null,
            "grid_template_rows": null,
            "height": null,
            "justify_content": null,
            "justify_items": null,
            "left": null,
            "margin": null,
            "max_height": null,
            "max_width": null,
            "min_height": null,
            "min_width": null,
            "object_fit": null,
            "object_position": null,
            "order": null,
            "overflow": null,
            "overflow_x": null,
            "overflow_y": null,
            "padding": null,
            "right": null,
            "top": null,
            "visibility": null,
            "width": null
          }
        },
        "b553e5b0cf0643d1ad1894348f7ac6f3": {
          "model_module": "@jupyter-widgets/base",
          "model_name": "LayoutModel",
          "model_module_version": "1.2.0",
          "state": {
            "_model_module": "@jupyter-widgets/base",
            "_model_module_version": "1.2.0",
            "_model_name": "LayoutModel",
            "_view_count": null,
            "_view_module": "@jupyter-widgets/base",
            "_view_module_version": "1.2.0",
            "_view_name": "LayoutView",
            "align_content": null,
            "align_items": null,
            "align_self": null,
            "border": null,
            "bottom": null,
            "display": null,
            "flex": null,
            "flex_flow": null,
            "grid_area": null,
            "grid_auto_columns": null,
            "grid_auto_flow": null,
            "grid_auto_rows": null,
            "grid_column": null,
            "grid_gap": null,
            "grid_row": null,
            "grid_template_areas": null,
            "grid_template_columns": null,
            "grid_template_rows": null,
            "height": null,
            "justify_content": null,
            "justify_items": null,
            "left": null,
            "margin": null,
            "max_height": null,
            "max_width": null,
            "min_height": null,
            "min_width": null,
            "object_fit": null,
            "object_position": null,
            "order": null,
            "overflow": null,
            "overflow_x": null,
            "overflow_y": null,
            "padding": null,
            "right": null,
            "top": null,
            "visibility": null,
            "width": null
          }
        },
        "11bd3e2bf59a4c6b80e7c0e9b23a0b56": {
          "model_module": "@jupyter-widgets/controls",
          "model_name": "DescriptionStyleModel",
          "model_module_version": "1.5.0",
          "state": {
            "_model_module": "@jupyter-widgets/controls",
            "_model_module_version": "1.5.0",
            "_model_name": "DescriptionStyleModel",
            "_view_count": null,
            "_view_module": "@jupyter-widgets/base",
            "_view_module_version": "1.2.0",
            "_view_name": "StyleView",
            "description_width": ""
          }
        },
        "6f6e0f12025840c8917ed138e6e23a57": {
          "model_module": "@jupyter-widgets/base",
          "model_name": "LayoutModel",
          "model_module_version": "1.2.0",
          "state": {
            "_model_module": "@jupyter-widgets/base",
            "_model_module_version": "1.2.0",
            "_model_name": "LayoutModel",
            "_view_count": null,
            "_view_module": "@jupyter-widgets/base",
            "_view_module_version": "1.2.0",
            "_view_name": "LayoutView",
            "align_content": null,
            "align_items": null,
            "align_self": null,
            "border": null,
            "bottom": null,
            "display": null,
            "flex": null,
            "flex_flow": null,
            "grid_area": null,
            "grid_auto_columns": null,
            "grid_auto_flow": null,
            "grid_auto_rows": null,
            "grid_column": null,
            "grid_gap": null,
            "grid_row": null,
            "grid_template_areas": null,
            "grid_template_columns": null,
            "grid_template_rows": null,
            "height": null,
            "justify_content": null,
            "justify_items": null,
            "left": null,
            "margin": null,
            "max_height": null,
            "max_width": null,
            "min_height": null,
            "min_width": null,
            "object_fit": null,
            "object_position": null,
            "order": null,
            "overflow": null,
            "overflow_x": null,
            "overflow_y": null,
            "padding": null,
            "right": null,
            "top": null,
            "visibility": null,
            "width": null
          }
        },
        "df85b784993a4519bbebb3979762a4bc": {
          "model_module": "@jupyter-widgets/controls",
          "model_name": "ProgressStyleModel",
          "model_module_version": "1.5.0",
          "state": {
            "_model_module": "@jupyter-widgets/controls",
            "_model_module_version": "1.5.0",
            "_model_name": "ProgressStyleModel",
            "_view_count": null,
            "_view_module": "@jupyter-widgets/base",
            "_view_module_version": "1.2.0",
            "_view_name": "StyleView",
            "bar_color": null,
            "description_width": ""
          }
        },
        "f25c5d2e63804ee5bf66db9ae2c99542": {
          "model_module": "@jupyter-widgets/base",
          "model_name": "LayoutModel",
          "model_module_version": "1.2.0",
          "state": {
            "_model_module": "@jupyter-widgets/base",
            "_model_module_version": "1.2.0",
            "_model_name": "LayoutModel",
            "_view_count": null,
            "_view_module": "@jupyter-widgets/base",
            "_view_module_version": "1.2.0",
            "_view_name": "LayoutView",
            "align_content": null,
            "align_items": null,
            "align_self": null,
            "border": null,
            "bottom": null,
            "display": null,
            "flex": null,
            "flex_flow": null,
            "grid_area": null,
            "grid_auto_columns": null,
            "grid_auto_flow": null,
            "grid_auto_rows": null,
            "grid_column": null,
            "grid_gap": null,
            "grid_row": null,
            "grid_template_areas": null,
            "grid_template_columns": null,
            "grid_template_rows": null,
            "height": null,
            "justify_content": null,
            "justify_items": null,
            "left": null,
            "margin": null,
            "max_height": null,
            "max_width": null,
            "min_height": null,
            "min_width": null,
            "object_fit": null,
            "object_position": null,
            "order": null,
            "overflow": null,
            "overflow_x": null,
            "overflow_y": null,
            "padding": null,
            "right": null,
            "top": null,
            "visibility": null,
            "width": null
          }
        },
        "e4cb197a0d5441fc9fb589db1bb6a248": {
          "model_module": "@jupyter-widgets/controls",
          "model_name": "DescriptionStyleModel",
          "model_module_version": "1.5.0",
          "state": {
            "_model_module": "@jupyter-widgets/controls",
            "_model_module_version": "1.5.0",
            "_model_name": "DescriptionStyleModel",
            "_view_count": null,
            "_view_module": "@jupyter-widgets/base",
            "_view_module_version": "1.2.0",
            "_view_name": "StyleView",
            "description_width": ""
          }
        }
      }
    },
    "accelerator": "GPU"
  },
  "cells": [
    {
      "cell_type": "code",
      "execution_count": null,
      "metadata": {
        "colab": {
          "base_uri": "https://localhost:8080/"
        },
        "id": "s6nUBR-p93AO",
        "outputId": "b89492c4-40b6-4d87-f0e6-ec47c3bd9c36"
      },
      "outputs": [
        {
          "output_type": "stream",
          "name": "stdout",
          "text": [
            "\u001b[2K   \u001b[90m━━━━━━━━━━━━━━━━━━━━━━━━━━━━━━━━━━━━━━━━\u001b[0m \u001b[32m76.1/76.1 MB\u001b[0m \u001b[31m18.2 MB/s\u001b[0m eta \u001b[36m0:00:00\u001b[0m\n",
            "\u001b[2K   \u001b[90m━━━━━━━━━━━━━━━━━━━━━━━━━━━━━━━━━━━━━━━━\u001b[0m \u001b[32m363.4/363.4 MB\u001b[0m \u001b[31m2.8 MB/s\u001b[0m eta \u001b[36m0:00:00\u001b[0m\n",
            "\u001b[2K   \u001b[90m━━━━━━━━━━━━━━━━━━━━━━━━━━━━━━━━━━━━━━━━\u001b[0m \u001b[32m13.8/13.8 MB\u001b[0m \u001b[31m84.3 MB/s\u001b[0m eta \u001b[36m0:00:00\u001b[0m\n",
            "\u001b[2K   \u001b[90m━━━━━━━━━━━━━━━━━━━━━━━━━━━━━━━━━━━━━━━━\u001b[0m \u001b[32m24.6/24.6 MB\u001b[0m \u001b[31m80.4 MB/s\u001b[0m eta \u001b[36m0:00:00\u001b[0m\n",
            "\u001b[2K   \u001b[90m━━━━━━━━━━━━━━━━━━━━━━━━━━━━━━━━━━━━━━━━\u001b[0m \u001b[32m883.7/883.7 kB\u001b[0m \u001b[31m41.1 MB/s\u001b[0m eta \u001b[36m0:00:00\u001b[0m\n",
            "\u001b[2K   \u001b[90m━━━━━━━━━━━━━━━━━━━━━━━━━━━━━━━━━━━━━━━━\u001b[0m \u001b[32m664.8/664.8 MB\u001b[0m \u001b[31m1.7 MB/s\u001b[0m eta \u001b[36m0:00:00\u001b[0m\n",
            "\u001b[2K   \u001b[90m━━━━━━━━━━━━━━━━━━━━━━━━━━━━━━━━━━━━━━━━\u001b[0m \u001b[32m211.5/211.5 MB\u001b[0m \u001b[31m10.9 MB/s\u001b[0m eta \u001b[36m0:00:00\u001b[0m\n",
            "\u001b[2K   \u001b[90m━━━━━━━━━━━━━━━━━━━━━━━━━━━━━━━━━━━━━━━━\u001b[0m \u001b[32m56.3/56.3 MB\u001b[0m \u001b[31m17.9 MB/s\u001b[0m eta \u001b[36m0:00:00\u001b[0m\n",
            "\u001b[2K   \u001b[90m━━━━━━━━━━━━━━━━━━━━━━━━━━━━━━━━━━━━━━━━\u001b[0m \u001b[32m127.9/127.9 MB\u001b[0m \u001b[31m19.9 MB/s\u001b[0m eta \u001b[36m0:00:00\u001b[0m\n",
            "\u001b[2K   \u001b[90m━━━━━━━━━━━━━━━━━━━━━━━━━━━━━━━━━━━━━━━━\u001b[0m \u001b[32m207.5/207.5 MB\u001b[0m \u001b[31m4.1 MB/s\u001b[0m eta \u001b[36m0:00:00\u001b[0m\n",
            "\u001b[2K   \u001b[90m━━━━━━━━━━━━━━━━━━━━━━━━━━━━━━━━━━━━━━━━\u001b[0m \u001b[32m21.1/21.1 MB\u001b[0m \u001b[31m104.7 MB/s\u001b[0m eta \u001b[36m0:00:00\u001b[0m\n",
            "\u001b[2K   \u001b[90m━━━━━━━━━━━━━━━━━━━━━━━━━━━━━━━━━━━━━━━━\u001b[0m \u001b[32m348.0/348.0 kB\u001b[0m \u001b[31m7.3 MB/s\u001b[0m eta \u001b[36m0:00:00\u001b[0m\n",
            "\u001b[2K   \u001b[90m━━━━━━━━━━━━━━━━━━━━━━━━━━━━━━━━━━━━━━━━\u001b[0m \u001b[32m491.5/491.5 kB\u001b[0m \u001b[31m21.6 MB/s\u001b[0m eta \u001b[36m0:00:00\u001b[0m\n",
            "\u001b[2K   \u001b[90m━━━━━━━━━━━━━━━━━━━━━━━━━━━━━━━━━━━━━━━━\u001b[0m \u001b[32m116.3/116.3 kB\u001b[0m \u001b[31m10.3 MB/s\u001b[0m eta \u001b[36m0:00:00\u001b[0m\n",
            "\u001b[2K   \u001b[90m━━━━━━━━━━━━━━━━━━━━━━━━━━━━━━━━━━━━━━━━\u001b[0m \u001b[32m193.6/193.6 kB\u001b[0m \u001b[31m18.7 MB/s\u001b[0m eta \u001b[36m0:00:00\u001b[0m\n",
            "\u001b[2K   \u001b[90m━━━━━━━━━━━━━━━━━━━━━━━━━━━━━━━━━━━━━━━━\u001b[0m \u001b[32m143.5/143.5 kB\u001b[0m \u001b[31m13.7 MB/s\u001b[0m eta \u001b[36m0:00:00\u001b[0m\n",
            "\u001b[2K   \u001b[90m━━━━━━━━━━━━━━━━━━━━━━━━━━━━━━━━━━━━━━━━\u001b[0m \u001b[32m194.8/194.8 kB\u001b[0m \u001b[31m18.2 MB/s\u001b[0m eta \u001b[36m0:00:00\u001b[0m\n",
            "\u001b[?25h\u001b[31mERROR: pip's dependency resolver does not currently take into account all the packages that are installed. This behaviour is the source of the following dependency conflicts.\n",
            "gcsfs 2025.3.2 requires fsspec==2025.3.2, but you have fsspec 2025.3.0 which is incompatible.\u001b[0m\u001b[31m\n",
            "\u001b[0mRequirement already satisfied: transformers in /usr/local/lib/python3.11/dist-packages (4.51.3)\n",
            "Requirement already satisfied: filelock in /usr/local/lib/python3.11/dist-packages (from transformers) (3.18.0)\n",
            "Requirement already satisfied: huggingface-hub<1.0,>=0.30.0 in /usr/local/lib/python3.11/dist-packages (from transformers) (0.30.2)\n",
            "Requirement already satisfied: numpy>=1.17 in /usr/local/lib/python3.11/dist-packages (from transformers) (2.0.2)\n",
            "Requirement already satisfied: packaging>=20.0 in /usr/local/lib/python3.11/dist-packages (from transformers) (24.2)\n",
            "Requirement already satisfied: pyyaml>=5.1 in /usr/local/lib/python3.11/dist-packages (from transformers) (6.0.2)\n",
            "Requirement already satisfied: regex!=2019.12.17 in /usr/local/lib/python3.11/dist-packages (from transformers) (2024.11.6)\n",
            "Requirement already satisfied: requests in /usr/local/lib/python3.11/dist-packages (from transformers) (2.32.3)\n",
            "Requirement already satisfied: tokenizers<0.22,>=0.21 in /usr/local/lib/python3.11/dist-packages (from transformers) (0.21.1)\n",
            "Requirement already satisfied: safetensors>=0.4.3 in /usr/local/lib/python3.11/dist-packages (from transformers) (0.5.3)\n",
            "Requirement already satisfied: tqdm>=4.27 in /usr/local/lib/python3.11/dist-packages (from transformers) (4.67.1)\n",
            "Requirement already satisfied: fsspec>=2023.5.0 in /usr/local/lib/python3.11/dist-packages (from huggingface-hub<1.0,>=0.30.0->transformers) (2025.3.0)\n",
            "Requirement already satisfied: typing-extensions>=3.7.4.3 in /usr/local/lib/python3.11/dist-packages (from huggingface-hub<1.0,>=0.30.0->transformers) (4.13.2)\n",
            "Requirement already satisfied: charset-normalizer<4,>=2 in /usr/local/lib/python3.11/dist-packages (from requests->transformers) (3.4.1)\n",
            "Requirement already satisfied: idna<4,>=2.5 in /usr/local/lib/python3.11/dist-packages (from requests->transformers) (3.10)\n",
            "Requirement already satisfied: urllib3<3,>=1.21.1 in /usr/local/lib/python3.11/dist-packages (from requests->transformers) (2.4.0)\n",
            "Requirement already satisfied: certifi>=2017.4.17 in /usr/local/lib/python3.11/dist-packages (from requests->transformers) (2025.4.26)\n",
            "Requirement already satisfied: wordcloud in /usr/local/lib/python3.11/dist-packages (1.9.4)\n",
            "Requirement already satisfied: numpy>=1.6.1 in /usr/local/lib/python3.11/dist-packages (from wordcloud) (2.0.2)\n",
            "Requirement already satisfied: pillow in /usr/local/lib/python3.11/dist-packages (from wordcloud) (11.2.1)\n",
            "Requirement already satisfied: matplotlib in /usr/local/lib/python3.11/dist-packages (from wordcloud) (3.10.0)\n",
            "Requirement already satisfied: contourpy>=1.0.1 in /usr/local/lib/python3.11/dist-packages (from matplotlib->wordcloud) (1.3.2)\n",
            "Requirement already satisfied: cycler>=0.10 in /usr/local/lib/python3.11/dist-packages (from matplotlib->wordcloud) (0.12.1)\n",
            "Requirement already satisfied: fonttools>=4.22.0 in /usr/local/lib/python3.11/dist-packages (from matplotlib->wordcloud) (4.57.0)\n",
            "Requirement already satisfied: kiwisolver>=1.3.1 in /usr/local/lib/python3.11/dist-packages (from matplotlib->wordcloud) (1.4.8)\n",
            "Requirement already satisfied: packaging>=20.0 in /usr/local/lib/python3.11/dist-packages (from matplotlib->wordcloud) (24.2)\n",
            "Requirement already satisfied: pyparsing>=2.3.1 in /usr/local/lib/python3.11/dist-packages (from matplotlib->wordcloud) (3.2.3)\n",
            "Requirement already satisfied: python-dateutil>=2.7 in /usr/local/lib/python3.11/dist-packages (from matplotlib->wordcloud) (2.9.0.post0)\n",
            "Requirement already satisfied: six>=1.5 in /usr/local/lib/python3.11/dist-packages (from python-dateutil>=2.7->matplotlib->wordcloud) (1.17.0)\n",
            "Collecting Levenshtein\n",
            "  Downloading levenshtein-0.27.1-cp311-cp311-manylinux_2_17_x86_64.manylinux2014_x86_64.whl.metadata (3.6 kB)\n",
            "Collecting rapidfuzz<4.0.0,>=3.9.0 (from Levenshtein)\n",
            "  Downloading rapidfuzz-3.13.0-cp311-cp311-manylinux_2_17_x86_64.manylinux2014_x86_64.whl.metadata (12 kB)\n",
            "Downloading levenshtein-0.27.1-cp311-cp311-manylinux_2_17_x86_64.manylinux2014_x86_64.whl (161 kB)\n",
            "\u001b[2K   \u001b[90m━━━━━━━━━━━━━━━━━━━━━━━━━━━━━━━━━━━━━━━━\u001b[0m \u001b[32m161.7/161.7 kB\u001b[0m \u001b[31m3.4 MB/s\u001b[0m eta \u001b[36m0:00:00\u001b[0m\n",
            "\u001b[?25hDownloading rapidfuzz-3.13.0-cp311-cp311-manylinux_2_17_x86_64.manylinux2014_x86_64.whl (3.1 MB)\n",
            "\u001b[2K   \u001b[90m━━━━━━━━━━━━━━━━━━━━━━━━━━━━━━━━━━━━━━━━\u001b[0m \u001b[32m3.1/3.1 MB\u001b[0m \u001b[31m48.1 MB/s\u001b[0m eta \u001b[36m0:00:00\u001b[0m\n",
            "\u001b[?25hInstalling collected packages: rapidfuzz, Levenshtein\n",
            "Successfully installed Levenshtein-0.27.1 rapidfuzz-3.13.0\n",
            "Collecting rouge-score\n",
            "  Downloading rouge_score-0.1.2.tar.gz (17 kB)\n",
            "  Preparing metadata (setup.py) ... \u001b[?25l\u001b[?25hdone\n",
            "Requirement already satisfied: absl-py in /usr/local/lib/python3.11/dist-packages (from rouge-score) (1.4.0)\n",
            "Requirement already satisfied: nltk in /usr/local/lib/python3.11/dist-packages (from rouge-score) (3.9.1)\n",
            "Requirement already satisfied: numpy in /usr/local/lib/python3.11/dist-packages (from rouge-score) (2.0.2)\n",
            "Requirement already satisfied: six>=1.14.0 in /usr/local/lib/python3.11/dist-packages (from rouge-score) (1.17.0)\n",
            "Requirement already satisfied: click in /usr/local/lib/python3.11/dist-packages (from nltk->rouge-score) (8.1.8)\n",
            "Requirement already satisfied: joblib in /usr/local/lib/python3.11/dist-packages (from nltk->rouge-score) (1.4.2)\n",
            "Requirement already satisfied: regex>=2021.8.3 in /usr/local/lib/python3.11/dist-packages (from nltk->rouge-score) (2024.11.6)\n",
            "Requirement already satisfied: tqdm in /usr/local/lib/python3.11/dist-packages (from nltk->rouge-score) (4.67.1)\n",
            "Building wheels for collected packages: rouge-score\n",
            "  Building wheel for rouge-score (setup.py) ... \u001b[?25l\u001b[?25hdone\n",
            "  Created wheel for rouge-score: filename=rouge_score-0.1.2-py3-none-any.whl size=24934 sha256=b03a42b5499f773fc7da75bc736bad0c1250042f97947932f5d86729c863f829\n",
            "  Stored in directory: /root/.cache/pip/wheels/1e/19/43/8a442dc83660ca25e163e1bd1f89919284ab0d0c1475475148\n",
            "Successfully built rouge-score\n",
            "Installing collected packages: rouge-score\n",
            "Successfully installed rouge-score-0.1.2\n",
            "Collecting adapter-transformers\n",
            "  Downloading adapter_transformers-4.0.0.tar.gz (2.9 kB)\n",
            "  Preparing metadata (setup.py) ... \u001b[?25l\u001b[?25hdone\n",
            "Collecting adapters (from adapter-transformers)\n",
            "  Downloading adapters-1.1.1-py3-none-any.whl.metadata (17 kB)\n",
            "Collecting transformers~=4.48.3 (from adapters->adapter-transformers)\n",
            "  Downloading transformers-4.48.3-py3-none-any.whl.metadata (44 kB)\n",
            "\u001b[2K     \u001b[90m━━━━━━━━━━━━━━━━━━━━━━━━━━━━━━━━━━━━━━━━\u001b[0m \u001b[32m44.4/44.4 kB\u001b[0m \u001b[31m2.0 MB/s\u001b[0m eta \u001b[36m0:00:00\u001b[0m\n",
            "\u001b[?25hRequirement already satisfied: packaging in /usr/local/lib/python3.11/dist-packages (from adapters->adapter-transformers) (24.2)\n",
            "Requirement already satisfied: filelock in /usr/local/lib/python3.11/dist-packages (from transformers~=4.48.3->adapters->adapter-transformers) (3.18.0)\n",
            "Requirement already satisfied: huggingface-hub<1.0,>=0.24.0 in /usr/local/lib/python3.11/dist-packages (from transformers~=4.48.3->adapters->adapter-transformers) (0.30.2)\n",
            "Requirement already satisfied: numpy>=1.17 in /usr/local/lib/python3.11/dist-packages (from transformers~=4.48.3->adapters->adapter-transformers) (2.0.2)\n",
            "Requirement already satisfied: pyyaml>=5.1 in /usr/local/lib/python3.11/dist-packages (from transformers~=4.48.3->adapters->adapter-transformers) (6.0.2)\n",
            "Requirement already satisfied: regex!=2019.12.17 in /usr/local/lib/python3.11/dist-packages (from transformers~=4.48.3->adapters->adapter-transformers) (2024.11.6)\n",
            "Requirement already satisfied: requests in /usr/local/lib/python3.11/dist-packages (from transformers~=4.48.3->adapters->adapter-transformers) (2.32.3)\n",
            "Requirement already satisfied: tokenizers<0.22,>=0.21 in /usr/local/lib/python3.11/dist-packages (from transformers~=4.48.3->adapters->adapter-transformers) (0.21.1)\n",
            "Requirement already satisfied: safetensors>=0.4.1 in /usr/local/lib/python3.11/dist-packages (from transformers~=4.48.3->adapters->adapter-transformers) (0.5.3)\n",
            "Requirement already satisfied: tqdm>=4.27 in /usr/local/lib/python3.11/dist-packages (from transformers~=4.48.3->adapters->adapter-transformers) (4.67.1)\n",
            "Requirement already satisfied: fsspec>=2023.5.0 in /usr/local/lib/python3.11/dist-packages (from huggingface-hub<1.0,>=0.24.0->transformers~=4.48.3->adapters->adapter-transformers) (2025.3.0)\n",
            "Requirement already satisfied: typing-extensions>=3.7.4.3 in /usr/local/lib/python3.11/dist-packages (from huggingface-hub<1.0,>=0.24.0->transformers~=4.48.3->adapters->adapter-transformers) (4.13.2)\n",
            "Requirement already satisfied: charset-normalizer<4,>=2 in /usr/local/lib/python3.11/dist-packages (from requests->transformers~=4.48.3->adapters->adapter-transformers) (3.4.1)\n",
            "Requirement already satisfied: idna<4,>=2.5 in /usr/local/lib/python3.11/dist-packages (from requests->transformers~=4.48.3->adapters->adapter-transformers) (3.10)\n",
            "Requirement already satisfied: urllib3<3,>=1.21.1 in /usr/local/lib/python3.11/dist-packages (from requests->transformers~=4.48.3->adapters->adapter-transformers) (2.4.0)\n",
            "Requirement already satisfied: certifi>=2017.4.17 in /usr/local/lib/python3.11/dist-packages (from requests->transformers~=4.48.3->adapters->adapter-transformers) (2025.4.26)\n",
            "Downloading adapters-1.1.1-py3-none-any.whl (289 kB)\n",
            "\u001b[2K   \u001b[90m━━━━━━━━━━━━━━━━━━━━━━━━━━━━━━━━━━━━━━━━\u001b[0m \u001b[32m289.3/289.3 kB\u001b[0m \u001b[31m9.1 MB/s\u001b[0m eta \u001b[36m0:00:00\u001b[0m\n",
            "\u001b[?25hDownloading transformers-4.48.3-py3-none-any.whl (9.7 MB)\n",
            "\u001b[2K   \u001b[90m━━━━━━━━━━━━━━━━━━━━━━━━━━━━━━━━━━━━━━━━\u001b[0m \u001b[32m9.7/9.7 MB\u001b[0m \u001b[31m99.9 MB/s\u001b[0m eta \u001b[36m0:00:00\u001b[0m\n",
            "\u001b[?25hBuilding wheels for collected packages: adapter-transformers\n",
            "  Building wheel for adapter-transformers (setup.py) ... \u001b[?25l\u001b[?25hdone\n",
            "  Created wheel for adapter-transformers: filename=adapter_transformers-4.0.0-py3-none-any.whl size=2630 sha256=7d5c7205e40081dbeb48b2ffb4dfc008fe46fcbc8dc43096b540b0ed865d72ab\n",
            "  Stored in directory: /root/.cache/pip/wheels/a3/6e/b6/e4aa8aa04c274f709d2dc14499cd973de79e2c3e63bfc766ae\n",
            "Successfully built adapter-transformers\n",
            "Installing collected packages: transformers, adapters, adapter-transformers\n",
            "  Attempting uninstall: transformers\n",
            "    Found existing installation: transformers 4.51.3\n",
            "    Uninstalling transformers-4.51.3:\n",
            "      Successfully uninstalled transformers-4.51.3\n",
            "Successfully installed adapter-transformers-4.0.0 adapters-1.1.1 transformers-4.48.3\n"
          ]
        }
      ],
      "source": [
        "!pip install -q -U bitsandbytes\n",
        "!pip install -q -U peft\n",
        "!pip install -q -U trl\n",
        "!pip install -q -U accelerate\n",
        "!pip install transformers\n",
        "!pip install huggingface_hub --q\n",
        "!pip install wordcloud\n",
        "!pip install Levenshtein\n",
        "!pip install rouge-score\n",
        "!pip install adapter-transformers"
      ]
    },
    {
      "cell_type": "markdown",
      "source": [
        "### Загрузка моделей"
      ],
      "metadata": {
        "id": "myomMM_9BODE"
      }
    },
    {
      "cell_type": "code",
      "source": [
        "from huggingface_hub import notebook_login\n",
        "import torch\n",
        "from transformers import AutoTokenizer, AutoModelForCausalLM, BitsAndBytesConfig, pipeline"
      ],
      "metadata": {
        "id": "fiMNHb7N-B1Z"
      },
      "execution_count": null,
      "outputs": []
    },
    {
      "cell_type": "code",
      "source": [
        "!unzip \"/content/all_dialect_model.zip\" -d \"/content/all_dialect_data\""
      ],
      "metadata": {
        "colab": {
          "base_uri": "https://localhost:8080/"
        },
        "id": "R8Njf_JVdv_a",
        "outputId": "096c471e-c6a7-4d8b-d6dd-f3bf546e6806"
      },
      "execution_count": null,
      "outputs": [
        {
          "output_type": "stream",
          "name": "stdout",
          "text": [
            "Archive:  /content/all_dialect_model.zip\n",
            "replace /content/all_dialect_data/tokenizer.model? [y]es, [n]o, [A]ll, [N]one, [r]ename: y\n",
            "  inflating: /content/all_dialect_data/tokenizer.model  \n",
            "replace /content/all_dialect_data/tokenizer_config.json? [y]es, [n]o, [A]ll, [N]one, [r]ename: "
          ]
        }
      ]
    },
    {
      "cell_type": "code",
      "source": [
        "!unzip \"/content/fine_tuned_models.zip\""
      ],
      "metadata": {
        "id": "lgKFquUaYXRU",
        "colab": {
          "base_uri": "https://localhost:8080/"
        },
        "outputId": "adca9e96-8d45-4c74-d685-edce7dcce09e"
      },
      "execution_count": null,
      "outputs": [
        {
          "output_type": "stream",
          "name": "stdout",
          "text": [
            "Archive:  /content/all_dialect_model.zip\n",
            "  inflating: tokenizer.model         \n",
            "  inflating: tokenizer_config.json   \n",
            "  inflating: training_args.bin       \n",
            "  inflating: README.md               \n",
            "  inflating: adapter_config.json     \n",
            "  inflating: adapter_model.safetensors  \n",
            "  inflating: special_tokens_map.json  \n",
            "  inflating: tokenizer.json          \n",
            "Archive:  /content/fine_tuned_models.zip\n",
            "   creating: my_sql_data/\n",
            "   creating: pg_data/\n",
            "   creating: sql_lite_data/\n",
            "  inflating: my_sql_data/tokenizer.model  \n",
            "  inflating: my_sql_data/tokenizer_config.json  \n",
            "  inflating: my_sql_data/training_args.bin  \n",
            "  inflating: my_sql_data/README.md   \n",
            "  inflating: my_sql_data/adapter_config.json  \n",
            "  inflating: my_sql_data/adapter_model.safetensors  \n",
            "  inflating: my_sql_data/special_tokens_map.json  \n",
            "  inflating: my_sql_data/tokenizer.json  \n",
            "  inflating: sql_lite_data/tokenizer.model  \n",
            "  inflating: sql_lite_data/tokenizer_config.json  \n",
            "  inflating: sql_lite_data/training_args.bin  \n",
            "  inflating: sql_lite_data/README.md  \n",
            "  inflating: sql_lite_data/adapter_config.json  \n",
            "  inflating: sql_lite_data/adapter_model.safetensors  \n",
            "  inflating: sql_lite_data/special_tokens_map.json  \n",
            "  inflating: sql_lite_data/tokenizer.json  \n",
            "  inflating: pg_data/tokenizer.model  \n",
            "  inflating: pg_data/tokenizer_config.json  \n",
            "  inflating: pg_data/training_args.bin  \n",
            "  inflating: pg_data/README.md       \n",
            "  inflating: pg_data/adapter_config.json  \n",
            "  inflating: pg_data/adapter_model.safetensors  \n",
            "  inflating: pg_data/special_tokens_map.json  \n",
            "  inflating: pg_data/tokenizer.json  \n"
          ]
        }
      ]
    },
    {
      "cell_type": "markdown",
      "source": [
        "### Анализ датасета"
      ],
      "metadata": {
        "id": "d8lW6QVrG-rE"
      }
    },
    {
      "cell_type": "code",
      "source": [
        "from datasets import load_dataset, DatasetDict\n",
        "from datasets import concatenate_datasets\n",
        "import pandas as pd\n",
        "import matplotlib.pyplot as plt\n",
        "import seaborn as sns\n",
        "import torch\n",
        "from torch.utils.data import random_split, DataLoader\n",
        "from tqdm import tqdm\n",
        "from datasets import Dataset"
      ],
      "metadata": {
        "id": "CI86O8nu-Po7"
      },
      "execution_count": null,
      "outputs": []
    },
    {
      "cell_type": "code",
      "source": [
        "file_path = '/content/test_dataset.csv'\n",
        "dataset = load_dataset('csv', data_files=file_path)\n",
        "df = pd.read_csv(file_path)\n",
        "test_dataset = Dataset.from_pandas(df)\n",
        "dataset"
      ],
      "metadata": {
        "colab": {
          "base_uri": "https://localhost:8080/",
          "height": 174,
          "referenced_widgets": [
            "1e646ac33e914d9792825966d6ed320d",
            "639313cce77b4fdcb7191dcd6173c541",
            "fbf5e28fa7c3481eab1092bd61cebdee",
            "a4837c9d6c9b49058529e1b825b8199a",
            "22c94d6669074c9bb91a214e8d8dc883",
            "6feb4ac1af414974959945f0e5911e18",
            "d249a8ec629d436abe7909740ad6dabe",
            "53927e33bb3441b4a1302941359c8b5e",
            "6829f60ae9844df592ed95776bd65f7b",
            "faa906bf0a504a2b9bb0d864e615ad8a",
            "497cfb88a76048d1b733c549260c8c86"
          ]
        },
        "id": "Nnrp4S3wC6Cn",
        "outputId": "f3d3cef8-4f68-495a-ceb6-379542dc8443"
      },
      "execution_count": null,
      "outputs": [
        {
          "output_type": "display_data",
          "data": {
            "text/plain": [
              "Generating train split: 0 examples [00:00, ? examples/s]"
            ],
            "application/vnd.jupyter.widget-view+json": {
              "version_major": 2,
              "version_minor": 0,
              "model_id": "1e646ac33e914d9792825966d6ed320d"
            }
          },
          "metadata": {}
        },
        {
          "output_type": "execute_result",
          "data": {
            "text/plain": [
              "DatasetDict({\n",
              "    train: Dataset({\n",
              "        features: ['natural_languge', 'sql_lite_schema', 'sql_lite_query', 'my_sql_schema', 'my_sql_query', 'pg_schema', 'pg_query', 'ch_schema', 'ch_query'],\n",
              "        num_rows: 1001\n",
              "    })\n",
              "})"
            ]
          },
          "metadata": {},
          "execution_count": 8
        }
      ]
    },
    {
      "cell_type": "code",
      "source": [
        "from wordcloud import WordCloud\n",
        "import matplotlib.pyplot as plt\n",
        "from collections import Counter\n",
        "import re\n",
        "\n",
        "text_data = dataset['train']['ch_query']\n",
        "all_text = ' '.join(text_data)\n",
        "all_text_cleaned = re.sub(r'\\W+', ' ', all_text)\n",
        "word_counts = Counter(all_text_cleaned.lower().split())\n",
        "\n",
        "wordcloud = WordCloud(width=800, height=400, max_words=100, background_color='white').generate_from_frequencies(word_counts)\n",
        "\n",
        "plt.figure(figsize=(10, 5))\n",
        "plt.imshow(wordcloud, interpolation='bilinear')\n",
        "plt.axis('off')\n",
        "plt.title('Облако слов для \"ch_query\"')\n",
        "plt.show()"
      ],
      "metadata": {
        "colab": {
          "base_uri": "https://localhost:8080/",
          "height": 443
        },
        "id": "R5wmkJCpHYdV",
        "outputId": "75cf0072-18c6-4b9c-e34c-446b9ef3fc38"
      },
      "execution_count": null,
      "outputs": [
        {
          "output_type": "display_data",
          "data": {
            "text/plain": [
              "<Figure size 1000x500 with 1 Axes>"
            ],
            "image/png": "[encoded data removed]"
          },
          "metadata": {}
        }
      ]
    },
    {
      "cell_type": "code",
      "source": [
        "text_data = dataset['train']['natural_languge']\n",
        "all_text = ' '.join(text_data)\n",
        "all_text_cleaned = re.sub(r'\\W+', ' ', all_text)\n",
        "word_counts = Counter(all_text_cleaned.lower().split())\n",
        "\n",
        "wordcloud = WordCloud(width=800, height=400, max_words=100, background_color='white').generate_from_frequencies(word_counts)\n",
        "\n",
        "plt.figure(figsize=(10, 5))\n",
        "plt.imshow(wordcloud, interpolation='bilinear')\n",
        "plt.axis('off')\n",
        "plt.title('Облако слов для \"natural_languge\"')\n",
        "plt.show()"
      ],
      "metadata": {
        "colab": {
          "base_uri": "https://localhost:8080/",
          "height": 443
        },
        "id": "BU2myeBBInMz",
        "outputId": "766bd054-15a8-4679-c021-000ec15b9c05"
      },
      "execution_count": null,
      "outputs": [
        {
          "output_type": "display_data",
          "data": {
            "text/plain": [
              "<Figure size 1000x500 with 1 Axes>"
            ],
            "image/png": "[encoded data removed]"
          },
          "metadata": {}
        }
      ]
    },
    {
      "cell_type": "code",
      "source": [
        "df = dataset['train'].to_pandas()\n",
        "\n",
        "df['pg_query_length'] = df['pg_query'].str.len()\n",
        "plt.figure(figsize=(10, 6))\n",
        "sns.histplot(df['pg_query_length'])\n",
        "plt.title('Распределение длин SQL-запросов (PostgreSQL)')\n",
        "plt.xlabel('Длина запроса (символы)')\n",
        "plt.ylabel('Частота')\n",
        "plt.show()"
      ],
      "metadata": {
        "colab": {
          "base_uri": "https://localhost:8080/",
          "height": 525
        },
        "id": "nHFedVfQL918",
        "outputId": "c3365e8c-f827-47b6-c5a9-11e023bb1671"
      },
      "execution_count": null,
      "outputs": [
        {
          "output_type": "display_data",
          "data": {
            "text/plain": [
              "<Figure size 1000x600 with 1 Axes>"
            ],
            "image/png": "[encoded data removed]"
          },
          "metadata": {}
        }
      ]
    },
    {
      "cell_type": "markdown",
      "source": [
        "### Подготовка датасета"
      ],
      "metadata": {
        "id": "ywvM1QFNtnbi"
      }
    },
    {
      "cell_type": "code",
      "source": [
        "import random\n",
        "\n",
        "prompt_template = \"\"\"<start_of_turn>user\n",
        "You are an intelligent AI specialized in generating SQL queries.\n",
        "Your task is to translate {db_name} into Clickhouse.\n",
        "Please provide the SQL query corresponding to the given prompt and context:\n",
        "Prompt:\n",
        "translate {db_name} into Clickhouse\n",
        "Context:\n",
        "Natural language: {natural_language}\n",
        "{ch_schema_part}\n",
        "{query_part}\n",
        "<end_of_turn>\n",
        "<start_of_turn>model\n",
        "\"\"\"\n",
        "\n",
        "\n",
        "def tokenize_function(examples, db_name, dialect_column):\n",
        "    inputs = []\n",
        "    for natural_language, schema, query in zip(\n",
        "        examples['natural_languge'],\n",
        "        examples['ch_schema'],\n",
        "        examples[dialect_column]\n",
        "    ):\n",
        "        ch_schema_part = f\"ClickHouse schema: {schema}\" if schema else \"\"\n",
        "        query_part = f\"{db_name} query: {query}\" if query else \"\"\n",
        "        filled_prompt = prompt_template.format(\n",
        "            db_name=db_name,\n",
        "            natural_language=natural_language,\n",
        "            ch_schema_part=ch_schema_part,\n",
        "            query_part=query_part,\n",
        "        )\n",
        "        inputs.append(filled_prompt)\n",
        "\n",
        "    model_inputs = {}\n",
        "    model_inputs[\"prompt\"] = inputs\n",
        "    return model_inputs\n"
      ],
      "metadata": {
        "id": "aEC9xcs6-WRe"
      },
      "execution_count": null,
      "outputs": []
    },
    {
      "cell_type": "code",
      "source": [
        "from functools import partial\n",
        "\n",
        "my_sql_tokenize = partial(tokenize_function, db_name='MY SQL', dialect_column='my_sql_query')\n",
        "sql_lite_tokenize = partial(tokenize_function, db_name='SQL LITE', dialect_column='sql_lite_query')\n",
        "pg_tokenize = partial(tokenize_function, db_name='Postgree', dialect_column='pg_query')\n",
        "\n",
        "my_sql_tokenized_test = test_dataset.map(my_sql_tokenize, batched=True)\n",
        "sql_lite_tokenized_test = test_dataset.map(sql_lite_tokenize, batched=True)\n",
        "pg_tokenized_test = test_dataset.map(pg_tokenize, batched=True)"
      ],
      "metadata": {
        "id": "r2kazXvwduDq",
        "colab": {
          "base_uri": "https://localhost:8080/",
          "height": 113,
          "referenced_widgets": [
            "c676ceb1c05b4d1da69defd9d76dd1da",
            "3270ae2b30ee4deea2f266381696d3ed",
            "5250a88c87dc4ae38f88c0dca11068c8",
            "3c7498773f494d8c9d140b74919ec474",
            "0735c6271825496f88ce8c69653cf358",
            "cf94e8cbc71c45c1a7b159af3d0f25c5",
            "7c65fe2abcb04e0f9d19631ee82be9cb",
            "5a6f10f9c6984595a5c7886db0a4fecd",
            "a9bbc3d4e69a41aba1259cd5309f08a2",
            "77d91d19a58d41cfb027ee6e9b9009c1",
            "64a50ef17a1a43f9bf783338b2689407",
            "640284dec14247adbc779e3405d9cb51",
            "0f0c5fdbec0f4707a0b55d8dcdbc1429",
            "6c4e0e19a647449eb8374502fc7f2836",
            "0ea4cf48daa44d1193e68cb9ecbfe8a7",
            "adc9652a43704ff0945abfa9d5280bef",
            "26eaaa7e71c14aceb06abbef57fdeccf",
            "8510df19bacb40889218a0a313185350",
            "457449bd7d0542d9ba61c72d9d23e8dc",
            "8e27fe75da5b4effb4588f1ee562a1a5",
            "2fb06c405ae3476daf21c59478237545",
            "2fc53de768344df68a357f1514afd5ff",
            "fda9321728b24e7e922d8b3e77b21b46",
            "874d2e9ee5fa4b76832566a09f73f83a",
            "bba527f89d39413b8948ac6197e773a5",
            "fe20634dfc48492f82adecb71def1071",
            "9278fe846ee743fe984756ee64b1b28e",
            "d3a32b5858df4d5da994bbafacf9a588",
            "c1ade2d96efa4b269f3f1863dc7b920d",
            "5912f49d8ca64b92a949cb296ee718d4",
            "b12b50a3ba4844f697c7297613f2459c",
            "ab54a48692084a44a5952c834b0c0c44",
            "5dc6f796b3374b46ad84b4ff58870a55"
          ]
        },
        "outputId": "95976450-1e9f-4f3d-91c5-e7d54a794391"
      },
      "execution_count": null,
      "outputs": [
        {
          "output_type": "display_data",
          "data": {
            "text/plain": [
              "Map:   0%|          | 0/1001 [00:00<?, ? examples/s]"
            ],
            "application/vnd.jupyter.widget-view+json": {
              "version_major": 2,
              "version_minor": 0,
              "model_id": "c676ceb1c05b4d1da69defd9d76dd1da"
            }
          },
          "metadata": {}
        },
        {
          "output_type": "display_data",
          "data": {
            "text/plain": [
              "Map:   0%|          | 0/1001 [00:00<?, ? examples/s]"
            ],
            "application/vnd.jupyter.widget-view+json": {
              "version_major": 2,
              "version_minor": 0,
              "model_id": "640284dec14247adbc779e3405d9cb51"
            }
          },
          "metadata": {}
        },
        {
          "output_type": "display_data",
          "data": {
            "text/plain": [
              "Map:   0%|          | 0/1001 [00:00<?, ? examples/s]"
            ],
            "application/vnd.jupyter.widget-view+json": {
              "version_major": 2,
              "version_minor": 0,
              "model_id": "fda9321728b24e7e922d8b3e77b21b46"
            }
          },
          "metadata": {}
        }
      ]
    },
    {
      "cell_type": "code",
      "source": [
        "combined_dataset_test = concatenate_datasets([\n",
        "    sql_lite_tokenized_test.select(range(200)),\n",
        "    my_sql_tokenized_test.select(range(200)),\n",
        "    pg_tokenized_test.select(range(200))\n",
        "])"
      ],
      "metadata": {
        "id": "gMii1gUWrSZn"
      },
      "execution_count": null,
      "outputs": []
    },
    {
      "cell_type": "code",
      "source": [
        "my_sql_tokenized_test\n",
        "my_sql_tokenized_test[0]"
      ],
      "metadata": {
        "colab": {
          "base_uri": "https://localhost:8080/"
        },
        "id": "9PIZhNo5DG9n",
        "outputId": "886ac43a-89d3-46d7-cbf1-238f2fb3ffdd"
      },
      "execution_count": null,
      "outputs": [
        {
          "output_type": "execute_result",
          "data": {
            "text/plain": [
              "{'natural_languge': \"What was the location and attendance when the team's record was 16-44?\",\n",
              " 'sql_lite_schema': 'CREATE TABLE IF NOT EXISTS table_name ( Location TEXT, Attendance INTEGER, Record TEXT );',\n",
              " 'sql_lite_query': \"SELECT Location, Attendance FROM table_name WHERE Record = '16-44'\",\n",
              " 'my_sql_schema': 'CREATE TABLE my_table ( Location VARCHAR(255), Attendance INT, Record VARCHAR(255) );',\n",
              " 'my_sql_query': \"SELECT Location, Attendance FROM my_table WHERE Record = '16-44';\",\n",
              " 'pg_schema': 'CREATE TABLE IF NOT EXISTS attendance ( id SERIAL PRIMARY KEY, location VARCHAR(255), attendance INT, record VARCHAR(255) );',\n",
              " 'pg_query': \"SELECT location, attendance FROM attendance WHERE record = '16-44';\",\n",
              " 'ch_schema': 'CREATE TABLE IF NOT EXISTS my_table ( Location String, Attendance UInt32 ) ENGINE = MergeTree() ORDER BY Location;',\n",
              " 'ch_query': \"SELECT Location, Attendance FROM my_table WHERE Record = '16-44'\",\n",
              " 'prompt': \"<start_of_turn>user\\nYou are an intelligent AI specialized in generating SQL queries.\\nYour task is to translate MY SQL into Clickhouse.\\nPlease provide the SQL query corresponding to the given prompt and context:\\nPrompt:\\ntranslate MY SQL into Clickhouse\\nContext:\\nNatural language: What was the location and attendance when the team's record was 16-44?\\nClickHouse schema: CREATE TABLE IF NOT EXISTS my_table ( Location String, Attendance UInt32 ) ENGINE = MergeTree() ORDER BY Location;\\nMY SQL query: SELECT Location, Attendance FROM my_table WHERE Record = '16-44';\\n<end_of_turn>\\n<start_of_turn>model\\n\"}"
            ]
          },
          "metadata": {},
          "execution_count": 106
        }
      ]
    },
    {
      "cell_type": "markdown",
      "source": [
        "### Проверка предобученной модели"
      ],
      "metadata": {
        "id": "wRqHQ4Dd4cSU"
      }
    },
    {
      "cell_type": "code",
      "source": [
        "import Levenshtein\n",
        "from rouge_score import rouge_scorer\n",
        "\n",
        "scorer = rouge_scorer.RougeScorer(['rouge1', 'rougeL'], use_stemmer=True)\n",
        "\n",
        "\n",
        "def calculate_metrics(sql_converter, dataset, device, max_new_tokens=100, temperature=1.0, tolerance=0.1):\n",
        "    rouge1_scores = []\n",
        "    rougeL_scores = []\n",
        "    correct_predictions = 0\n",
        "    total_samples = len(dataset)\n",
        "\n",
        "    with torch.no_grad():\n",
        "        for data_point in tqdm(dataset, desc=\"Evaluating\"):\n",
        "            prompt = data_point['prompt']\n",
        "            natural_languge = data_point['natural_languge']\n",
        "            ground_truth_query = data_point['ch_query'].strip()\n",
        "\n",
        "            result = sql_converter(\n",
        "              data_point['prompt'],\n",
        "              eos_token_id=1,\n",
        "              pad_token_id=1,\n",
        "              do_sample=False\n",
        "            )[0][\"generated_text\"]\n",
        "            generated_query = result.split('<start_of_turn>model')[1]\n",
        "\n",
        "            model_answer = generated_query.strip()\n",
        "            if ';' in model_answer:\n",
        "                model_answer = model_answer.split(';')[0] + ';'\n",
        "            distance = Levenshtein.distance(model_answer, ground_truth_query)\n",
        "            max_distance = len(ground_truth_query) * tolerance\n",
        "            if distance <= max_distance:\n",
        "                correct_predictions += 1\n",
        "\n",
        "            # rouge\n",
        "            scores = scorer.score(data_point['ch_query'].strip(), model_answer)\n",
        "            rouge1_scores.append(scores[\"rouge1\"].fmeasure)\n",
        "            rougeL_scores.append(scores[\"rougeL\"].fmeasure)\n",
        "\n",
        "    accuracy = correct_predictions / total_samples\n",
        "    print(f\"Distance accuracy: {accuracy}\")\n",
        "\n",
        "    avg_rouge1 = sum(rouge1_scores) / len(rouge1_scores)\n",
        "    avg_rougeL = sum(rougeL_scores) / len(rougeL_scores)\n",
        "    print(f\"Average ROUGE-1: {avg_rouge1}\")\n",
        "    print(f\"Average ROUGE-L: {avg_rougeL}\")\n",
        "\n",
        "    return accuracy, avg_rouge1, avg_rougeL\n"
      ],
      "metadata": {
        "id": "LbqOkq0IzWOO"
      },
      "execution_count": null,
      "outputs": []
    },
    {
      "cell_type": "code",
      "source": [
        "sql_lite_directory = '/content/sql_lite_data'\n",
        "my_sql_directory = '/content/my_sql_data'\n",
        "pg_directory = '/content/pg_data'\n",
        "all_dialect_directory = '/content/all_dialect_data'"
      ],
      "metadata": {
        "id": "ZOexzuCSiWrR"
      },
      "execution_count": null,
      "outputs": []
    },
    {
      "cell_type": "code",
      "source": [
        "torch.set_grad_enabled(False)"
      ],
      "metadata": {
        "colab": {
          "base_uri": "https://localhost:8080/"
        },
        "id": "RPS5lHvxyK72",
        "outputId": "ead8ef9e-897a-4aa6-ef07-f49d9f9e4a13"
      },
      "execution_count": null,
      "outputs": [
        {
          "output_type": "execute_result",
          "data": {
            "text/plain": [
              "<torch.autograd.grad_mode.set_grad_enabled at 0x7d13e0d52510>"
            ]
          },
          "metadata": {},
          "execution_count": 14
        }
      ]
    },
    {
      "cell_type": "code",
      "source": [
        "from transformers import pipeline\n",
        "\n",
        "sql_lite_trained_tokenizer = AutoTokenizer.from_pretrained(sql_lite_directory)\n",
        "sql_lite_trained_model = AutoModelForCausalLM.from_pretrained(sql_lite_directory)\n",
        "sql_lite_trained_model.eval()\n"
      ],
      "metadata": {
        "id": "UvIwVsGpiNoR",
        "colab": {
          "base_uri": "https://localhost:8080/",
          "height": 513,
          "referenced_widgets": [
            "d0ee46d8e0534015bc01c57732875f42",
            "e5204b41033443bb8f68787b872f9b33",
            "83d9c4f007c046f3b9458971253fdc01",
            "f27d3b9e6f034ec6833afa10a1632426",
            "175247163e1e46b2b6e0eb53d2560958",
            "00c17d42429a4d53b82c7fab16973f2c",
            "db5ff935c2b34d65bb6cb6685a075a89",
            "d4405f83c20f4834ad2cbab9d9262f25",
            "3943dec8ca8c4eb2b3f01c14bb7dbabd",
            "7f83282d0d434b93a9134c2ccf4b7ef3",
            "826c051d36d24b92ae3a2dfd41b0c6e7"
          ]
        },
        "outputId": "979c48f1-edaf-4e00-ff24-35cf50d1810e"
      },
      "execution_count": null,
      "outputs": [
        {
          "output_type": "display_data",
          "data": {
            "text/plain": [
              "Loading checkpoint shards:   0%|          | 0/2 [00:00<?, ?it/s]"
            ],
            "application/vnd.jupyter.widget-view+json": {
              "version_major": 2,
              "version_minor": 0,
              "model_id": "d0ee46d8e0534015bc01c57732875f42"
            }
          },
          "metadata": {}
        },
        {
          "output_type": "execute_result",
          "data": {
            "text/plain": [
              "GemmaForCausalLM(\n",
              "  (model): GemmaModel(\n",
              "    (embed_tokens): Embedding(256000, 2048, padding_idx=0)\n",
              "    (layers): ModuleList(\n",
              "      (0-17): 18 x GemmaDecoderLayer(\n",
              "        (self_attn): GemmaAttention(\n",
              "          (q_proj): Linear(in_features=2048, out_features=2048, bias=False)\n",
              "          (k_proj): Linear(in_features=2048, out_features=256, bias=False)\n",
              "          (v_proj): Linear(in_features=2048, out_features=256, bias=False)\n",
              "          (o_proj): Linear(in_features=2048, out_features=2048, bias=False)\n",
              "        )\n",
              "        (mlp): GemmaMLP(\n",
              "          (gate_proj): Linear(in_features=2048, out_features=16384, bias=False)\n",
              "          (up_proj): Linear(in_features=2048, out_features=16384, bias=False)\n",
              "          (down_proj): Linear(in_features=16384, out_features=2048, bias=False)\n",
              "          (act_fn): GELUActivation()\n",
              "        )\n",
              "        (input_layernorm): GemmaRMSNorm((2048,), eps=1e-06)\n",
              "        (post_attention_layernorm): GemmaRMSNorm((2048,), eps=1e-06)\n",
              "      )\n",
              "    )\n",
              "    (norm): GemmaRMSNorm((2048,), eps=1e-06)\n",
              "    (rotary_emb): GemmaRotaryEmbedding()\n",
              "  )\n",
              "  (lm_head): Linear(in_features=2048, out_features=256000, bias=False)\n",
              ")"
            ]
          },
          "metadata": {},
          "execution_count": 18
        }
      ]
    },
    {
      "cell_type": "code",
      "source": [
        "sql_lite_converter = pipeline(\n",
        "    \"text-generation\",\n",
        "    model=sql_lite_trained_model,\n",
        "    tokenizer=sql_lite_trained_tokenizer,\n",
        "    device=\"cuda\"\n",
        ")"
      ],
      "metadata": {
        "colab": {
          "base_uri": "https://localhost:8080/"
        },
        "id": "hd3y8WLDgHY_",
        "outputId": "caf8a8db-6cd4-49d3-b658-bb97b216e4e9"
      },
      "execution_count": null,
      "outputs": [
        {
          "output_type": "stream",
          "name": "stderr",
          "text": [
            "Device set to use cuda\n"
          ]
        }
      ]
    },
    {
      "cell_type": "code",
      "source": [
        "calculate_metrics(sql_lite_converter, sql_lite_tokenized_test.select(range(250)), \"cuda\")"
      ],
      "metadata": {
        "id": "Qzhpa_BBh0mz",
        "colab": {
          "base_uri": "https://localhost:8080/"
        },
        "outputId": "f3b15a8f-546e-44d3-fa04-8a92dffc0ba7"
      },
      "execution_count": null,
      "outputs": [
        {
          "output_type": "stream",
          "name": "stderr",
          "text": [
            "Evaluating:   4%|▍         | 10/250 [00:05<02:04,  1.93it/s]You seem to be using the pipelines sequentially on GPU. In order to maximize efficiency please use a dataset\n",
            "Evaluating: 100%|██████████| 250/250 [02:04<00:00,  2.01it/s]"
          ]
        },
        {
          "output_type": "stream",
          "name": "stdout",
          "text": [
            "Distance accuracy: 0.28\n",
            "Average ROUGE-1: 0.8315882560061999\n",
            "Average ROUGE-L: 0.8217018791082441\n"
          ]
        },
        {
          "output_type": "stream",
          "name": "stderr",
          "text": [
            "\n"
          ]
        },
        {
          "output_type": "execute_result",
          "data": {
            "text/plain": [
              "(0.28, 0.8315882560061999, 0.8217018791082441)"
            ]
          },
          "metadata": {},
          "execution_count": 20
        }
      ]
    },
    {
      "cell_type": "code",
      "source": [
        "my_sql_trained_tokenizer = AutoTokenizer.from_pretrained(my_sql_directory)\n",
        "my_sql_trained_model = AutoModelForCausalLM.from_pretrained(my_sql_directory)\n",
        "my_sql_trained_model.eval()\n",
        "\n",
        "my_sql_converter = pipeline(\n",
        "    \"text-generation\",\n",
        "    model=my_sql_trained_model,\n",
        "    tokenizer=my_sql_trained_tokenizer,\n",
        "    device=\"cuda\"\n",
        ")\n",
        "\n",
        "calculate_metrics(my_sql_converter, my_sql_tokenized_test.select(range(250)), \"cuda\")"
      ],
      "metadata": {
        "id": "dMk-Nd04pXgQ",
        "colab": {
          "base_uri": "https://localhost:8080/",
          "height": 156,
          "referenced_widgets": [
            "0263d9411180404eb2797b2261549a10",
            "e24fccc87b4440c1b976c444c4a1f709",
            "aa7bd090636a473e8a871a2a85c5f716",
            "7a1a8285dced498da9b685361761a660",
            "2345fa39fd9341f4be28a74861ac7218",
            "a448b2eae638407f9aef85cb4d5ebe11",
            "af608f3b63df48ccaba9f6c960db9f02",
            "25cff025045045969e1fea96b350e003",
            "c045cbf3505142d998890460701e3828",
            "f0386fb3f30547b1ac3eb59328ce4581",
            "1249d2768d8b4eab88089861d5357b66"
          ]
        },
        "outputId": "6ce99acc-d586-4c9c-e387-143b90104884"
      },
      "execution_count": null,
      "outputs": [
        {
          "output_type": "display_data",
          "data": {
            "text/plain": [
              "Loading checkpoint shards:   0%|          | 0/2 [00:00<?, ?it/s]"
            ],
            "application/vnd.jupyter.widget-view+json": {
              "version_major": 2,
              "version_minor": 0,
              "model_id": "0263d9411180404eb2797b2261549a10"
            }
          },
          "metadata": {}
        },
        {
          "output_type": "stream",
          "name": "stderr",
          "text": [
            "Device set to use cuda\n",
            "Evaluating: 100%|██████████| 250/250 [02:03<00:00,  2.02it/s]"
          ]
        },
        {
          "output_type": "stream",
          "name": "stdout",
          "text": [
            "Distance accuracy: 0.3\n",
            "Average ROUGE-1: 0.8449288345378209\n",
            "Average ROUGE-L: 0.8383387911428887\n"
          ]
        },
        {
          "output_type": "stream",
          "name": "stderr",
          "text": [
            "\n"
          ]
        },
        {
          "output_type": "execute_result",
          "data": {
            "text/plain": [
              "(0.3, 0.8449288345378209, 0.8383387911428887)"
            ]
          },
          "metadata": {},
          "execution_count": 21
        }
      ]
    },
    {
      "cell_type": "code",
      "source": [
        "pg_trained_tokenizer = AutoTokenizer.from_pretrained(pg_directory)\n",
        "pg_trained_model = AutoModelForCausalLM.from_pretrained(pg_directory)\n",
        "pg_trained_model.eval()\n",
        "\n",
        "pg_converter = pipeline(\n",
        "    \"text-generation\",\n",
        "    model=pg_trained_model,\n",
        "    tokenizer=pg_trained_tokenizer,\n",
        "    device=\"cuda\"\n",
        ")\n",
        "\n",
        "calculate_metrics(pg_converter, pg_tokenized_test.select(range(250)), \"cuda\")"
      ],
      "metadata": {
        "id": "GPaa3b7QpXbN",
        "colab": {
          "base_uri": "https://localhost:8080/",
          "height": 194,
          "referenced_widgets": [
            "d4b9d8e4f9e24b5f9f9cc6d6fce679da",
            "054e8e03409a47cdbef96d87938f511f",
            "a9e9cf764d6d45a6b4e77b40a83a3ee1",
            "8bd9f2d3272f4b8c9d34d8b872429b8b",
            "7796ddfc5ff54bf69d37fb059bcc6d54",
            "e22cd89c556d4334af59d9c30f3e11bb",
            "e3ea034d92184c0c9c84bda1d974d37a",
            "54289d579f7f4dd584b44ca113c39bbe",
            "91f846aaf8a74a18b02f50dbf28ac1eb",
            "01f35f66b8194402af33d2499c81dc24",
            "cab4fe1a3e334d1b9661b0af65732419"
          ]
        },
        "outputId": "e72255f2-da05-4379-d777-e059a222b397"
      },
      "execution_count": null,
      "outputs": [
        {
          "output_type": "display_data",
          "data": {
            "text/plain": [
              "Loading checkpoint shards:   0%|          | 0/2 [00:00<?, ?it/s]"
            ],
            "application/vnd.jupyter.widget-view+json": {
              "version_major": 2,
              "version_minor": 0,
              "model_id": "d4b9d8e4f9e24b5f9f9cc6d6fce679da"
            }
          },
          "metadata": {}
        },
        {
          "output_type": "stream",
          "name": "stderr",
          "text": [
            "Device set to use cuda\n",
            "Evaluating:   4%|▍         | 10/250 [00:05<02:02,  1.96it/s]You seem to be using the pipelines sequentially on GPU. In order to maximize efficiency please use a dataset\n",
            "Evaluating: 100%|██████████| 250/250 [02:03<00:00,  2.02it/s]"
          ]
        },
        {
          "output_type": "stream",
          "name": "stdout",
          "text": [
            "Distance accuracy: 0.232\n",
            "Average ROUGE-1: 0.8267066155473781\n",
            "Average ROUGE-L: 0.8181995546688002\n"
          ]
        },
        {
          "output_type": "stream",
          "name": "stderr",
          "text": [
            "\n"
          ]
        },
        {
          "output_type": "execute_result",
          "data": {
            "text/plain": [
              "(0.232, 0.8267066155473781, 0.8181995546688002)"
            ]
          },
          "metadata": {},
          "execution_count": 15
        }
      ]
    },
    {
      "cell_type": "code",
      "source": [
        "torch.cuda.empty_cache()"
      ],
      "metadata": {
        "id": "fd78snnusASZ"
      },
      "execution_count": null,
      "outputs": []
    },
    {
      "cell_type": "code",
      "source": [
        "all_dialect_trained_tokenizer = AutoTokenizer.from_pretrained(all_dialect_directory)\n",
        "all_dialect_trained_model = AutoModelForCausalLM.from_pretrained(all_dialect_directory)\n",
        "all_dialect_trained_model.eval()\n",
        "all_dialects_converter = pipeline(\n",
        "    \"text-generation\",\n",
        "    model=all_dialect_trained_model,\n",
        "    tokenizer=all_dialect_trained_tokenizer,\n",
        "    device=\"cuda\"\n",
        ")"
      ],
      "metadata": {
        "colab": {
          "base_uri": "https://localhost:8080/",
          "height": 67,
          "referenced_widgets": [
            "79abdb2847ae4efea4cd04cd282a7471",
            "976c17f4d4dd4d6388e6921849675c8f",
            "1128609f16094c3da02f3c5381838196",
            "9543358b1995475c9a84b55c7e0b54ee",
            "33b842934f364a4a87d841e18e40b866",
            "b553e5b0cf0643d1ad1894348f7ac6f3",
            "11bd3e2bf59a4c6b80e7c0e9b23a0b56",
            "6f6e0f12025840c8917ed138e6e23a57",
            "df85b784993a4519bbebb3979762a4bc",
            "f25c5d2e63804ee5bf66db9ae2c99542",
            "e4cb197a0d5441fc9fb589db1bb6a248"
          ]
        },
        "id": "8dMphT_JxbKP",
        "outputId": "9d5dd6c6-5722-4f0f-de64-e88695bcec8d"
      },
      "execution_count": null,
      "outputs": [
        {
          "output_type": "display_data",
          "data": {
            "text/plain": [
              "Loading checkpoint shards:   0%|          | 0/2 [00:00<?, ?it/s]"
            ],
            "application/vnd.jupyter.widget-view+json": {
              "version_major": 2,
              "version_minor": 0,
              "model_id": "79abdb2847ae4efea4cd04cd282a7471"
            }
          },
          "metadata": {}
        },
        {
          "output_type": "stream",
          "name": "stderr",
          "text": [
            "Device set to use cuda\n"
          ]
        }
      ]
    },
    {
      "cell_type": "code",
      "source": [
        "calculate_metrics(all_dialects_converter, combined_dataset_test.select(range(250)), \"cuda\")"
      ],
      "metadata": {
        "id": "FOGJ_3JHp4WA",
        "colab": {
          "base_uri": "https://localhost:8080/"
        },
        "outputId": "9ea465d2-a968-432e-a8b9-049cef0da6cb"
      },
      "execution_count": null,
      "outputs": [
        {
          "output_type": "stream",
          "name": "stderr",
          "text": [
            "Evaluating: 100%|██████████| 250/250 [02:28<00:00,  1.68it/s]"
          ]
        },
        {
          "output_type": "stream",
          "name": "stdout",
          "text": [
            "Distance accuracy: 0.064\n",
            "Average ROUGE-1: 0.48866253860436987\n",
            "Average ROUGE-L: 0.46967555430505425\n"
          ]
        },
        {
          "output_type": "stream",
          "name": "stderr",
          "text": [
            "\n"
          ]
        },
        {
          "output_type": "execute_result",
          "data": {
            "text/plain": [
              "(0.064, 0.48866253860436987, 0.46967555430505425)"
            ]
          },
          "metadata": {},
          "execution_count": 17
        }
      ]
    },
    {
      "cell_type": "code",
      "source": [
        "calculate_metrics(all_dialects_converter, pg_tokenized_test.select(range(250)), \"cuda\")"
      ],
      "metadata": {
        "colab": {
          "base_uri": "https://localhost:8080/"
        },
        "id": "DaJy3zHYvgLy",
        "outputId": "98db7a76-2e28-4fa0-c3a5-de822ad1b71c"
      },
      "execution_count": null,
      "outputs": [
        {
          "output_type": "stream",
          "name": "stderr",
          "text": [
            "Evaluating: 100%|██████████| 250/250 [02:28<00:00,  1.68it/s]"
          ]
        },
        {
          "output_type": "stream",
          "name": "stdout",
          "text": [
            "Distance accuracy: 0.096\n",
            "Average ROUGE-1: 0.4553813106505821\n",
            "Average ROUGE-L: 0.43234531200939863\n"
          ]
        },
        {
          "output_type": "stream",
          "name": "stderr",
          "text": [
            "\n"
          ]
        },
        {
          "output_type": "execute_result",
          "data": {
            "text/plain": [
              "(0.096, 0.4553813106505821, 0.43234531200939863)"
            ]
          },
          "metadata": {},
          "execution_count": 18
        }
      ]
    },
    {
      "cell_type": "code",
      "source": [
        "calculate_metrics(all_dialects_converter, my_sql_tokenized_test.select(range(250)), \"cuda\")"
      ],
      "metadata": {
        "colab": {
          "base_uri": "https://localhost:8080/"
        },
        "id": "NrcPnCJHvgHE",
        "outputId": "b643880a-04a7-45a2-84a3-2f9e853fdad4"
      },
      "execution_count": null,
      "outputs": [
        {
          "output_type": "stream",
          "name": "stderr",
          "text": [
            "Evaluating: 100%|██████████| 250/250 [02:28<00:00,  1.68it/s]"
          ]
        },
        {
          "output_type": "stream",
          "name": "stdout",
          "text": [
            "Distance accuracy: 0.08\n",
            "Average ROUGE-1: 0.4124871887708995\n",
            "Average ROUGE-L: 0.395734294621268\n"
          ]
        },
        {
          "output_type": "stream",
          "name": "stderr",
          "text": [
            "\n"
          ]
        },
        {
          "output_type": "execute_result",
          "data": {
            "text/plain": [
              "(0.08, 0.4124871887708995, 0.395734294621268)"
            ]
          },
          "metadata": {},
          "execution_count": 19
        }
      ]
    },
    {
      "cell_type": "code",
      "source": [
        "calculate_metrics(all_dialects_converter, sql_lite_tokenized_test.select(range(250)), \"cuda\")"
      ],
      "metadata": {
        "colab": {
          "base_uri": "https://localhost:8080/"
        },
        "id": "WquGCxEWvgCg",
        "outputId": "7eab6a5f-1cc1-41cf-b833-61a3f60c55f5"
      },
      "execution_count": null,
      "outputs": [
        {
          "output_type": "stream",
          "name": "stderr",
          "text": [
            "Evaluating: 100%|██████████| 250/250 [02:28<00:00,  1.68it/s]"
          ]
        },
        {
          "output_type": "stream",
          "name": "stdout",
          "text": [
            "Distance accuracy: 0.108\n",
            "Average ROUGE-1: 0.5497635536833765\n",
            "Average ROUGE-L: 0.5314941539437507\n"
          ]
        },
        {
          "output_type": "stream",
          "name": "stderr",
          "text": [
            "\n"
          ]
        },
        {
          "output_type": "execute_result",
          "data": {
            "text/plain": [
              "(0.108, 0.5497635536833765, 0.5314941539437507)"
            ]
          },
          "metadata": {},
          "execution_count": 20
        }
      ]
    },
    {
      "cell_type": "markdown",
      "source": [
        "📊 Результы:\n",
        "\n",
        "| СУБД                 |    BLEU / ROUGE-1 / ROUGE-L      |\n",
        "|----------------------|----------------------------------|\n",
        "| Postgres → CH        | 0.232 / 0.8267 / 0.8181          |\n",
        "| MySQL → CH           | 0.3 / 0.8449 / 0.838             |\n",
        "| SQLite   → CH        | 0.28 / 0.832 / 0.8217            |\n",
        "| Все диалекты → CH    | 0.064 / 0.4887 / 0.4697          |\n",
        "| Базовая модель → CH  | 0.1213 / 0.1157 / 0.1157         |"
      ],
      "metadata": {
        "id": "gYfirhnsDvZQ"
      }
    },
    {
      "cell_type": "code",
      "source": [],
      "metadata": {
        "id": "gxbcqwYGD0OR"
      },
      "execution_count": null,
      "outputs": []
    },
    {
      "cell_type": "markdown",
      "source": [
        " ## Измерение метрик при разных значениях температуры"
      ],
      "metadata": {
        "id": "vEdNcQpVD1M3"
      }
    },
    {
      "cell_type": "code",
      "source": [
        "def plot_accuracy_vs_temperature(model, tokenizer, dataset, device, temperatures, max_new_tokens=100, do_sample=False):\n",
        "    \"\"\"\n",
        "    Calculates and plots the accuracy (represented by Rouge-1 and Rouge-L) of the model at different temperatures.\n",
        "\n",
        "    Args:\n",
        "        model: The language model.\n",
        "        tokenizer: The tokenizer.\n",
        "        dataset: The dataset.\n",
        "        device: The device.\n",
        "        temperatures: A list of temperature values to test.\n",
        "        max_new_tokens: The maximum number of tokens to generate.  Set to 1000 to match model.generate function\n",
        "    \"\"\"\n",
        "\n",
        "    avg_rouge1_list = []\n",
        "    avg_rougeL_list = []\n",
        "\n",
        "    for temperature in temperatures:\n",
        "        avg_rouge1, avg_rougeL = calculate_sql_rouge(model, tokenizer, dataset, device, max_new_tokens=1000, temperature=temperature, do_sample=do_sample)  # match model.generate function for max_new_tokens\n",
        "        avg_rouge1_list.append(avg_rouge1)\n",
        "        avg_rougeL_list.append(avg_rougeL)\n",
        "        print(f\"Temperature: {temperature}, avg_rouge1: {avg_rouge1}, avg_rougeL: {avg_rougeL}\")\n",
        "\n",
        "    plt.figure(figsize=(12, 6))\n",
        "\n",
        "    # Plot ROUGE-1\n",
        "    plt.subplot(1, 2, 1)\n",
        "    plt.plot(temperatures, avg_rouge1_list, marker='o', linestyle='-', color='blue')\n",
        "    plt.xlabel(\"Temperature\")\n",
        "    plt.ylabel(\"Average ROUGE-1\")\n",
        "    plt.title(\"ROUGE-1 vs. Temperature\")\n",
        "    plt.grid(True)\n",
        "\n",
        "    # Plot ROUGE-L\n",
        "    plt.subplot(1, 2, 2)\n",
        "    plt.plot(temperatures, avg_rougeL_list, marker='o', linestyle='-', color='green')\n",
        "    plt.xlabel(\"Temperature\")\n",
        "    plt.ylabel(\"Average ROUGE-L\")\n",
        "    plt.title(\"ROUGE-L vs. Temperature\")\n",
        "    plt.grid(True)\n",
        "\n",
        "    plt.tight_layout()\n",
        "    plt.show()"
      ],
      "metadata": {
        "id": "imLhmWtDwnWf"
      },
      "execution_count": null,
      "outputs": []
    },
    {
      "cell_type": "code",
      "source": [
        "temperatures = [0.5, 1.0, 1.25, 1.5, 1.75, 2.0]\n",
        "plot_accuracy_vs_temperature(model, tokenizer, test_dataset.select(range(10)), device, temperatures, do_sample=True)"
      ],
      "metadata": {
        "colab": {
          "base_uri": "https://localhost:8080/"
        },
        "id": "hXXJwN1o3Wb1",
        "outputId": "7772e796-813b-45c1-d97f-6322825920d3"
      },
      "execution_count": null,
      "outputs": [
        {
          "output_type": "stream",
          "name": "stderr",
          "text": [
            "Evaluating: 100%|██████████| 10/10 [23:07<00:00, 138.74s/it]\n"
          ]
        },
        {
          "output_type": "stream",
          "name": "stdout",
          "text": [
            "Average ROUGE-1: 0.7573021114774271\n",
            "Average ROUGE-L: 0.7265661807414965\n",
            "Temperature: 0.5, avg_rouge1: 0.7573021114774271, avg_rougeL: 0.7265661807414965\n"
          ]
        },
        {
          "output_type": "stream",
          "name": "stderr",
          "text": [
            "Evaluating: 100%|██████████| 10/10 [20:09<00:00, 120.96s/it]\n"
          ]
        },
        {
          "output_type": "stream",
          "name": "stdout",
          "text": [
            "Average ROUGE-1: 0.5969145992450872\n",
            "Average ROUGE-L: 0.5665574563879444\n",
            "Temperature: 1.0, avg_rouge1: 0.5969145992450872, avg_rougeL: 0.5665574563879444\n"
          ]
        },
        {
          "output_type": "stream",
          "name": "stderr",
          "text": [
            "Evaluating: 100%|██████████| 10/10 [11:39<00:00, 69.92s/it] \n"
          ]
        },
        {
          "output_type": "stream",
          "name": "stdout",
          "text": [
            "Average ROUGE-1: 0.48866425878007264\n",
            "Average ROUGE-L: 0.47858022516662724\n",
            "Temperature: 1.25, avg_rouge1: 0.48866425878007264, avg_rougeL: 0.47858022516662724\n"
          ]
        },
        {
          "output_type": "stream",
          "name": "stderr",
          "text": [
            "Evaluating: 100%|██████████| 10/10 [07:01<00:00, 42.11s/it]\n"
          ]
        },
        {
          "output_type": "stream",
          "name": "stdout",
          "text": [
            "Average ROUGE-1: 0.32749771833759106\n",
            "Average ROUGE-L: 0.3045163518779637\n",
            "Temperature: 1.5, avg_rouge1: 0.32749771833759106, avg_rougeL: 0.3045163518779637\n"
          ]
        },
        {
          "output_type": "stream",
          "name": "stderr",
          "text": [
            "Evaluating: 100%|██████████| 10/10 [12:19<00:00, 73.91s/it]\n"
          ]
        },
        {
          "output_type": "stream",
          "name": "stdout",
          "text": [
            "Average ROUGE-1: 0.23364729561620418\n",
            "Average ROUGE-L: 0.21999459243482783\n",
            "Temperature: 1.75, avg_rouge1: 0.23364729561620418, avg_rougeL: 0.21999459243482783\n"
          ]
        },
        {
          "output_type": "stream",
          "name": "stderr",
          "text": [
            "Evaluating: 100%|██████████| 10/10 [09:20<00:00, 56.07s/it]\n"
          ]
        },
        {
          "output_type": "stream",
          "name": "stdout",
          "text": [
            "Average ROUGE-1: 0.23305682313222115\n",
            "Average ROUGE-L: 0.20802623610489598\n",
            "Temperature: 2.0, avg_rouge1: 0.23305682313222115, avg_rougeL: 0.20802623610489598\n"
          ]
        },
        {
          "output_type": "display_data",
          "data": {
            "text/plain": [
              "<Figure size 1200x600 with 2 Axes>"
            ],
            "image/png": "[encoded data removed]"
          },
          "metadata": {}
        }
      ]
    },
    {
      "cell_type": "code",
      "source": [],
      "metadata": {
        "id": "P_o4cbdc3aAB"
      },
      "execution_count": null,
      "outputs": []
    },
    {
      "cell_type": "markdown",
      "source": [
        "# Генерация ответов моделей, сравнение с эталонными"
      ],
      "metadata": {
        "id": "v5QngEG33MAd"
      }
    },
    {
      "cell_type": "code",
      "source": [
        "def print_model_vs_correct_answer(sql_converter, dataset):\n",
        "    with torch.no_grad():\n",
        "        for data_point in dataset:\n",
        "            natural_languge = data_point['natural_languge']\n",
        "            ground_truth_query = data_point['ch_query'].strip()\n",
        "            result = sql_converter(\n",
        "              data_point['prompt'],\n",
        "              eos_token_id=1,\n",
        "              pad_token_id=1,\n",
        "              do_sample=False\n",
        "            )[0][\"generated_text\"]\n",
        "            generated_query = result.split('<start_of_turn>model')[1]\n",
        "            model_answer = generated_query.strip()\n",
        "            if '<' in model_answer:\n",
        "                model_answer = model_answer.split('<')[0]\n",
        "            print(f\"natural_languge: {natural_languge}\")\n",
        "            print(f\"ground_truth_query: {ground_truth_query}\")\n",
        "            print(f\"model_answer: {model_answer}\")\n",
        "            print(f\"-\" * 40)"
      ],
      "metadata": {
        "id": "O26gQdO59-q-"
      },
      "execution_count": null,
      "outputs": []
    },
    {
      "cell_type": "markdown",
      "source": [
        "## Генерация sql_lite ответов"
      ],
      "metadata": {
        "id": "VQuV1j0W4fo2"
      }
    },
    {
      "cell_type": "code",
      "source": [
        "print_model_vs_correct_answer(sql_lite_converter, sql_lite_tokenized_test.select(range(50)))"
      ],
      "metadata": {
        "colab": {
          "base_uri": "https://localhost:8080/"
        },
        "id": "TUeCDKt-4Q_m",
        "outputId": "c1ba2129-9172-430a-98d2-b8ac5ac4268e"
      },
      "execution_count": null,
      "outputs": [
        {
          "output_type": "stream",
          "name": "stdout",
          "text": [
            "natural_languge: What was the location and attendance when the team's record was 16-44?\n",
            "ground_truth_query: SELECT Location, Attendance FROM my_table WHERE Record = '16-44'\n",
            "model_answer: SELECT Location, Attendance FROM table_name WHERE Record = '16-44';\n",
            "\n",
            "----------------------------------------\n",
            "natural_languge: What day was the game at chicago?\n",
            "ground_truth_query: SELECT Date FROM table WHERE Team = 'Chicago';\n",
            "model_answer: SELECT Date FROM table_name WHERE Team = 'Chicago';\n",
            "\n",
            "----------------------------------------\n",
            "natural_languge: Who were the high point scorers in game 7?\n",
            "ground_truth_query: SELECT High_points FROM table_name WHERE Game = 7;\n",
            "model_answer: SELECT High_points FROM table WHERE Game = 7;\n",
            "\n",
            "----------------------------------------\n",
            "natural_languge: Who had the high rebound total against golden state?\n",
            "ground_truth_query: SELECT Rebounds FROM nba_stats WHERE Team = 'Golden State';\n",
            "model_answer: SELECT High, rebounds FROM table_name WHERE Team = 'Golden State';\n",
            "\n",
            "----------------------------------------\n",
            "natural_languge: how many times have there been helps by damon stoudamire (13)\n",
            "ground_truth_query: SELECT COUNT(*) FROM table WHERE High_assists = 'Damon Stoudamire (13)';\n",
            "model_answer: SELECT COUNT(player_id) FROM players WHERE assists = 13 AND player_name =\n",
            "----------------------------------------\n",
            "natural_languge: who made the recovers where the score is 12-30\n",
            "ground_truth_query: SELECT High, rebounds FROM table_name WHERE Record = '2023-12-30'\n",
            "model_answer: SELECT rebounds FROM players WHERE Record = '12-30';\n",
            "\n",
            "----------------------------------------\n",
            "natural_languge: tell who made the most scores on new jersey\n",
            "ground_truth_query: SELECT High_points FROM table_name WHERE Team = 'New Jersey'\n",
            "model_answer: SELECT High_points FROM table_name WHERE Team = 'New Jersey';\n",
            "\n",
            "----------------------------------------\n",
            "natural_languge: how many times was the participation at omni coliseum 7,194?\n",
            "ground_truth_query: SELECT Game FROM clickhouse_table WHERE Location = 'Omni Coliseum' AND Attendance = 7194;\n",
            "model_answer: SELECT Game FROM table WHERE Location = 'Omni Coliseum' AND Attendance = 7194;\n",
            "----------------------------------------\n",
            "natural_languge: The minimum average number of dancers is 34.1 how many times\n",
            "ground_truth_query: SELECT min(Number) as Number_of_dances FROM table_name WHERE Average = 34.1;\n",
            "model_answer: SELECT MIN(number_of_dances) FROM dances WHERE average = 34.1\n",
            "----------------------------------------\n",
            "natural_languge: What is the Number of dances is 11 and competition finish is larger than 2.0 total\n",
            "ground_truth_query: SELECT total FROM dance_competition WHERE number_of_dances = 11 AND competition_finish > 2.0;\n",
            "model_answer: SELECT Total FROM DanceCompetition WHERE NumberOfDances = 11 AND CompetitionFinish > 2\n",
            "----------------------------------------\n",
            "natural_languge: Who is the club that has 30 points?\n",
            "ground_truth_query: SELECT Club FROM table WHERE Points = 30;\n",
            "model_answer: SELECT ClubName FROM Clubs WHERE Points = 30;\n",
            "\n",
            "----------------------------------------\n",
            "natural_languge: What were all the tries for when the try bonus was 8?\n",
            "ground_truth_query: SELECT Tries, For FROM table WHERE Try_bonus = 8;\n",
            "model_answer: SELECT Tries, For_column FROM base_table WHERE Try_bonus = 8;\n",
            "\n",
            "----------------------------------------\n",
            "natural_languge: What were the points for when there were 30 tries against?\n",
            "ground_truth_query: SELECT Points, for_column FROM ClickHouse_Table WHERE Tries = 30 AND against_column = 30;\n",
            "model_answer: POINTS = (SELECT Points FROM Points WHERE \"Tries against\" = 30);\n",
            "\n",
            "----------------------------------------\n",
            "natural_languge: How many numbers were recorded points against when the tries were for 43?\n",
            "ground_truth_query: SELECT COUNT(Points) AS Points_against FROM table WHERE Tries = 43;\n",
            "model_answer: POINTS_AGAINST = SELECT COUNT(Points) FROM TableName WHERE Tries = 43;\n",
            "----------------------------------------\n",
            "natural_languge: What are the tries against when points against 287?\n",
            "ground_truth_query: SELECT Tries FROM table WHERE Points = 287;\n",
            "model_answer: SELECT tries_against FROM Players WHERE points_against = 287;\n",
            "\n",
            "----------------------------------------\n",
            "natural_languge: What were all the points for Tonyrefail RFC?\n",
            "ground_truth_query: SELECT Points, for FROM ClickHouse_table WHERE Club = 'Tonyrefail RFC';\n",
            "model_answer: POINTS = SELECT SUM(points) FROM points WHERE club = 'Tonyrefail RFC';\n",
            "\n",
            "----------------------------------------\n",
            "natural_languge: Pink cytoplasm is seen in a test that specifically stains what?\n",
            "ground_truth_query: SELECT Specifically_stains FROM my_table WHERE Cytoplasm = 'Pink';\n",
            "model_answer: SELECT Stains FROM my_table WHERE Cytoplasm = 'Pink';\n",
            "\n",
            "----------------------------------------\n",
            "natural_languge: How many cytoplasms result in a blue nucleus?\n",
            "ground_truth_query: SELECT COUNT(Cytoplasm) FROM table WHERE Nucleus = 'Blue'\n",
            "model_answer: SELECT COUNT(Cytoplasm) FROM table WHERE Nucleus = 'Blue';\n",
            "\n",
            "----------------------------------------\n",
            "natural_languge: A nucleus that is blue/black will specifically stain what?\n",
            "ground_truth_query: SELECT Specifically_stains FROM my_table WHERE Nucleus = 'Blue/black';\n",
            "model_answer: SELECT Stains FROM my_table WHERE Nucleus = 'Blue/black';\n",
            "\n",
            "----------------------------------------\n",
            "natural_languge: The pink cytoplasm will have a nucleus of what color?\n",
            "ground_truth_query: SELECT Nucleus FROM table WHERE Cytoplasm = 'Pink';\n",
            "model_answer: SELECT Nucleus FROM table WHERE Cytoplasm = 'Pink';\n",
            "\n",
            "----------------------------------------\n",
            "natural_languge: What stain is used commonly for elastic fibers?\n",
            "ground_truth_query: SELECT Stain FROM table_name WHERE Common_use = 'Elastic fibers'\n",
            "model_answer: SELECT Stain FROM \"table\" WHERE Common_use = 'Elastic fibers';\n",
            "\n",
            "----------------------------------------\n",
            "natural_languge: where is hte second place winner from united kingdom?\n",
            "ground_truth_query: SELECT Winner FROM table WHERE Second_place = 'United Kingdom';\n",
            "model_answer: SELECT Winner FROM table WHERE SecondPlace = 'United Kingdom';\n",
            "\n",
            "----------------------------------------\n",
            "natural_languge: how many locations has spain as the winner?\n",
            "ground_truth_query: SELECT COUNT(Location) FROM table WHERE Winner = 'Spain';\n",
            "model_answer: SELECT COUNT(Location) FROM Results WHERE Winner = 'Spain';\n",
            "\n",
            "----------------------------------------\n",
            "natural_languge: who is the artist performing at heineken music hall?\n",
            "ground_truth_query: SELECT Artist FROM my_table WHERE Venue = 'Heineken Music Hall';\n",
            "model_answer: SELECT Artist FROM Concerts WHERE Venue = 'Heineken Music Hall';\n",
            "\n",
            "----------------------------------------\n",
            "natural_languge: what amount has spain as second place and the language is russian?\n",
            "ground_truth_query: SELECT COUNT(Margin) FROM table WHERE Second_place = 'Spain' AND Language = 'Russian'\n",
            "model_answer: SELECT COUNT(Margin) FROM table WHERE Second_place = 'Spain' AND Language = 'Russian\n",
            "----------------------------------------\n",
            "natural_languge: how many Curtiss XBTC aircraft are retired?\n",
            "ground_truth_query: SELECT count(Retired) FROM table WHERE Aircraft_type = 'Curtiss XBTC' FORMAT TabSeparated.\n",
            "model_answer: SELECT COUNT(Retired) FROM Aircraft WHERE AircraftType = 'Curtiss XBTC';\n",
            "\n",
            "----------------------------------------\n",
            "natural_languge: How many Airspeed Fleet Shadower aircraft are retired?\n",
            "ground_truth_query: SELECT Retired FROM my_table WHERE Aircraft_type = 'Airspeed Fleet Shadower';\n",
            "model_answer: SELECT Retired FROM my_table WHERE Aircraft_type = 'Airspeed Fleet Shadower';\n",
            "----------------------------------------\n",
            "natural_languge: What is the origin of aircraft in service in 1943 and retired in 1954?\n",
            "ground_truth_query: SELECT National_Origin FROM table WHERE Retired = 1954 AND In_Service = 1943;\n",
            "model_answer: SELECT National_Origin FROM my_table WHERE Retired = 1954 AND In_Service\n",
            "----------------------------------------\n",
            "natural_languge: Who was the winner when the time was 1:24.00?\n",
            "ground_truth_query: SELECT Winner, Second FROM table WHERE Time = 84.00;\n",
            "model_answer: SELECT Winner, SecondPlace FROM Results WHERE Time = '1:24.00';\n",
            "----------------------------------------\n",
            "natural_languge: How many results were there for the Stan Fox Stakes race?\n",
            "ground_truth_query: SELECT COUNT(Result) FROM table WHERE Race = 'Stan Fox Stakes';\n",
            "model_answer: SELECT COUNT(Result) FROM table_name WHERE Race = 'Stan Fox Stakes';\n",
            "\n",
            "----------------------------------------\n",
            "natural_languge: Was the rosehill venue a win or loss?\n",
            "ground_truth_query: SELECT Result FROM table WHERE Venue = 'Rosehill'\n",
            "model_answer: Result = (SELECT CASE WHEN Result = 'Win' THEN 1 ELSE 0 END FROM table\n",
            "----------------------------------------\n",
            "natural_languge: what is the minimum total with kerry % being 16.71%\n",
            "ground_truth_query: SELECT MIN(Total) FROM my_table WHERE Kerry LIKE '16.71%'\n",
            "model_answer: SELECT MIN(Total) FROM my_table WHERE Kerry = 16.71;\n",
            "----------------------------------------\n",
            "natural_languge: what is the minimum kerry # with bush % being 78.40%\n",
            "ground_truth_query: SELECT min(Kerry) FROM table_name WHERE Bush = 78.40;\n",
            "model_answer: SELECT MIN(Kerry) FROM table WHERE Bush = 78.40;\n",
            "\n",
            "----------------------------------------\n",
            "natural_languge: what's the kerry # with county being ness county, kansas\n",
            "ground_truth_query: SELECT Kerry FROM table_name WHERE County = 'Ness County, Kansas';\n",
            "model_answer: SELECT name FROM my_table WHERE county = 'Ness County, Kansas';\n",
            "\n",
            "----------------------------------------\n",
            "natural_languge: how many total with bush # being 1552\n",
            "ground_truth_query: SELECT COUNT(*) AS Total FROM table WHERE Bush = 1552;\n",
            "model_answer: SELECT COUNT(*) AS Total FROM table WHERE ID = 1552;\n",
            "\n",
            "----------------------------------------\n",
            "natural_languge: what is the minimum bush # with kerry # being 3938\n",
            "ground_truth_query: SELECT min(Bush_min) FROM table_name WHERE Kerry = 3938;\n",
            "model_answer: SELECT MIN(Bush) FROM table_name WHERE Kerry = 3938;\n",
            "\n",
            "----------------------------------------\n",
            "natural_languge: how many total with county being rooks county, kansas\n",
            "ground_truth_query: SELECT COUNT(Total) AS Total FROM table_name WHERE County = 'Rooks County, Kansas'\n",
            "model_answer: SELECT COUNT(Total) as Total FROM table_name WHERE County = 'Rooks County' AND\n",
            "----------------------------------------\n",
            "natural_languge: In which district was the incumbent Dick Saslaw?\n",
            "ground_truth_query: SELECT District FROM my_table WHERE Incumbent = 'Dick Saslaw';\n",
            "model_answer: SELECT District FROM my_table WHERE Incumbent = 'Dick Saslaw';\n",
            "\n",
            "----------------------------------------\n",
            "natural_languge: What was the 2007 result in the district where the incumbent was elected in 1996?\n",
            "ground_truth_query: SELECT Result FROM table WHERE Elected = 1996;\n",
            "model_answer: SELECT Result FROM table WHERE Elected = 1996;\n",
            "\n",
            "----------------------------------------\n",
            "natural_languge: What was the 2007 result in the 28th district?\n",
            "ground_truth_query: SELECT Result FROM table_name WHERE District = 28;\n",
            "model_answer: SELECT Result FROM table_name WHERE District = 28 AND Year = 2007\n",
            "----------------------------------------\n",
            "natural_languge: In what district was the incumbent Charles Hawkins?\n",
            "ground_truth_query: SELECT District FROM table_name WHERE Incumbent = 'Charles Hawkins';\n",
            "model_answer: SELECT District FROM table WHERE Incumbent = 'Charles Hawkins';\n",
            "\n",
            "----------------------------------------\n",
            "natural_languge: What's the number of the game played on March 26?\n",
            "ground_truth_query: SELECT max(MAX) AS Game FROM table_name WHERE Date = '2023-03-26' FORMAT TSV.\n",
            "model_answer: SELECT MAX(Game) FROM TableName WHERE Date = 'March 26';\n",
            "\n",
            "----------------------------------------\n",
            "natural_languge: How many different values if the number is high rebounds can be found for the game on March 13?\n",
            "ground_truth_query: SELECT COUNT(rebounds) AS High_rebounds FROM table_name WHERE Date = '2023-03-13';\n",
            "model_answer: SELECT COUNT(Rebounds) AS High_rebounds FROM table WHERE Date = 'March 1\n",
            "----------------------------------------\n",
            "natural_languge: Who ihad the highest points and what was the number when the record was 11-40?\n",
            "ground_truth_query: SELECT High_points FROM table WHERE Record BETWEEN 11 AND 40;\n",
            "model_answer: SELECT High_points FROM table_name WHERE Record BETWEEN 11 AND 40;\n",
            "----------------------------------------\n",
            "natural_languge: Who did the Raptors play when their record was 45-36?\n",
            "ground_truth_query: SELECT Team FROM table WHERE Record = 45-36;\n",
            "model_answer: SELECT TeamName FROM table WHERE Record = '45-36';\n",
            "\n",
            "----------------------------------------\n",
            "natural_languge: What number game of the season was played on April 12?\n",
            "ground_truth_query: SELECT max(Game) FROM tablename WHERE Date = '2023-04-12' FORMAT TabSeparated;\n",
            "model_answer: Game = MAX(max_score) FROM games WHERE date = 'April 12';\n",
            "----------------------------------------\n",
            "natural_languge: How many votes were cast in Wayne county?\n",
            "ground_truth_query: SELECT MAX(Total) AS max_total FROM table_name WHERE County = 'Wayne'\n",
            "model_answer: SELECT MAX(Total) as Total FROM my_table WHERE County = 'Wayne';\n",
            "\n",
            "----------------------------------------\n",
            "natural_languge: In the county where Bush won 77.76%, how many total votes were cast?\n",
            "ground_truth_query: SELECT Total, Hash FROM table WHERE Hash = '77.76%'\n",
            "model_answer: SELECT Total FROM table WHERE Bush = 77.76;\n",
            "\n",
            "----------------------------------------\n",
            "natural_languge: In the country where Bush won 4333 votes, what percentage did other receive?\n",
            "ground_truth_query: SELECT Other, Bush FROM table WHERE Bush = 4333;\n",
            "model_answer: SELECT Other, Bush FROM table WHERE Bush = 4333;\n",
            "\n",
            "----------------------------------------\n",
            "natural_languge: Who was the TO winning team when the TU winning team was Joe Richardson?\n",
            "ground_truth_query: SELECT WinningTeam FROM table WHERE WinningTeam = 'Joe Richardson';\n",
            "model_answer: SELECT WinningTeam FROM table WHERE TU = 'Joe Richardson';\n",
            "\n",
            "----------------------------------------\n"
          ]
        }
      ]
    },
    {
      "cell_type": "markdown",
      "source": [
        "## Генерация my_sql ответов"
      ],
      "metadata": {
        "id": "LuSQz9xO5Fbl"
      }
    },
    {
      "cell_type": "code",
      "source": [
        "print_model_vs_correct_answer(my_sql_converter, my_sql_tokenized_test.select(range(50)))"
      ],
      "metadata": {
        "colab": {
          "base_uri": "https://localhost:8080/"
        },
        "id": "f94Narq04ntG",
        "outputId": "409731a0-39b1-4471-bfdf-bb1af2c742b6"
      },
      "execution_count": null,
      "outputs": [
        {
          "output_type": "stream",
          "name": "stdout",
          "text": [
            "natural_languge: What was the location and attendance when the team's record was 16-44?\n",
            "ground_truth_query: SELECT Location, Attendance FROM my_table WHERE Record = '16-44'\n",
            "model_answer: SELECT Location, Attendance FROM my_table WHERE Record = '16-44';\n",
            "\n",
            "----------------------------------------\n",
            "natural_languge: What day was the game at chicago?\n",
            "ground_truth_query: SELECT Date FROM table WHERE Team = 'Chicago';\n",
            "model_answer: SELECT Date FROM table_name WHERE Team = 'Chicago';\n",
            "\n",
            "----------------------------------------\n",
            "natural_languge: Who were the high point scorers in game 7?\n",
            "ground_truth_query: SELECT High_points FROM table_name WHERE Game = 7;\n",
            "model_answer: SELECT High_points FROM points_table WHERE Game = 7;\n",
            "\n",
            "----------------------------------------\n",
            "natural_languge: Who had the high rebound total against golden state?\n",
            "ground_truth_query: SELECT Rebounds FROM nba_stats WHERE Team = 'Golden State';\n",
            "model_answer: SELECT rebounds AS High_rebounds FROM players WHERE team = 'Golden State';\n",
            "\n",
            "----------------------------------------\n",
            "natural_languge: how many times have there been helps by damon stoudamire (13)\n",
            "ground_truth_query: SELECT COUNT(*) FROM table WHERE High_assists = 'Damon Stoudamire (13)';\n",
            "model_answer: SELECT COUNT(Record) FROM TableName WHERE High_Assists = 'Damon Stoudamire\n",
            "----------------------------------------\n",
            "natural_languge: who made the recovers where the score is 12-30\n",
            "ground_truth_query: SELECT High, rebounds FROM table_name WHERE Record = '2023-12-30'\n",
            "model_answer: SELECT rebounds FROM players WHERE Record = '12-30';\n",
            "\n",
            "----------------------------------------\n",
            "natural_languge: tell who made the most scores on new jersey\n",
            "ground_truth_query: SELECT High_points FROM table_name WHERE Team = 'New Jersey'\n",
            "model_answer: SELECT High_points FROM table_name WHERE Team = 'New Jersey';\n",
            "\n",
            "----------------------------------------\n",
            "natural_languge: how many times was the participation at omni coliseum 7,194?\n",
            "ground_truth_query: SELECT Game FROM clickhouse_table WHERE Location = 'Omni Coliseum' AND Attendance = 7194;\n",
            "model_answer: SELECT Game FROM games WHERE Location = 'Omni Coliseum' AND Attendance = 7194;\n",
            "----------------------------------------\n",
            "natural_languge: The minimum average number of dancers is 34.1 how many times\n",
            "ground_truth_query: SELECT min(Number) as Number_of_dances FROM table_name WHERE Average = 34.1;\n",
            "model_answer: SELECT MIN(Number_of_dances) FROM dances WHERE Average = 34.1\n",
            "----------------------------------------\n",
            "natural_languge: What is the Number of dances is 11 and competition finish is larger than 2.0 total\n",
            "ground_truth_query: SELECT total FROM dance_competition WHERE number_of_dances = 11 AND competition_finish > 2.0;\n",
            "model_answer: SELECT Total FROM my_table WHERE Number_of_dances = 11 AND Competition_\n",
            "----------------------------------------\n",
            "natural_languge: Who is the club that has 30 points?\n",
            "ground_truth_query: SELECT Club FROM table WHERE Points = 30;\n",
            "model_answer: SELECT Club FROM Clubs WHERE Points = 30;\n",
            "\n",
            "----------------------------------------\n",
            "natural_languge: What were all the tries for when the try bonus was 8?\n",
            "ground_truth_query: SELECT Tries, For FROM table WHERE Try_bonus = 8;\n",
            "model_answer: SELECT Tries FROM table WHERE Try_bonus = 8;\n",
            "\n",
            "----------------------------------------\n",
            "natural_languge: What were the points for when there were 30 tries against?\n",
            "ground_truth_query: SELECT Points, for_column FROM ClickHouse_Table WHERE Tries = 30 AND against_column = 30;\n",
            "model_answer: POINTS = SELECT points FROM Points WHERE tries_against = 30;\n",
            "\n",
            "----------------------------------------\n",
            "natural_languge: How many numbers were recorded points against when the tries were for 43?\n",
            "ground_truth_query: SELECT COUNT(Points) AS Points_against FROM table WHERE Tries = 43;\n",
            "model_answer: SELECT COUNT(Against) FROM TableName WHERE Tries = 43;\n",
            "\n",
            "----------------------------------------\n",
            "natural_languge: What are the tries against when points against 287?\n",
            "ground_truth_query: SELECT Tries FROM table WHERE Points = 287;\n",
            "model_answer: SELECT Tries FROM tablename WHERE Points = 287;\n",
            "\n",
            "----------------------------------------\n",
            "natural_languge: What were all the points for Tonyrefail RFC?\n",
            "ground_truth_query: SELECT Points, for FROM ClickHouse_table WHERE Club = 'Tonyrefail RFC';\n",
            "model_answer: SELECT Points FROM Points WHERE Club = 'Tonyrefail RFC';\n",
            "\n",
            "----------------------------------------\n",
            "natural_languge: Pink cytoplasm is seen in a test that specifically stains what?\n",
            "ground_truth_query: SELECT Specifically_stains FROM my_table WHERE Cytoplasm = 'Pink';\n",
            "model_answer: SELECT Specifically FROM Stains WHERE Cytoplasm = 'Pink';\n",
            "\n",
            "----------------------------------------\n",
            "natural_languge: How many cytoplasms result in a blue nucleus?\n",
            "ground_truth_query: SELECT COUNT(Cytoplasm) FROM table WHERE Nucleus = 'Blue'\n",
            "model_answer: SELECT COUNT(Cytoplasm) FROM my_table WHERE Nucleus = 'Blue';\n",
            "\n",
            "----------------------------------------\n",
            "natural_languge: A nucleus that is blue/black will specifically stain what?\n",
            "ground_truth_query: SELECT Specifically_stains FROM my_table WHERE Nucleus = 'Blue/black';\n",
            "model_answer: SELECT name, age, gender, location FROM my_table WHERE location = 'Blue/black';\n",
            "----------------------------------------\n",
            "natural_languge: The pink cytoplasm will have a nucleus of what color?\n",
            "ground_truth_query: SELECT Nucleus FROM table WHERE Cytoplasm = 'Pink';\n",
            "model_answer: SELECT Nucleus FROM tablename WHERE Cytoplasm = 'Pink';\n",
            "\n",
            "----------------------------------------\n",
            "natural_languge: What stain is used commonly for elastic fibers?\n",
            "ground_truth_query: SELECT Stain FROM table_name WHERE Common_use = 'Elastic fibers'\n",
            "model_answer: SELECT Stain FROM table_name WHERE Common_use = 'Elastic fibers';\n",
            "\n",
            "----------------------------------------\n",
            "natural_languge: where is hte second place winner from united kingdom?\n",
            "ground_truth_query: SELECT Winner FROM table WHERE Second_place = 'United Kingdom';\n",
            "model_answer: SELECT Winner FROM winners WHERE SecondPlace = 'United Kingdom';\n",
            "\n",
            "----------------------------------------\n",
            "natural_languge: how many locations has spain as the winner?\n",
            "ground_truth_query: SELECT COUNT(Location) FROM table WHERE Winner = 'Spain';\n",
            "model_answer: SELECT COUNT(Location) FROM table_name WHERE Winner = 'Spain';\n",
            "\n",
            "----------------------------------------\n",
            "natural_languge: who is the artist performing at heineken music hall?\n",
            "ground_truth_query: SELECT Artist FROM my_table WHERE Venue = 'Heineken Music Hall';\n",
            "model_answer: SELECT Artist FROM Concerts WHERE Venue = 'Heineken Music Hall';\n",
            "\n",
            "----------------------------------------\n",
            "natural_languge: what amount has spain as second place and the language is russian?\n",
            "ground_truth_query: SELECT COUNT(Margin) FROM table WHERE Second_place = 'Spain' AND Language = 'Russian'\n",
            "model_answer: SELECT COUNT(Margin) FROM my_table WHERE Second_place = 'Spain' AND Language =\n",
            "----------------------------------------\n",
            "natural_languge: how many Curtiss XBTC aircraft are retired?\n",
            "ground_truth_query: SELECT count(Retired) FROM table WHERE Aircraft_type = 'Curtiss XBTC' FORMAT TabSeparated.\n",
            "model_answer: SELECT COUNT(Retired) FROM table_name WHERE Aircraft_type = 'Curtiss XBTC';\n",
            "----------------------------------------\n",
            "natural_languge: How many Airspeed Fleet Shadower aircraft are retired?\n",
            "ground_truth_query: SELECT Retired FROM my_table WHERE Aircraft_type = 'Airspeed Fleet Shadower';\n",
            "model_answer: SELECT Retired FROM my_table WHERE Aircraft_type = 'Airspeed Fleet Shadower';\n",
            "----------------------------------------\n",
            "natural_languge: What is the origin of aircraft in service in 1943 and retired in 1954?\n",
            "ground_truth_query: SELECT National_Origin FROM table WHERE Retired = 1954 AND In_Service = 1943;\n",
            "model_answer: SELECT NationalOrigin FROM my_table WHERE Retired = 1954 AND InService =\n",
            "----------------------------------------\n",
            "natural_languge: Who was the winner when the time was 1:24.00?\n",
            "ground_truth_query: SELECT Winner, Second FROM table WHERE Time = 84.00;\n",
            "model_answer: SELECT Winner, 2nd FROM myTable WHERE Time = '1:24.00\n",
            "----------------------------------------\n",
            "natural_languge: How many results were there for the Stan Fox Stakes race?\n",
            "ground_truth_query: SELECT COUNT(Result) FROM table WHERE Race = 'Stan Fox Stakes';\n",
            "model_answer: SELECT COUNT(Result) FROM table WHERE Race = 'Stan Fox Stakes';\n",
            "\n",
            "----------------------------------------\n",
            "natural_languge: Was the rosehill venue a win or loss?\n",
            "ground_truth_query: SELECT Result FROM table WHERE Venue = 'Rosehill'\n",
            "model_answer: Result = (SELECT CASE WHEN Result = 'Win' THEN 1 ELSE 0 END FROM table\n",
            "----------------------------------------\n",
            "natural_languge: what is the minimum total with kerry % being 16.71%\n",
            "ground_truth_query: SELECT MIN(Total) FROM my_table WHERE Kerry LIKE '16.71%'\n",
            "model_answer: SELECT MIN(Total) FROM my_table WHERE Kerry = 16.71;\n",
            "----------------------------------------\n",
            "natural_languge: what is the minimum kerry # with bush % being 78.40%\n",
            "ground_truth_query: SELECT min(Kerry) FROM table_name WHERE Bush = 78.40;\n",
            "model_answer: SELECT MIN(Kerry) FROM table_name WHERE Bush = 78.40;\n",
            "----------------------------------------\n",
            "natural_languge: what's the kerry # with county being ness county, kansas\n",
            "ground_truth_query: SELECT Kerry FROM table_name WHERE County = 'Ness County, Kansas';\n",
            "model_answer: SELECT Kerry # FROM my_table WHERE county = 'Ness County' AND state = 'Kansas';\n",
            "----------------------------------------\n",
            "natural_languge: how many total with bush # being 1552\n",
            "ground_truth_query: SELECT COUNT(*) AS Total FROM table WHERE Bush = 1552;\n",
            "model_answer: SELECT COUNT(*) AS Total FROM table_name WHERE Bush_num = 1552;\n",
            "----------------------------------------\n",
            "natural_languge: what is the minimum bush # with kerry # being 3938\n",
            "ground_truth_query: SELECT min(Bush_min) FROM table_name WHERE Kerry = 3938;\n",
            "model_answer: SELECT MIN(Bush_name) FROM my_table WHERE Kerry_number = 393\n",
            "----------------------------------------\n",
            "natural_languge: how many total with county being rooks county, kansas\n",
            "ground_truth_query: SELECT COUNT(Total) AS Total FROM table_name WHERE County = 'Rooks County, Kansas'\n",
            "model_answer: SELECT COUNT(Total) AS Total FROM table WHERE County = 'Rooks County' AND State =\n",
            "----------------------------------------\n",
            "natural_languge: In which district was the incumbent Dick Saslaw?\n",
            "ground_truth_query: SELECT District FROM my_table WHERE Incumbent = 'Dick Saslaw';\n",
            "model_answer: SELECT District FROM my_table WHERE Incumbent = 'Dick Saslaw';\n",
            "\n",
            "----------------------------------------\n",
            "natural_languge: What was the 2007 result in the district where the incumbent was elected in 1996?\n",
            "ground_truth_query: SELECT Result FROM table WHERE Elected = 1996;\n",
            "model_answer: SELECT Result FROM table_name WHERE Elected = 1996;\n",
            "\n",
            "----------------------------------------\n",
            "natural_languge: What was the 2007 result in the 28th district?\n",
            "ground_truth_query: SELECT Result FROM table_name WHERE District = 28;\n",
            "model_answer: SELECT 2007 Result FROM my_table WHERE District = 28th;\n",
            "----------------------------------------\n",
            "natural_languge: In what district was the incumbent Charles Hawkins?\n",
            "ground_truth_query: SELECT District FROM table_name WHERE Incumbent = 'Charles Hawkins';\n",
            "model_answer: SELECT DistrictName FROM District WHERE Incumbent = 'Charles Hawkins';\n",
            "\n",
            "----------------------------------------\n",
            "natural_languge: What's the number of the game played on March 26?\n",
            "ground_truth_query: SELECT max(MAX) AS Game FROM table_name WHERE Date = '2023-03-26' FORMAT TSV.\n",
            "model_answer: SELECT MAX(Game) FROM table_name WHERE Date = '2023-03\n",
            "----------------------------------------\n",
            "natural_languge: How many different values if the number is high rebounds can be found for the game on March 13?\n",
            "ground_truth_query: SELECT COUNT(rebounds) AS High_rebounds FROM table_name WHERE Date = '2023-03-13';\n",
            "model_answer: SELECT COUNT(High_rebounds) FROM table_name WHERE Date = 'March 13\n",
            "----------------------------------------\n",
            "natural_languge: Who ihad the highest points and what was the number when the record was 11-40?\n",
            "ground_truth_query: SELECT High_points FROM table WHERE Record BETWEEN 11 AND 40;\n",
            "model_answer: SELECT High_points FROM table_name WHERE Record BETWEEN 11 AND 40;\n",
            "----------------------------------------\n",
            "natural_languge: Who did the Raptors play when their record was 45-36?\n",
            "ground_truth_query: SELECT Team FROM table WHERE Record = 45-36;\n",
            "model_answer: SELECT Team FROM TeamRecord WHERE Record = '45-36';\n",
            "\n",
            "----------------------------------------\n",
            "natural_languge: What number game of the season was played on April 12?\n",
            "ground_truth_query: SELECT max(Game) FROM tablename WHERE Date = '2023-04-12' FORMAT TabSeparated;\n",
            "model_answer: SELECT MAX(Game) FROM table_name WHERE Date = '2022-04\n",
            "----------------------------------------\n",
            "natural_languge: How many votes were cast in Wayne county?\n",
            "ground_truth_query: SELECT MAX(Total) AS max_total FROM table_name WHERE County = 'Wayne'\n",
            "model_answer: SELECT MAX(Total) AS Total FROM table_name WHERE County = 'Wayne';\n",
            "\n",
            "----------------------------------------\n",
            "natural_languge: In the county where Bush won 77.76%, how many total votes were cast?\n",
            "ground_truth_query: SELECT Total, Hash FROM table WHERE Hash = '77.76%'\n",
            "model_answer: SELECT Total, Hash FROM table_name WHERE Bush = 77.76;\n",
            "\n",
            "----------------------------------------\n",
            "natural_languge: In the country where Bush won 4333 votes, what percentage did other receive?\n",
            "ground_truth_query: SELECT Other, Bush FROM table WHERE Bush = 4333;\n",
            "model_answer: SELECT Other % FROM table_name WHERE Bush # = 4333;\n",
            "\n",
            "----------------------------------------\n",
            "natural_languge: Who was the TO winning team when the TU winning team was Joe Richardson?\n",
            "ground_truth_query: SELECT WinningTeam FROM table WHERE WinningTeam = 'Joe Richardson';\n",
            "model_answer: SELECT WinningTeam FROM YourTableName WHERE WinningTeam = 'Joe Richardson';\n",
            "\n",
            "----------------------------------------\n"
          ]
        }
      ]
    },
    {
      "cell_type": "markdown",
      "source": [
        "## Генерация postgree"
      ],
      "metadata": {
        "id": "sT8sKJ4-5VVN"
      }
    },
    {
      "cell_type": "code",
      "source": [
        "print_model_vs_correct_answer(pg_converter, pg_tokenized_test.select(range(50)))"
      ],
      "metadata": {
        "colab": {
          "base_uri": "https://localhost:8080/"
        },
        "id": "MVU_seoN5R2K",
        "outputId": "c380d8d4-fb10-439b-df2e-a7921a175495"
      },
      "execution_count": null,
      "outputs": [
        {
          "output_type": "stream",
          "name": "stdout",
          "text": [
            "natural_languge: What was the location and attendance when the team's record was 16-44?\n",
            "ground_truth_query: SELECT Location, Attendance FROM my_table WHERE Record = '16-44'\n",
            "model_answer: SELECT location, attendance FROM attendance WHERE record = '16-44';\n",
            "\n",
            "----------------------------------------\n",
            "natural_languge: What day was the game at chicago?\n",
            "ground_truth_query: SELECT Date FROM table WHERE Team = 'Chicago';\n",
            "model_answer: SELECT date FROM team_stats WHERE team = 'Chicago';\n",
            "\n",
            "----------------------------------------\n",
            "natural_languge: Who were the high point scorers in game 7?\n",
            "ground_truth_query: SELECT High_points FROM table_name WHERE Game = 7;\n",
            "model_answer: SELECT High_points FROM table_name WHERE Game = 7;\n",
            "\n",
            "----------------------------------------\n",
            "natural_languge: Who had the high rebound total against golden state?\n",
            "ground_truth_query: SELECT Rebounds FROM nba_stats WHERE Team = 'Golden State';\n",
            "model_answer: SELECT Rebounds AS \"High rebounds\" FROM basketball_stats WHERE Team = 'Golden State';\n",
            "----------------------------------------\n",
            "natural_languge: how many times have there been helps by damon stoudamire (13)\n",
            "ground_truth_query: SELECT COUNT(*) FROM table WHERE High_assists = 'Damon Stoudamire (13)';\n",
            "model_answer: SELECT COUNT(id) AS Record FROM players WHERE assists = 'Damon Stoudamire (1\n",
            "----------------------------------------\n",
            "natural_languge: who made the recovers where the score is 12-30\n",
            "ground_truth_query: SELECT High, rebounds FROM table_name WHERE Record = '2023-12-30'\n",
            "model_answer: SELECT rebounds AS \"High rebounds\" FROM basketball_stats WHERE Record = '12-30\n",
            "----------------------------------------\n",
            "natural_languge: tell who made the most scores on new jersey\n",
            "ground_truth_query: SELECT High_points FROM table_name WHERE Team = 'New Jersey'\n",
            "model_answer: SELECT High_points FROM table_name WHERE Team = 'New Jersey';\n",
            "\n",
            "----------------------------------------\n",
            "natural_languge: how many times was the participation at omni coliseum 7,194?\n",
            "ground_truth_query: SELECT Game FROM clickhouse_table WHERE Location = 'Omni Coliseum' AND Attendance = 7194;\n",
            "model_answer: SELECT Game FROM Game WHERE Location = 'Omni Coliseum' AND Attendance = 7194;\n",
            "----------------------------------------\n",
            "natural_languge: The minimum average number of dancers is 34.1 how many times\n",
            "ground_truth_query: SELECT min(Number) as Number_of_dances FROM table_name WHERE Average = 34.1;\n",
            "model_answer: SELECT MIN(number_of_dances) FROM dances WHERE average = 34.1\n",
            "----------------------------------------\n",
            "natural_languge: What is the Number of dances is 11 and competition finish is larger than 2.0 total\n",
            "ground_truth_query: SELECT total FROM dance_competition WHERE number_of_dances = 11 AND competition_finish > 2.0;\n",
            "model_answer: SELECT Total FROM dance_competition WHERE Number_of_dances = 11 AND Competition_\n",
            "----------------------------------------\n",
            "natural_languge: Who is the club that has 30 points?\n",
            "ground_truth_query: SELECT Club FROM table WHERE Points = 30;\n",
            "model_answer: SELECT Club_name FROM Clubs WHERE Points = 30;\n",
            "\n",
            "----------------------------------------\n",
            "natural_languge: What were all the tries for when the try bonus was 8?\n",
            "ground_truth_query: SELECT Tries, For FROM table WHERE Try_bonus = 8;\n",
            "model_answer: SELECT Tries, For FROM table_name WHERE Try_bonus = 8;\n",
            "\n",
            "----------------------------------------\n",
            "natural_languge: What were the points for when there were 30 tries against?\n",
            "ground_truth_query: SELECT Points, for_column FROM ClickHouse_Table WHERE Tries = 30 AND against_column = 30;\n",
            "model_answer: POINTS = SELECT points FROM points WHERE tries = 30;\n",
            "\n",
            "----------------------------------------\n",
            "natural_languge: How many numbers were recorded points against when the tries were for 43?\n",
            "ground_truth_query: SELECT COUNT(Points) AS Points_against FROM table WHERE Tries = 43;\n",
            "model_answer: SELECT COUNT(Points) as Points_against FROM my_table WHERE Tries = 43;\n",
            "----------------------------------------\n",
            "natural_languge: What are the tries against when points against 287?\n",
            "ground_truth_query: SELECT Tries FROM table WHERE Points = 287;\n",
            "model_answer: SELECT Tries FROM table WHERE Points = 287;\n",
            "\n",
            "----------------------------------------\n",
            "natural_languge: What were all the points for Tonyrefail RFC?\n",
            "ground_truth_query: SELECT Points, for FROM ClickHouse_table WHERE Club = 'Tonyrefail RFC';\n",
            "model_answer: SELECT Points FROM Points WHERE Club = 'Tonyrefail RFC';\n",
            "\n",
            "----------------------------------------\n",
            "natural_languge: Pink cytoplasm is seen in a test that specifically stains what?\n",
            "ground_truth_query: SELECT Specifically_stains FROM my_table WHERE Cytoplasm = 'Pink';\n",
            "model_answer: SELECT stains FROM my_table WHERE Cytoplasm = 'Pink';\n",
            "\n",
            "----------------------------------------\n",
            "natural_languge: How many cytoplasms result in a blue nucleus?\n",
            "ground_truth_query: SELECT COUNT(Cytoplasm) FROM table WHERE Nucleus = 'Blue'\n",
            "model_answer: SELECT COUNT(Cytoplasm) FROM table_name WHERE Nucleus = 'Blue';\n",
            "\n",
            "----------------------------------------\n",
            "natural_languge: A nucleus that is blue/black will specifically stain what?\n",
            "ground_truth_query: SELECT Specifically_stains FROM my_table WHERE Nucleus = 'Blue/black';\n",
            "model_answer: SELECT stains FROM table_name WHERE Nucleus = 'Blue/black';\n",
            "\n",
            "----------------------------------------\n",
            "natural_languge: The pink cytoplasm will have a nucleus of what color?\n",
            "ground_truth_query: SELECT Nucleus FROM table WHERE Cytoplasm = 'Pink';\n",
            "model_answer: SELECT Nucleus FROM my_table WHERE Cytoplasm = 'Pink';\n",
            "\n",
            "----------------------------------------\n",
            "natural_languge: What stain is used commonly for elastic fibers?\n",
            "ground_truth_query: SELECT Stain FROM table_name WHERE Common_use = 'Elastic fibers'\n",
            "model_answer: SELECT Stain FROM table_name WHERE Common_use = 'Elastic fibers';\n",
            "\n",
            "----------------------------------------\n",
            "natural_languge: where is hte second place winner from united kingdom?\n",
            "ground_truth_query: SELECT Winner FROM table WHERE Second_place = 'United Kingdom';\n",
            "model_answer: SELECT Winner FROM tablename WHERE Second_Place = 'United Kingdom';\n",
            "\n",
            "----------------------------------------\n",
            "natural_languge: how many locations has spain as the winner?\n",
            "ground_truth_query: SELECT COUNT(Location) FROM table WHERE Winner = 'Spain';\n",
            "model_answer: SELECT COUNT(Location) FROM table WHERE Winner = 'Spain';\n",
            "\n",
            "----------------------------------------\n",
            "natural_languge: who is the artist performing at heineken music hall?\n",
            "ground_truth_query: SELECT Artist FROM my_table WHERE Venue = 'Heineken Music Hall';\n",
            "model_answer: SELECT Artist FROM concerts WHERE Venue = 'Heineken Music Hall';\n",
            "\n",
            "----------------------------------------\n",
            "natural_languge: what amount has spain as second place and the language is russian?\n",
            "ground_truth_query: SELECT COUNT(Margin) FROM table WHERE Second_place = 'Spain' AND Language = 'Russian'\n",
            "model_answer: SELECT COUNT(Margin) FROM my_table WHERE Second_place = 'Spain' AND Language =\n",
            "----------------------------------------\n",
            "natural_languge: how many Curtiss XBTC aircraft are retired?\n",
            "ground_truth_query: SELECT count(Retired) FROM table WHERE Aircraft_type = 'Curtiss XBTC' FORMAT TabSeparated.\n",
            "model_answer: SELECT COUNT(Retired) FROM aircraft_data WHERE Aircraft_type = 'Curtiss XBTC';\n",
            "----------------------------------------\n",
            "natural_languge: How many Airspeed Fleet Shadower aircraft are retired?\n",
            "ground_truth_query: SELECT Retired FROM my_table WHERE Aircraft_type = 'Airspeed Fleet Shadower';\n",
            "model_answer: SELECT Retired FROM Aircraft WHERE Aircraft_type = 'Airspeed Fleet Shadower';\n",
            "\n",
            "----------------------------------------\n",
            "natural_languge: What is the origin of aircraft in service in 1943 and retired in 1954?\n",
            "ground_truth_query: SELECT National_Origin FROM table WHERE Retired = 1954 AND In_Service = 1943;\n",
            "model_answer: SELECT National_Origin FROM my_table WHERE Retired = 1954 AND In_Service\n",
            "----------------------------------------\n",
            "natural_languge: Who was the winner when the time was 1:24.00?\n",
            "ground_truth_query: SELECT Winner, Second FROM table WHERE Time = 84.00;\n",
            "model_answer: SELECT winner, second_place FROM results WHERE time = '01:24:00\n",
            "----------------------------------------\n",
            "natural_languge: How many results were there for the Stan Fox Stakes race?\n",
            "ground_truth_query: SELECT COUNT(Result) FROM table WHERE Race = 'Stan Fox Stakes';\n",
            "model_answer: SELECT COUNT(Result) FROM tableName WHERE Race = 'Stan Fox Stakes';\n",
            "\n",
            "----------------------------------------\n",
            "natural_languge: Was the rosehill venue a win or loss?\n",
            "ground_truth_query: SELECT Result FROM table WHERE Venue = 'Rosehill'\n",
            "model_answer: SELECT Result FROM my_table WHERE Venue = 'Rosehill';\n",
            "\n",
            "----------------------------------------\n",
            "natural_languge: what is the minimum total with kerry % being 16.71%\n",
            "ground_truth_query: SELECT MIN(Total) FROM my_table WHERE Kerry LIKE '16.71%'\n",
            "model_answer: SELECT MIN(Total) FROM my_table WHERE Kerry = 16.71;\n",
            "----------------------------------------\n",
            "natural_languge: what is the minimum kerry # with bush % being 78.40%\n",
            "ground_truth_query: SELECT min(Kerry) FROM table_name WHERE Bush = 78.40;\n",
            "model_answer: SELECT MIN(Kerry) AS \"Kerry MIN\" FROM table_name WHERE Bush = 78\n",
            "----------------------------------------\n",
            "natural_languge: what's the kerry # with county being ness county, kansas\n",
            "ground_truth_query: SELECT Kerry FROM table_name WHERE County = 'Ness County, Kansas';\n",
            "model_answer: SELECT Kerry FROM table_name WHERE County = 'Ness County, Kansas';\n",
            "\n",
            "----------------------------------------\n",
            "natural_languge: how many total with bush # being 1552\n",
            "ground_truth_query: SELECT COUNT(*) AS Total FROM table WHERE Bush = 1552;\n",
            "model_answer: SELECT COUNT(Total) FROM table_name WHERE Bush = 1552;\n",
            "\n",
            "----------------------------------------\n",
            "natural_languge: what is the minimum bush # with kerry # being 3938\n",
            "ground_truth_query: SELECT min(Bush_min) FROM table_name WHERE Kerry = 3938;\n",
            "model_answer: SELECT MIN(Bush_column_name) FROM table_name WHERE Kerry_column_name =\n",
            "----------------------------------------\n",
            "natural_languge: how many total with county being rooks county, kansas\n",
            "ground_truth_query: SELECT COUNT(Total) AS Total FROM table_name WHERE County = 'Rooks County, Kansas'\n",
            "model_answer: SELECT COUNT(*) AS Total FROM table_name WHERE County = 'Rooks County' AND State =\n",
            "----------------------------------------\n",
            "natural_languge: In which district was the incumbent Dick Saslaw?\n",
            "ground_truth_query: SELECT District FROM my_table WHERE Incumbent = 'Dick Saslaw';\n",
            "model_answer: SELECT District FROM my_table WHERE Incumbent = 'Dick Saslaw';\n",
            "\n",
            "----------------------------------------\n",
            "natural_languge: What was the 2007 result in the district where the incumbent was elected in 1996?\n",
            "ground_truth_query: SELECT Result FROM table WHERE Elected = 1996;\n",
            "model_answer: SELECT Result AS \"2007 Result\" FROM table_name WHERE Elected = 19\n",
            "----------------------------------------\n",
            "natural_languge: What was the 2007 result in the 28th district?\n",
            "ground_truth_query: SELECT Result FROM table_name WHERE District = 28;\n",
            "model_answer: SELECT \"Result\" FROM \"table_name\" WHERE \"District\" = 28 AND \"\n",
            "----------------------------------------\n",
            "natural_languge: In what district was the incumbent Charles Hawkins?\n",
            "ground_truth_query: SELECT District FROM table_name WHERE Incumbent = 'Charles Hawkins';\n",
            "model_answer: SELECT District FROM YourTableName WHERE Incumbent = 'Charles Hawkins';\n",
            "\n",
            "----------------------------------------\n",
            "natural_languge: What's the number of the game played on March 26?\n",
            "ground_truth_query: SELECT max(MAX) AS Game FROM table_name WHERE Date = '2023-03-26' FORMAT TSV.\n",
            "model_answer: SELECT MAX(Game) FROM games WHERE Date = 'March 26';\n",
            "\n",
            "----------------------------------------\n",
            "natural_languge: How many different values if the number is high rebounds can be found for the game on March 13?\n",
            "ground_truth_query: SELECT COUNT(rebounds) AS High_rebounds FROM table_name WHERE Date = '2023-03-13';\n",
            "model_answer: SELECT COUNT(High_rebounds) FROM table_name WHERE Date = '2023\n",
            "----------------------------------------\n",
            "natural_languge: Who ihad the highest points and what was the number when the record was 11-40?\n",
            "ground_truth_query: SELECT High_points FROM table WHERE Record BETWEEN 11 AND 40;\n",
            "model_answer: SELECT High_points FROM my_table WHERE Record BETWEEN 11 AND 40;\n",
            "----------------------------------------\n",
            "natural_languge: Who did the Raptors play when their record was 45-36?\n",
            "ground_truth_query: SELECT Team FROM table WHERE Record = 45-36;\n",
            "model_answer: SELECT Team FROM table WHERE Record = '45-36';\n",
            "\n",
            "----------------------------------------\n",
            "natural_languge: What number game of the season was played on April 12?\n",
            "ground_truth_query: SELECT max(Game) FROM tablename WHERE Date = '2023-04-12' FORMAT TabSeparated;\n",
            "model_answer: SELECT MAX(Game) FROM table_name WHERE Date = '2024-04\n",
            "----------------------------------------\n",
            "natural_languge: How many votes were cast in Wayne county?\n",
            "ground_truth_query: SELECT MAX(Total) AS max_total FROM table_name WHERE County = 'Wayne'\n",
            "model_answer: SELECT MAX(Total) AS \"Max Total\" FROM table_name WHERE County = 'Wayne';\n",
            "----------------------------------------\n",
            "natural_languge: In the county where Bush won 77.76%, how many total votes were cast?\n",
            "ground_truth_query: SELECT Total, Hash FROM table WHERE Hash = '77.76%'\n",
            "model_answer: SELECT \"Total\" FROM table_name WHERE \"Bush\" = 77.76;\n",
            "----------------------------------------\n",
            "natural_languge: In the country where Bush won 4333 votes, what percentage did other receive?\n",
            "ground_truth_query: SELECT Other, Bush FROM table WHERE Bush = 4333;\n",
            "model_answer: SELECT name, age, email FROM my_table WHERE id = 4333;\n",
            "----------------------------------------\n",
            "natural_languge: Who was the TO winning team when the TU winning team was Joe Richardson?\n",
            "ground_truth_query: SELECT WinningTeam FROM table WHERE WinningTeam = 'Joe Richardson';\n",
            "model_answer: SELECT team_name FROM teams WHERE captain_name = 'Joe Richardson';\n",
            "\n",
            "----------------------------------------\n"
          ]
        }
      ]
    },
    {
      "cell_type": "markdown",
      "source": [
        "## Генерация all_dialects"
      ],
      "metadata": {
        "id": "oaUFA_mfO-15"
      }
    },
    {
      "cell_type": "code",
      "source": [
        "print_model_vs_correct_answer(all_dialects_converter, combined_dataset_test.select(range(50)))"
      ],
      "metadata": {
        "colab": {
          "base_uri": "https://localhost:8080/"
        },
        "id": "K9T_kKAD5mhz",
        "outputId": "e4595fd5-af6b-42be-d7de-7320d52b0bce"
      },
      "execution_count": null,
      "outputs": [
        {
          "output_type": "stream",
          "name": "stdout",
          "text": [
            "natural_languge: What was the location and attendance when the team's record was 16-44?\n",
            "ground_truth_query: SELECT Location, Attendance FROM my_table WHERE Record = '16-44'\n",
            "model_answer: 16-44 SELECT Location, Attendance FROM table_name WHERE Record = '16-\n",
            "----------------------------------------\n",
            "natural_languge: What day was the game at chicago?\n",
            "ground_truth_query: SELECT Date FROM table WHERE Team = 'Chicago';\n",
            "model_answer: 10000000000000000000\n",
            "----------------------------------------\n",
            "natural_languge: Who were the high point scorers in game 7?\n",
            "ground_truth_query: SELECT High_points FROM table_name WHERE Game = 7;\n",
            "model_answer: SELECT High_points FROM table WHERE Game = 7;\n",
            "\n",
            "----------------------------------------\n",
            "natural_languge: Who had the high rebound total against golden state?\n",
            "ground_truth_query: SELECT Rebounds FROM nba_stats WHERE Team = 'Golden State';\n",
            "model_answer: 1 SELECT High, rebounds FROM table_name WHERE Team = 'Golden State';\n",
            "\n",
            "----------------------------------------\n",
            "natural_languge: how many times have there been helps by damon stoudamire (13)\n",
            "ground_truth_query: SELECT COUNT(*) FROM table WHERE High_assists = 'Damon Stoudamire (13)';\n",
            "model_answer: 1 SELECT COUNT(player_id) FROM players WHERE assists = 13 AND player_name\n",
            "----------------------------------------\n",
            "natural_languge: who made the recovers where the score is 12-30\n",
            "ground_truth_query: SELECT High, rebounds FROM table_name WHERE Record = '2023-12-30'\n",
            "model_answer: 12-30 SELECT rebounds FROM players WHERE Record = '12-30';\n",
            "----------------------------------------\n",
            "natural_languge: tell who made the most scores on new jersey\n",
            "ground_truth_query: SELECT High_points FROM table_name WHERE Team = 'New Jersey'\n",
            "model_answer: 10000000000000000000\n",
            "----------------------------------------\n",
            "natural_languge: how many times was the participation at omni coliseum 7,194?\n",
            "ground_truth_query: SELECT Game FROM clickhouse_table WHERE Location = 'Omni Coliseum' AND Attendance = 7194;\n",
            "model_answer: 1 SELECT Game FROM table WHERE Location = 'Omni Coliseum' AND Attendance = 7194\n",
            "----------------------------------------\n",
            "natural_languge: The minimum average number of dancers is 34.1 how many times\n",
            "ground_truth_query: SELECT min(Number) as Number_of_dances FROM table_name WHERE Average = 34.1;\n",
            "model_answer: 1 SELECT MIN(number_of_dances) FROM dances WHERE average = 34.\n",
            "----------------------------------------\n",
            "natural_languge: What is the Number of dances is 11 and competition finish is larger than 2.0 total\n",
            "ground_truth_query: SELECT total FROM dance_competition WHERE number_of_dances = 11 AND competition_finish > 2.0;\n",
            "model_answer: 1 SELECT Total FROM DanceCompetition WHERE NumberOfDances = 11 AND CompetitionFinish >\n",
            "----------------------------------------\n",
            "natural_languge: Who is the club that has 30 points?\n",
            "ground_truth_query: SELECT Club FROM table WHERE Points = 30;\n",
            "model_answer: SELECT ClubName FROM Clubs WHERE Points = 30;\n",
            "\n",
            "----------------------------------------\n",
            "natural_languge: What were all the tries for when the try bonus was 8?\n",
            "ground_truth_query: SELECT Tries, For FROM table WHERE Try_bonus = 8;\n",
            "model_answer: SELECT Tries, For_column FROM base_table WHERE Try_bonus = 8;\n",
            "\n",
            "----------------------------------------\n",
            "natural_languge: What were the points for when there were 30 tries against?\n",
            "ground_truth_query: SELECT Points, for_column FROM ClickHouse_Table WHERE Tries = 30 AND against_column = 30;\n",
            "model_answer: 10000000000000000000\n",
            "----------------------------------------\n",
            "natural_languge: How many numbers were recorded points against when the tries were for 43?\n",
            "ground_truth_query: SELECT COUNT(Points) AS Points_against FROM table WHERE Tries = 43;\n",
            "model_answer: SELECT COUNT(Points) AS Points_against FROM TableName WHERE Tries = 43;\n",
            "----------------------------------------\n",
            "natural_languge: What are the tries against when points against 287?\n",
            "ground_truth_query: SELECT Tries FROM table WHERE Points = 287;\n",
            "model_answer: SELECT tries_against FROM Players WHERE points_against = 287;\n",
            "\n",
            "----------------------------------------\n",
            "natural_languge: What were all the points for Tonyrefail RFC?\n",
            "ground_truth_query: SELECT Points, for FROM ClickHouse_table WHERE Club = 'Tonyrefail RFC';\n",
            "model_answer: 10000000000000000000\n",
            "----------------------------------------\n",
            "natural_languge: Pink cytoplasm is seen in a test that specifically stains what?\n",
            "ground_truth_query: SELECT Specifically_stains FROM my_table WHERE Cytoplasm = 'Pink';\n",
            "model_answer: 1 SELECT Stains FROM table_name WHERE Cytoplasm = 'Pink';\n",
            "\n",
            "----------------------------------------\n",
            "natural_languge: How many cytoplasms result in a blue nucleus?\n",
            "ground_truth_query: SELECT COUNT(Cytoplasm) FROM table WHERE Nucleus = 'Blue'\n",
            "model_answer: 1 SELECT COUNT(Cytoplasm) FROM table WHERE Nucleus = 'Blue';\n",
            "\n",
            "----------------------------------------\n",
            "natural_languge: A nucleus that is blue/black will specifically stain what?\n",
            "ground_truth_query: SELECT Specifically_stains FROM my_table WHERE Nucleus = 'Blue/black';\n",
            "model_answer: 1 SELECT Stains FROM table WHERE Nucleus = 'Blue/black'\n",
            "\n",
            "----------------------------------------\n",
            "natural_languge: The pink cytoplasm will have a nucleus of what color?\n",
            "ground_truth_query: SELECT Nucleus FROM table WHERE Cytoplasm = 'Pink';\n",
            "model_answer: 1 SELECT Nucleus FROM table WHERE Cytoplasm = 'Pink';\n",
            "\n",
            "----------------------------------------\n",
            "natural_languge: What stain is used commonly for elastic fibers?\n",
            "ground_truth_query: SELECT Stain FROM table_name WHERE Common_use = 'Elastic fibers'\n",
            "model_answer: SELECT Stain FROM \"table\" WHERE Common_use = 'Elastic fibers';\n",
            "\n",
            "----------------------------------------\n",
            "natural_languge: where is hte second place winner from united kingdom?\n",
            "ground_truth_query: SELECT Winner FROM table WHERE Second_place = 'United Kingdom';\n",
            "model_answer: 1 SELECT Winner FROM competition_results WHERE SecondPlace = 'United Kingdom';\n",
            "\n",
            "----------------------------------------\n",
            "natural_languge: how many locations has spain as the winner?\n",
            "ground_truth_query: SELECT COUNT(Location) FROM table WHERE Winner = 'Spain';\n",
            "model_answer: 1 SELECT COUNT(Location) FROM Results WHERE Winner = 'Spain';\n",
            "\n",
            "----------------------------------------\n",
            "natural_languge: who is the artist performing at heineken music hall?\n",
            "ground_truth_query: SELECT Artist FROM my_table WHERE Venue = 'Heineken Music Hall';\n",
            "model_answer: 1 SELECT Artist FROM Concerts WHERE Venue = 'Heineken Music Hall';\n",
            "\n",
            "----------------------------------------\n",
            "natural_languge: what amount has spain as second place and the language is russian?\n",
            "ground_truth_query: SELECT COUNT(Margin) FROM table WHERE Second_place = 'Spain' AND Language = 'Russian'\n",
            "model_answer: 10000000000000000000\n",
            "----------------------------------------\n",
            "natural_languge: how many Curtiss XBTC aircraft are retired?\n",
            "ground_truth_query: SELECT count(Retired) FROM table WHERE Aircraft_type = 'Curtiss XBTC' FORMAT TabSeparated.\n",
            "model_answer: 10000000000000000000\n",
            "----------------------------------------\n",
            "natural_languge: How many Airspeed Fleet Shadower aircraft are retired?\n",
            "ground_truth_query: SELECT Retired FROM my_table WHERE Aircraft_type = 'Airspeed Fleet Shadower';\n",
            "model_answer: 10000000000000000000\n",
            "----------------------------------------\n",
            "natural_languge: What is the origin of aircraft in service in 1943 and retired in 1954?\n",
            "ground_truth_query: SELECT National_Origin FROM table WHERE Retired = 1954 AND In_Service = 1943;\n",
            "model_answer: 1943 SELECT National_Origin FROM my_table WHERE Retired = 1954\n",
            "----------------------------------------\n",
            "natural_languge: Who was the winner when the time was 1:24.00?\n",
            "ground_truth_query: SELECT Winner, Second FROM table WHERE Time = 84.00;\n",
            "model_answer: 1.24.00.000000000000\n",
            "----------------------------------------\n",
            "natural_languge: How many results were there for the Stan Fox Stakes race?\n",
            "ground_truth_query: SELECT COUNT(Result) FROM table WHERE Race = 'Stan Fox Stakes';\n",
            "model_answer: 1 SELECT COUNT(Result) FROM table_name WHERE Race = 'Stan Fox Stakes';\n",
            "\n",
            "----------------------------------------\n",
            "natural_languge: Was the rosehill venue a win or loss?\n",
            "ground_truth_query: SELECT Result FROM table WHERE Venue = 'Rosehill'\n",
            "model_answer: 1 SELECT Result FROM table WHERE Venue = 'Rosehill';\n",
            "\n",
            "----------------------------------------\n",
            "natural_languge: what is the minimum total with kerry % being 16.71%\n",
            "ground_truth_query: SELECT MIN(Total) FROM my_table WHERE Kerry LIKE '16.71%'\n",
            "model_answer: 16.71\n",
            "\n",
            "----------------------------------------\n",
            "natural_languge: what is the minimum kerry # with bush % being 78.40%\n",
            "ground_truth_query: SELECT min(Kerry) FROM table_name WHERE Bush = 78.40;\n",
            "model_answer: 10000000000000000000\n",
            "----------------------------------------\n",
            "natural_languge: what's the kerry # with county being ness county, kansas\n",
            "ground_truth_query: SELECT Kerry FROM table_name WHERE County = 'Ness County, Kansas';\n",
            "model_answer: 1 SELECT name FROM my_table WHERE county = 'Ness County, Kansas';\n",
            "\n",
            "----------------------------------------\n",
            "natural_languge: how many total with bush # being 1552\n",
            "ground_truth_query: SELECT COUNT(*) AS Total FROM table WHERE Bush = 1552;\n",
            "model_answer: SELECT COUNT(*) AS Total FROM table WHERE ID = 1552;\n",
            "\n",
            "----------------------------------------\n",
            "natural_languge: what is the minimum bush # with kerry # being 3938\n",
            "ground_truth_query: SELECT min(Bush_min) FROM table_name WHERE Kerry = 3938;\n",
            "model_answer: 10000000000000000000\n",
            "----------------------------------------\n",
            "natural_languge: how many total with county being rooks county, kansas\n",
            "ground_truth_query: SELECT COUNT(Total) AS Total FROM table_name WHERE County = 'Rooks County, Kansas'\n",
            "model_answer: 1 SELECT COUNT(Total) as Total FROM table_name WHERE County = 'Rooks County'\n",
            "----------------------------------------\n",
            "natural_languge: In which district was the incumbent Dick Saslaw?\n",
            "ground_truth_query: SELECT District FROM my_table WHERE Incumbent = 'Dick Saslaw';\n",
            "model_answer: 10000000000000000000\n",
            "----------------------------------------\n",
            "natural_languge: What was the 2007 result in the district where the incumbent was elected in 1996?\n",
            "ground_truth_query: SELECT Result FROM table WHERE Elected = 1996;\n",
            "model_answer: SELECT Result FROM table WHERE Elected = 1996;\n",
            "\n",
            "----------------------------------------\n",
            "natural_languge: What was the 2007 result in the 28th district?\n",
            "ground_truth_query: SELECT Result FROM table_name WHERE District = 28;\n",
            "model_answer: 2007 SELECT Result FROM table_name WHERE District = 28 AND Year =\n",
            "----------------------------------------\n",
            "natural_languge: In what district was the incumbent Charles Hawkins?\n",
            "ground_truth_query: SELECT District FROM table_name WHERE Incumbent = 'Charles Hawkins';\n",
            "model_answer: 1 SELECT District FROM table WHERE Incumbent = 'Charles Hawkins';\n",
            "\n",
            "----------------------------------------\n",
            "natural_languge: What's the number of the game played on March 26?\n",
            "ground_truth_query: SELECT max(MAX) AS Game FROM table_name WHERE Date = '2023-03-26' FORMAT TSV.\n",
            "model_answer: 1 SELECT MAX(Game) FROM TableName WHERE Date = 'March 26';\n",
            "\n",
            "----------------------------------------\n",
            "natural_languge: How many different values if the number is high rebounds can be found for the game on March 13?\n",
            "ground_truth_query: SELECT COUNT(rebounds) AS High_rebounds FROM table_name WHERE Date = '2023-03-13';\n",
            "model_answer: 1 SELECT COUNT(Rebounds) AS High_rebounds FROM table WHERE Date = 'March\n",
            "----------------------------------------\n",
            "natural_languge: Who ihad the highest points and what was the number when the record was 11-40?\n",
            "ground_truth_query: SELECT High_points FROM table WHERE Record BETWEEN 11 AND 40;\n",
            "model_answer: 11-40 SELECT High_points FROM table_name WHERE Record BETWEEN 11 AND\n",
            "----------------------------------------\n",
            "natural_languge: Who did the Raptors play when their record was 45-36?\n",
            "ground_truth_query: SELECT Team FROM table WHERE Record = 45-36;\n",
            "model_answer: 45-36 SELECT TeamName FROM teams WHERE Record = '45-36';\n",
            "----------------------------------------\n",
            "natural_languge: What number game of the season was played on April 12?\n",
            "ground_truth_query: SELECT max(Game) FROM tablename WHERE Date = '2023-04-12' FORMAT TabSeparated;\n",
            "model_answer: 12.04.2020.000000000\n",
            "----------------------------------------\n",
            "natural_languge: How many votes were cast in Wayne county?\n",
            "ground_truth_query: SELECT MAX(Total) AS max_total FROM table_name WHERE County = 'Wayne'\n",
            "model_answer: SELECT MAX(Total) as Total FROM my_table WHERE County = 'Wayne';\n",
            "\n",
            "----------------------------------------\n",
            "natural_languge: In the county where Bush won 77.76%, how many total votes were cast?\n",
            "ground_truth_query: SELECT Total, Hash FROM table WHERE Hash = '77.76%'\n",
            "model_answer: SELECT Total FROM table WHERE Bush = 77.76;\n",
            "\n",
            "----------------------------------------\n",
            "natural_languge: In the country where Bush won 4333 votes, what percentage did other receive?\n",
            "ground_truth_query: SELECT Other, Bush FROM table WHERE Bush = 4333;\n",
            "model_answer: 100.0000000000000000\n",
            "----------------------------------------\n",
            "natural_languge: Who was the TO winning team when the TU winning team was Joe Richardson?\n",
            "ground_truth_query: SELECT WinningTeam FROM table WHERE WinningTeam = 'Joe Richardson';\n",
            "model_answer: 10000000000000000000\n",
            "----------------------------------------\n"
          ]
        }
      ]
    },
    {
      "cell_type": "markdown",
      "source": [
        "Вывод: модель обученная на корпусе со всеми диалектами за такое же количество ресурсов и время, работает намного хуже, чем модели, которые обучались на решение конретных задаче. В дипломной работе рассмотреныпримеры"
      ],
      "metadata": {
        "id": "gKbwoalC6f7W"
      }
    }
  ]
}